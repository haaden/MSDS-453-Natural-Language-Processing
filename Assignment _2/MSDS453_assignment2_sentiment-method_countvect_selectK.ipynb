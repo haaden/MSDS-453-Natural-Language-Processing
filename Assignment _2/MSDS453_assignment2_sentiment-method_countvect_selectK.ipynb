{
 "cells": [
  {
   "cell_type": "markdown",
   "metadata": {},
   "source": [
    "<img src=\"https://github.com/djp840/MSDS_453_Public/blob/main/images/NorthwesternHeader.png?raw=1\">"
   ]
  },
  {
   "cell_type": "markdown",
   "metadata": {},
   "source": [
    "## MSDS453 - Research Assignment 01 - First Vectorized Representation"
   ]
  },
  {
   "cell_type": "markdown",
   "metadata": {},
   "source": [
    "\n",
    "Our goal in this exercise is to BEGIN coming to a common agreement, among this class, as to what terms we will use as we selectively refine our corpus-wide vocabulary. This corpus vocabulary is what would represent the content of each different document for clustering and classification purposes, which will be our next step. This means that we need to make decisions - what is in, what is out."
   ]
  },
  {
   "cell_type": "markdown",
   "metadata": {},
   "source": [
    "### Importing Packages"
   ]
  },
  {
   "cell_type": "code",
   "execution_count": 91,
   "metadata": {},
   "outputs": [],
   "source": [
    "import pandas as pd\n",
    "import os\n",
    "import numpy as np\n",
    "import re\n",
    "import string\n",
    "from packaging import version\n",
    "\n",
    "from numpy import array\n",
    "from numpy import argmax\n",
    "\n",
    "import seaborn as sns\n",
    "import matplotlib.pyplot as plt\n",
    "from matplotlib import pyplot\n",
    "\n",
    "import nltk\n",
    "from nltk.corpus import stopwords\n",
    "from nltk.stem import PorterStemmer\n",
    "from nltk.tokenize import word_tokenize \n",
    "from nltk.tokenize import RegexpTokenizer\n",
    "from nltk.stem.wordnet import WordNetLemmatizer\n",
    "from nltk import ngrams, FreqDist\n",
    "from rake_nltk import Rake\n",
    "\n",
    "from sklearn.feature_extraction.text import TfidfVectorizer\n",
    "from sklearn.cluster import KMeans, AgglomerativeClustering\n",
    "from sklearn.metrics.pairwise import cosine_similarity\n",
    "from sklearn.decomposition import TruncatedSVD, LatentDirichletAllocation\n",
    "from sklearn.svm import SVC\n",
    "from sklearn.preprocessing import LabelEncoder, OneHotEncoder\n",
    "from sklearn.ensemble import RandomForestClassifier\n",
    "from sklearn.metrics import roc_auc_score, accuracy_score, confusion_matrix\n",
    "from sklearn.model_selection import cross_val_score, StratifiedKFold\n",
    "from sklearn.tree import DecisionTreeClassifier\n",
    "from sklearn.naive_bayes import MultinomialNB\n",
    "from sklearn.linear_model import LogisticRegression\n",
    "from sklearn.ensemble import RandomForestClassifier\n",
    "from sklearn.metrics import accuracy_score\n",
    "from sklearn.model_selection import train_test_split, KFold\n",
    "from sklearn.manifold import MDS\n",
    "from sklearn.metrics.pairwise import cosine_similarity\n",
    "from matplotlib import pyplot\n",
    "from sklearn.cluster import DBSCAN\n",
    "from sklearn.metrics import plot_confusion_matrix\n",
    "\n",
    "\n",
    "from sklearn.feature_extraction.text import TfidfVectorizer\n",
    "from sklearn.feature_extraction.text import CountVectorizer\n",
    "from sklearn.metrics.pairwise import cosine_similarity\n",
    "from sklearn.cluster import KMeans\n",
    "from sklearn.manifold import MDS\n",
    "from sklearn.preprocessing import LabelEncoder, OneHotEncoder\n",
    "from sklearn.ensemble import RandomForestClassifier\n",
    "from sklearn.metrics import roc_auc_score, accuracy_score, confusion_matrix, silhouette_score\n",
    "from sklearn.model_selection import cross_val_score, StratifiedKFold\n",
    "from sklearn.tree import DecisionTreeClassifier\n",
    "from sklearn.model_selection import train_test_split, KFold\n",
    "from sklearn.manifold import TSNE\n",
    "from sklearn.decomposition import PCA\n",
    "from sklearn.decomposition import TruncatedSVD as SVD\n",
    "from sklearn.metrics import confusion_matrix\n",
    "from sklearn.metrics import roc_curve, auc\n",
    "from sklearn.svm import SVC\n",
    "from sklearn.metrics import classification_report\n",
    "import scikitplot as skplt\n",
    "from sklearn.metrics import precision_recall_curve\n",
    "from sklearn.metrics import f1_score\n",
    "\n",
    "\n",
    "import gensim\n",
    "\n",
    "from gensim.models import Word2Vec,LdaMulticore, TfidfModel, CoherenceModel\n",
    "from gensim import corpora\n",
    "from gensim import similarities\n",
    "from gensim.models.doc2vec import Doc2Vec, TaggedDocument\n",
    "from gensim import corpora\n",
    "from gensim.models import LsiModel,LdaModel"
   ]
  },
  {
   "cell_type": "markdown",
   "metadata": {},
   "source": [
    "<div class=\"alert alert-block alert-danger\">\n",
    "<b>Gensim</b> is a Python library for topic modelling, document indexing and similarity retrieval with large corpora. Target audience is the natural language processing (NLP) and information retrieval (IR) community <br><br>\n",
    "    <b>https://pypi.org/project/gensim/ </b>\n",
    "</div>"
   ]
  },
  {
   "cell_type": "code",
   "execution_count": 92,
   "metadata": {},
   "outputs": [],
   "source": [
    "import pkg_resources\n",
    "pkg_resources.require(\"gensim<=3.8.3\");"
   ]
  },
  {
   "cell_type": "code",
   "execution_count": 93,
   "metadata": {},
   "outputs": [
    {
     "name": "stdout",
     "output_type": "stream",
     "text": [
      "Genism Version:  3.8.3\n"
     ]
    }
   ],
   "source": [
    "print(\"Genism Version: \", gensim.__version__)"
   ]
  },
  {
   "cell_type": "markdown",
   "metadata": {},
   "source": [
    "### NLTK Downloads"
   ]
  },
  {
   "cell_type": "code",
   "execution_count": 94,
   "metadata": {
    "scrolled": true
   },
   "outputs": [
    {
     "name": "stderr",
     "output_type": "stream",
     "text": [
      "[nltk_data] Downloading package stopwords to\n",
      "[nltk_data]     C:\\Users\\hag8665\\AppData\\Roaming\\nltk_data...\n",
      "[nltk_data]   Package stopwords is already up-to-date!\n",
      "[nltk_data] Downloading package wordnet to\n",
      "[nltk_data]     C:\\Users\\hag8665\\AppData\\Roaming\\nltk_data...\n",
      "[nltk_data]   Package wordnet is already up-to-date!\n",
      "[nltk_data] Downloading package punkt to\n",
      "[nltk_data]     C:\\Users\\hag8665\\AppData\\Roaming\\nltk_data...\n",
      "[nltk_data]   Package punkt is already up-to-date!\n"
     ]
    },
    {
     "data": {
      "text/plain": [
       "True"
      ]
     },
     "execution_count": 94,
     "metadata": {},
     "output_type": "execute_result"
    }
   ],
   "source": [
    "# Only run this once, they will be downloaded.\n",
    "nltk.download('stopwords')\n",
    "nltk.download('wordnet')\n",
    "nltk.download('punkt')"
   ]
  },
  {
   "cell_type": "code",
   "execution_count": 95,
   "metadata": {},
   "outputs": [],
   "source": [
    "import warnings\n",
    "warnings.filterwarnings('ignore')"
   ]
  },
  {
   "cell_type": "markdown",
   "metadata": {},
   "source": [
    "### Create List of Stop Words from NLTK"
   ]
  },
  {
   "cell_type": "code",
   "execution_count": 96,
   "metadata": {},
   "outputs": [],
   "source": [
    "stop_words = set(stopwords.words(\"english\"))"
   ]
  },
  {
   "cell_type": "code",
   "execution_count": null,
   "metadata": {},
   "outputs": [],
   "source": []
  },
  {
   "cell_type": "markdown",
   "metadata": {},
   "source": [
    "### Mount Google Drive to Colab Environment"
   ]
  },
  {
   "cell_type": "code",
   "execution_count": 97,
   "metadata": {},
   "outputs": [],
   "source": [
    "#from google.colab import drive\n",
    "#drive.mount('/content/gdrive')"
   ]
  },
  {
   "cell_type": "markdown",
   "metadata": {},
   "source": [
    "### One-hot Encoding Example "
   ]
  },
  {
   "cell_type": "code",
   "execution_count": 98,
   "metadata": {},
   "outputs": [
    {
     "name": "stdout",
     "output_type": "stream",
     "text": [
      "['ginsburg' 'RBG' 'justice' 'ginsburg']\n",
      "[1 0 2 1]\n",
      "[[0. 1. 0.]\n",
      " [1. 0. 0.]\n",
      " [0. 0. 1.]\n",
      " [0. 1. 0.]]\n"
     ]
    }
   ],
   "source": [
    "# define example\n",
    "data = ['ginsburg', 'RBG', 'justice', 'ginsburg']\n",
    "values = array(data)\n",
    "print(values)\n",
    "# integer encode\n",
    "label_encoder = LabelEncoder()\n",
    "integer_encoded = label_encoder.fit_transform(values)\n",
    "print(integer_encoded)\n",
    "# binary encode\n",
    "onehot_encoder = OneHotEncoder(sparse=False)\n",
    "integer_encoded = integer_encoded.reshape(len(integer_encoded), 1)\n",
    "onehot_encoded = onehot_encoder.fit_transform(integer_encoded)\n",
    "print(onehot_encoded)\n",
    "# invert first example\n",
    "#print(onehot_encoded[0, :])\n",
    "inverted = label_encoder.inverse_transform([argmax(onehot_encoded[0, :])])\n",
    "#print(inverted)"
   ]
  },
  {
   "cell_type": "markdown",
   "metadata": {},
   "source": [
    "## NLP Data Functions"
   ]
  },
  {
   "cell_type": "markdown",
   "metadata": {},
   "source": [
    "### Pre-process dataset to remove punctuation"
   ]
  },
  {
   "cell_type": "code",
   "execution_count": 99,
   "metadata": {},
   "outputs": [],
   "source": [
    "def remove_punctuation(in_text):\n",
    "    # Remove punctuation\n",
    "    text = re.sub('[^a-zA-Z]', ' ', str(in_text))\n",
    "    return text"
   ]
  },
  {
   "cell_type": "markdown",
   "metadata": {},
   "source": [
    "### Pre-process dataset to lower case it"
   ]
  },
  {
   "cell_type": "code",
   "execution_count": 100,
   "metadata": {},
   "outputs": [],
   "source": [
    "def lower_case(in_text):\n",
    "    # Convert to lowercase\n",
    "    text = in_text.lower()    \n",
    "    return text"
   ]
  },
  {
   "cell_type": "markdown",
   "metadata": {},
   "source": [
    "### Pre-process dataset to remove tags"
   ]
  },
  {
   "cell_type": "code",
   "execution_count": 101,
   "metadata": {},
   "outputs": [],
   "source": [
    "def remove_tags(in_text):    \n",
    "    # Remove tags\n",
    "    text=re.sub(\"&lt;/?.*?&gt;\",\" &lt;&gt; \",in_text)\n",
    "    return text"
   ]
  },
  {
   "cell_type": "markdown",
   "metadata": {},
   "source": [
    "### Pre-process dataset to remove special characters and digits"
   ]
  },
  {
   "cell_type": "code",
   "execution_count": 102,
   "metadata": {},
   "outputs": [],
   "source": [
    "\n",
    "def remove_special_chars_and_digits(in_text):\n",
    "    # Remove special characters and digits\n",
    "    text=re.sub(\"(\\\\d|\\\\W)+\",\" \",in_text)\n",
    "    return text\n"
   ]
  },
  {
   "cell_type": "markdown",
   "metadata": {},
   "source": [
    "### Pre-process dataset to appy Stemming"
   ]
  },
  {
   "cell_type": "code",
   "execution_count": 103,
   "metadata": {},
   "outputs": [],
   "source": [
    "def apply_stemming(in_text):\n",
    "    stemmer=PorterStemmer()\n",
    "    word_list = nltk.word_tokenize(in_text)\n",
    "    output = ' '.join([stemmer.stem(w) for w in word_list])\n",
    "    return output"
   ]
  },
  {
   "cell_type": "markdown",
   "metadata": {},
   "source": [
    "### Pre-process dataset to apply Lemmatization"
   ]
  },
  {
   "cell_type": "code",
   "execution_count": 104,
   "metadata": {},
   "outputs": [],
   "source": [
    "def apply_lemmatization(in_text):\n",
    "    # Lemmatization\n",
    "    lem = WordNetLemmatizer()\n",
    "    word_list = nltk.word_tokenize(in_text)\n",
    "    output = ' '.join([lem.lemmatize(w) for w in word_list])\n",
    "    return output"
   ]
  },
  {
   "cell_type": "markdown",
   "metadata": {},
   "source": [
    "### Remove stop words"
   ]
  },
  {
   "cell_type": "code",
   "execution_count": 105,
   "metadata": {},
   "outputs": [],
   "source": [
    "def remove_stop_words(in_text):\n",
    "    stop_words = set(stopwords.words('english')) \n",
    "    word_tokens = word_tokenize(in_text)  \n",
    "    filtered_sentence = [w for w in word_tokens if not w in stop_words] \n",
    "#     filtered_sentence = [] \n",
    "#     for w in word_tokens: \n",
    "#         if w not in stop_words: \n",
    "#             filtered_sentence.append(w) \n",
    "\n",
    "    return filtered_sentence"
   ]
  },
  {
   "cell_type": "markdown",
   "metadata": {},
   "source": [
    "### Run Phase Machine"
   ]
  },
  {
   "cell_type": "code",
   "execution_count": 106,
   "metadata": {},
   "outputs": [],
   "source": [
    "def run_phrase_machine(in_text):\n",
    "    phrases=phrasemachine.get_phrases(in_text)\n",
    "    return phrases"
   ]
  },
  {
   "cell_type": "markdown",
   "metadata": {},
   "source": [
    "### Run Rake Keyword Extractor"
   ]
  },
  {
   "cell_type": "code",
   "execution_count": 107,
   "metadata": {},
   "outputs": [],
   "source": [
    "def run_rake(in_text):\n",
    "    r = Rake()\n",
    "    r.extract_keywords_from_text(in_text)\n",
    "    rake_phrases= r.get_ranked_phrases()\n",
    "    return rake_phrases"
   ]
  },
  {
   "cell_type": "markdown",
   "metadata": {},
   "source": [
    "### Run NLTK Tokenizer"
   ]
  },
  {
   "cell_type": "code",
   "execution_count": 108,
   "metadata": {},
   "outputs": [],
   "source": [
    "def run_nltk_tokenizer(in_text):\n",
    "    tokens=nltk.word_tokenize(in_text)\n",
    "    return tokens"
   ]
  },
  {
   "cell_type": "markdown",
   "metadata": {},
   "source": [
    "### Run NLTK Sentence Tokenizer"
   ]
  },
  {
   "cell_type": "code",
   "execution_count": 109,
   "metadata": {},
   "outputs": [],
   "source": [
    "def run_nltk_sent_tokenizer(in_corpus):\n",
    "    sents = nltk.sent_tokenize(in_corpus)\n",
    "    return sents"
   ]
  },
  {
   "cell_type": "markdown",
   "metadata": {},
   "source": [
    "### Run word-ngram Tokenizer"
   ]
  },
  {
   "cell_type": "code",
   "execution_count": 110,
   "metadata": {},
   "outputs": [],
   "source": [
    "def run_nltk_tokenizer_word_ngrams(in_text, ngram_size):\n",
    "    n_grams = ngrams(nltk.word_tokenize(in_text), ngram_size)\n",
    "    return [ ' '.join(grams) for grams in n_grams]"
   ]
  },
  {
   "cell_type": "markdown",
   "metadata": {},
   "source": [
    "### Get Frequency Distribution "
   ]
  },
  {
   "cell_type": "code",
   "execution_count": 111,
   "metadata": {},
   "outputs": [],
   "source": [
    "def get_freq_dist(terms):\n",
    "    all_counts = dict()\n",
    "    all_counts[size] = FreqDist(terms)\n",
    "    return all_counts"
   ]
  },
  {
   "cell_type": "markdown",
   "metadata": {},
   "source": [
    "### Processing Text into Lists"
   ]
  },
  {
   "cell_type": "code",
   "execution_count": 112,
   "metadata": {},
   "outputs": [],
   "source": [
    "def get_corpus(path_to_file):\n",
    "    #read in class corpus csv into python\n",
    "    data=pd.read_csv(path_to_file)\n",
    "\n",
    "    #create empty list to store text documents titles\n",
    "    titles=[]\n",
    "    docids=[]\n",
    "    #for loop which appends the DSI title to the titles list\n",
    "    for i in range(0,len(data)):\n",
    "        docids.append(data['Doc_ID'].iloc[i])\n",
    "\n",
    "    #for loop which appends the DSI title to the titles list\n",
    "    for i in range(0,len(data)):\n",
    "        titles.append(data['DSI_Title'].iloc[i])\n",
    "\n",
    "    #create empty list to store text documents\n",
    "    text_body=[]\n",
    "\n",
    "    #for loop which appends the text to the text_body list\n",
    "    for i in range(0,len(data)):\n",
    "        temp_text=data['Text'].iloc[i]\n",
    "        temp_text=clean_doc(temp_text)\n",
    "        temp_text = ' '.join(map(str, temp_text))\n",
    "        text_body.append(temp_text)\n",
    "    return (docids,titles,text_body)"
   ]
  },
  {
   "cell_type": "markdown",
   "metadata": {},
   "source": [
    "#  <font color='red'> methods3 for data wragling remove punctuation,stop words ,lemitization, lower and remove non alphabets"
   ]
  },
  {
   "cell_type": "markdown",
   "metadata": {},
   "source": [
    "# function for data wrangling "
   ]
  },
  {
   "cell_type": "code",
   "execution_count": 113,
   "metadata": {},
   "outputs": [],
   "source": [
    "# method 3 remove punctutaion  , stopwords and lemetization, lower and keep character\n",
    "\n",
    "\n",
    "def clean_doc(doc): \n",
    "    \n",
    "    \n",
    "    \n",
    "    doc= remove_punctuation(doc)\n",
    "    doc = lower_case(doc)\n",
    "    #remove stop word\n",
    "    doc = ' '.join(remove_stop_words(doc))\n",
    "    #apply lemitization\n",
    "    doc = apply_lemmatization(doc)\n",
    "    #doc = ' '.join(run_rake(doc))\n",
    "    #apply stemming\n",
    "    #doc = apply_stemming(doc)\n",
    "    #split document into individual words\n",
    "    tokens= doc.split()   \n",
    "    #tokens = list(filter(None, doc))\n",
    "    re_punc = re.compile('[%s]' % re.escape(string.punctuation))\n",
    "    #remove remaining tokens that are not alphabetic\n",
    "   \n",
    "\n",
    "    #remove punctuation from each word\n",
    "    tokens = [re_punc.sub('', w) for w in tokens]\n",
    "    tokens = [word for word in tokens if word.isalpha()]\n",
    "    tokens = [word.lower() for word in tokens]\n",
    "\n",
    "    return tokens"
   ]
  },
  {
   "cell_type": "markdown",
   "metadata": {},
   "source": [
    "#  <font color='red'> Functions to get  word2vec, doc2vec and  visualize documents"
   ]
  },
  {
   "cell_type": "code",
   "execution_count": 114,
   "metadata": {},
   "outputs": [],
   "source": [
    "def process_corpus(data):\n",
    "        \n",
    "    #create empty list to store text documents titles\n",
    "    titles=[]\n",
    "    \n",
    "    #for loop which appends the DSI title to the titles list\n",
    "    for i in range(0,len(data)):\n",
    "        temp_text=data['DSI_Title'].iloc[i]\n",
    "        titles.append(temp_text)\n",
    "    \n",
    "    #create empty list to store text documents\n",
    "    text_body=[]\n",
    "    \n",
    "    #for loop which appends the text to the text_body list\n",
    "    for i in range(0,len(data)):\n",
    "        temp_text=data['Text'].iloc[i]\n",
    "        text_body.append(temp_text)\n",
    "    \n",
    "    #Note: the text_body is the unprocessed list of documents read directly form \n",
    "    #the csv.\n",
    "        \n",
    "    #empty list to store processed documents\n",
    "    processed_text=[]\n",
    "    #for loop to process the text to the processed_text list\n",
    "    for i in text_body:\n",
    "        text=clean_doc(i)\n",
    "        processed_text.append(text)\n",
    "    \n",
    "    #Note: the processed_text is the PROCESSED list of documents read directly form \n",
    "    #the csv.  Note the list of words is separated by commas.\n",
    "    \n",
    "    \n",
    "    #stitch back together individual words to reform body of text\n",
    "    final_processed_text=[]\n",
    "    \n",
    "    for i in processed_text:\n",
    "        temp_DSI=i[0]\n",
    "        for k in range(1,len(i)):\n",
    "            temp_DSI=temp_DSI+' '+i[k]\n",
    "        final_processed_text.append(temp_DSI)\n",
    "    \n",
    "    return titles, final_processed_text, processed_text\n",
    "\n",
    "def run_doc2vec(final_processed_text, processed_text):\n",
    "    #create doc2vec matrix\n",
    "    documents = [TaggedDocument(doc, [i]) for i, doc in enumerate(final_processed_text)]\n",
    "    model = Doc2Vec(documents, vector_size=300, window=3, min_count=2, workers=4)    \n",
    "    \n",
    "    doc2vec_df=pd.DataFrame()\n",
    "    for i in range(0,len(processed_text)):\n",
    "        vector=pd.DataFrame(model.infer_vector(processed_text[i])).transpose()\n",
    "        doc2vec_df=pd.concat([doc2vec_df,vector], axis=0)\n",
    "        \n",
    "    return doc2vec_df\n",
    "\n",
    "def run_word2vec(processed_text):\n",
    "\n",
    "    #word to vec model\n",
    "    model_w2v = Word2Vec(processed_text, size=300, window=3, min_count=2, workers=4)\n",
    "    \n",
    "    labels = []\n",
    "    tokens = []\n",
    "\n",
    "    for word in model_w2v.wv.vocab:\n",
    "        tokens.append(model_w2v[word])\n",
    "        labels.append(word)\n",
    "    \n",
    "    \n",
    "    return labels, tokens, model_w2v\n",
    "\n",
    "\n",
    "    "
   ]
  },
  {
   "cell_type": "markdown",
   "metadata": {},
   "source": [
    "### Processing Text into Lists for tfidf"
   ]
  },
  {
   "cell_type": "markdown",
   "metadata": {},
   "source": [
    "### Source Class Corpus  "
   ]
  },
  {
   "cell_type": "code",
   "execution_count": 115,
   "metadata": {
    "scrolled": false
   },
   "outputs": [],
   "source": [
    "path_to_file='C://Users//hag8665//Desktop//MSDS 453//Assignment_1//Class_Corpus_v2.csv'\n",
    "docids,titles,text=get_corpus(path_to_file)\n"
   ]
  },
  {
   "cell_type": "markdown",
   "metadata": {},
   "source": [
    "### Retreive Word Count Frequencies "
   ]
  },
  {
   "cell_type": "code",
   "execution_count": 116,
   "metadata": {
    "scrolled": true
   },
   "outputs": [
    {
     "data": {
      "text/html": [
       "<div>\n",
       "<style scoped>\n",
       "    .dataframe tbody tr th:only-of-type {\n",
       "        vertical-align: middle;\n",
       "    }\n",
       "\n",
       "    .dataframe tbody tr th {\n",
       "        vertical-align: top;\n",
       "    }\n",
       "\n",
       "    .dataframe thead th {\n",
       "        text-align: right;\n",
       "    }\n",
       "</style>\n",
       "<table border=\"1\" class=\"dataframe\">\n",
       "  <thead>\n",
       "    <tr style=\"text-align: right;\">\n",
       "      <th></th>\n",
       "      <th>word</th>\n",
       "      <th>counts</th>\n",
       "    </tr>\n",
       "  </thead>\n",
       "  <tbody>\n",
       "    <tr>\n",
       "      <th>5197</th>\n",
       "      <td>film</td>\n",
       "      <td>1165</td>\n",
       "    </tr>\n",
       "    <tr>\n",
       "      <th>8880</th>\n",
       "      <td>movie</td>\n",
       "      <td>1026</td>\n",
       "    </tr>\n",
       "    <tr>\n",
       "      <th>9411</th>\n",
       "      <td>one</td>\n",
       "      <td>808</td>\n",
       "    </tr>\n",
       "    <tr>\n",
       "      <th>7910</th>\n",
       "      <td>like</td>\n",
       "      <td>667</td>\n",
       "    </tr>\n",
       "    <tr>\n",
       "      <th>13899</th>\n",
       "      <td>time</td>\n",
       "      <td>458</td>\n",
       "    </tr>\n",
       "    <tr>\n",
       "      <th>2164</th>\n",
       "      <td>character</td>\n",
       "      <td>424</td>\n",
       "    </tr>\n",
       "    <tr>\n",
       "      <th>8225</th>\n",
       "      <td>make</td>\n",
       "      <td>414</td>\n",
       "    </tr>\n",
       "    <tr>\n",
       "      <th>5761</th>\n",
       "      <td>get</td>\n",
       "      <td>412</td>\n",
       "    </tr>\n",
       "    <tr>\n",
       "      <th>13081</th>\n",
       "      <td>story</td>\n",
       "      <td>361</td>\n",
       "    </tr>\n",
       "    <tr>\n",
       "      <th>4742</th>\n",
       "      <td>even</td>\n",
       "      <td>355</td>\n",
       "    </tr>\n",
       "  </tbody>\n",
       "</table>\n",
       "</div>"
      ],
      "text/plain": [
       "            word  counts\n",
       "5197        film    1165\n",
       "8880       movie    1026\n",
       "9411         one     808\n",
       "7910        like     667\n",
       "13899       time     458\n",
       "2164   character     424\n",
       "8225        make     414\n",
       "5761         get     412\n",
       "13081      story     361\n",
       "4742        even     355"
      ]
     },
     "execution_count": 116,
     "metadata": {},
     "output_type": "execute_result"
    }
   ],
   "source": [
    "vectorizer = CountVectorizer(ngram_range = (1,1))\n",
    "matrix=vectorizer.fit_transform(text)     \n",
    "\n",
    "#creating datafram from TFIDF Matrix\n",
    "words = vectorizer.get_feature_names()\n",
    "matrix=pd.DataFrame(matrix.toarray(), columns=words, index=titles)\n",
    "frequencies = matrix.sum().transpose().reset_index()\n",
    "frequencies.columns = ['word', 'counts']\n",
    "frequencies.sort_values(\"counts\",ascending = False , inplace =True)\n",
    "frequencies.head(10)"
   ]
  },
  {
   "cell_type": "code",
   "execution_count": null,
   "metadata": {},
   "outputs": [],
   "source": []
  },
  {
   "cell_type": "markdown",
   "metadata": {},
   "source": [
    "# get and create data for word2vec and doc2vec"
   ]
  },
  {
   "cell_type": "code",
   "execution_count": 117,
   "metadata": {},
   "outputs": [],
   "source": [
    "data = pd.read_csv(path_to_file)"
   ]
  },
  {
   "cell_type": "markdown",
   "metadata": {},
   "source": [
    "### Create Word and Document Embedding"
   ]
  },
  {
   "cell_type": "code",
   "execution_count": 118,
   "metadata": {},
   "outputs": [],
   "source": [
    "#cleans text to get processed text\n",
    "titles, final_processed_text, processed_text = process_corpus(data)"
   ]
  },
  {
   "cell_type": "markdown",
   "metadata": {},
   "source": [
    "# <font color='red'> method word2vec =300"
   ]
  },
  {
   "cell_type": "code",
   "execution_count": 119,
   "metadata": {},
   "outputs": [],
   "source": [
    "#word to vec\n",
    "model_w2v = Word2Vec(processed_text, size=300, window=5, min_count=1, workers=4)\n",
    "\n",
    "#join all processed DSI words into single list\n",
    "processed_text_w2v=[]\n",
    "for i in processed_text:\n",
    "    for k in i:\n",
    "        processed_text_w2v.append(k)\n"
   ]
  },
  {
   "cell_type": "code",
   "execution_count": null,
   "metadata": {},
   "outputs": [],
   "source": []
  },
  {
   "cell_type": "code",
   "execution_count": 120,
   "metadata": {},
   "outputs": [
    {
     "data": {
      "text/plain": [
       "film            0.018052\n",
       "like            0.017109\n",
       "one             0.016660\n",
       "movie           0.016551\n",
       "character       0.016008\n",
       "                  ...   \n",
       "invited        -0.000115\n",
       "gruesomeness   -0.000117\n",
       "magrittean     -0.000134\n",
       "bleakness      -0.000185\n",
       "impacted       -0.000269\n",
       "Length: 15498, dtype: float32"
      ]
     },
     "execution_count": 120,
     "metadata": {},
     "output_type": "execute_result"
    }
   ],
   "source": [
    "\n",
    "#obtian all the unique words from DSI\n",
    "w2v_words=list(set(processed_text_w2v))\n",
    "\n",
    "#can also use the get_feature_names() from TFIDF to get the list of words\n",
    "#w2v_words=Tfidf.get_feature_names()\n",
    "\n",
    "#empty dictionary to store words with vectors\n",
    "w2v_vectors={}\n",
    "\n",
    "#for loop to obtain weights for each word\n",
    "for i in w2v_words:\n",
    "    temp_vec=model_w2v.wv[i]\n",
    "    w2v_vectors[i]=temp_vec\n",
    "\n",
    "#create a final dataframe to view word vectors\n",
    "w2v_df=pd.DataFrame(w2v_vectors).transpose()\n",
    "\n",
    "w2v_df.T.mean().sort_values( ascending = False)"
   ]
  },
  {
   "cell_type": "code",
   "execution_count": 121,
   "metadata": {},
   "outputs": [
    {
     "data": {
      "text/plain": [
       "15498"
      ]
     },
     "execution_count": 121,
     "metadata": {},
     "output_type": "execute_result"
    }
   ],
   "source": [
    "len(w2v_vectors)"
   ]
  },
  {
   "cell_type": "markdown",
   "metadata": {},
   "source": [
    "#   <font color='red'> method doc2vec is 300 "
   ]
  },
  {
   "cell_type": "markdown",
   "metadata": {},
   "source": [
    "### Create Doc2Vec Embedding"
   ]
  },
  {
   "cell_type": "code",
   "execution_count": 122,
   "metadata": {},
   "outputs": [
    {
     "data": {
      "text/html": [
       "<div>\n",
       "<style scoped>\n",
       "    .dataframe tbody tr th:only-of-type {\n",
       "        vertical-align: middle;\n",
       "    }\n",
       "\n",
       "    .dataframe tbody tr th {\n",
       "        vertical-align: top;\n",
       "    }\n",
       "\n",
       "    .dataframe thead th {\n",
       "        text-align: right;\n",
       "    }\n",
       "</style>\n",
       "<table border=\"1\" class=\"dataframe\">\n",
       "  <thead>\n",
       "    <tr style=\"text-align: right;\">\n",
       "      <th></th>\n",
       "      <th>title</th>\n",
       "      <th>0</th>\n",
       "      <th>1</th>\n",
       "      <th>2</th>\n",
       "      <th>3</th>\n",
       "      <th>4</th>\n",
       "      <th>5</th>\n",
       "      <th>6</th>\n",
       "      <th>7</th>\n",
       "      <th>8</th>\n",
       "      <th>...</th>\n",
       "      <th>290</th>\n",
       "      <th>291</th>\n",
       "      <th>292</th>\n",
       "      <th>293</th>\n",
       "      <th>294</th>\n",
       "      <th>295</th>\n",
       "      <th>296</th>\n",
       "      <th>297</th>\n",
       "      <th>298</th>\n",
       "      <th>299</th>\n",
       "    </tr>\n",
       "  </thead>\n",
       "  <tbody>\n",
       "    <tr>\n",
       "      <th>0</th>\n",
       "      <td>HAG_Doc1_Frozen2</td>\n",
       "      <td>0.000898</td>\n",
       "      <td>0.000851</td>\n",
       "      <td>0.000372</td>\n",
       "      <td>-0.001245</td>\n",
       "      <td>0.000731</td>\n",
       "      <td>0.000981</td>\n",
       "      <td>0.001431</td>\n",
       "      <td>0.000693</td>\n",
       "      <td>0.000213</td>\n",
       "      <td>...</td>\n",
       "      <td>-0.001464</td>\n",
       "      <td>-0.000831</td>\n",
       "      <td>-0.001389</td>\n",
       "      <td>-0.000259</td>\n",
       "      <td>-0.000054</td>\n",
       "      <td>-0.001159</td>\n",
       "      <td>0.000468</td>\n",
       "      <td>-0.001210</td>\n",
       "      <td>0.000265</td>\n",
       "      <td>-0.000575</td>\n",
       "    </tr>\n",
       "    <tr>\n",
       "      <th>1</th>\n",
       "      <td>HAG_Doc2_Frozen2</td>\n",
       "      <td>-0.000587</td>\n",
       "      <td>-0.000228</td>\n",
       "      <td>0.001368</td>\n",
       "      <td>-0.000328</td>\n",
       "      <td>-0.000054</td>\n",
       "      <td>-0.000853</td>\n",
       "      <td>0.002065</td>\n",
       "      <td>-0.002389</td>\n",
       "      <td>0.003033</td>\n",
       "      <td>...</td>\n",
       "      <td>0.001650</td>\n",
       "      <td>-0.003459</td>\n",
       "      <td>-0.001788</td>\n",
       "      <td>-0.003114</td>\n",
       "      <td>0.000094</td>\n",
       "      <td>-0.000517</td>\n",
       "      <td>0.005068</td>\n",
       "      <td>-0.000982</td>\n",
       "      <td>0.000001</td>\n",
       "      <td>0.000711</td>\n",
       "    </tr>\n",
       "    <tr>\n",
       "      <th>2</th>\n",
       "      <td>HAG_Doc3_Frozen2</td>\n",
       "      <td>0.008604</td>\n",
       "      <td>-0.000412</td>\n",
       "      <td>-0.004246</td>\n",
       "      <td>0.014773</td>\n",
       "      <td>0.006230</td>\n",
       "      <td>-0.004013</td>\n",
       "      <td>0.008807</td>\n",
       "      <td>-0.011775</td>\n",
       "      <td>0.006246</td>\n",
       "      <td>...</td>\n",
       "      <td>0.011287</td>\n",
       "      <td>-0.023908</td>\n",
       "      <td>-0.006323</td>\n",
       "      <td>-0.029622</td>\n",
       "      <td>-0.001888</td>\n",
       "      <td>0.004421</td>\n",
       "      <td>0.047763</td>\n",
       "      <td>-0.013886</td>\n",
       "      <td>0.012569</td>\n",
       "      <td>0.011504</td>\n",
       "    </tr>\n",
       "    <tr>\n",
       "      <th>3</th>\n",
       "      <td>HAG_Doc4_Frozen2</td>\n",
       "      <td>-0.000623</td>\n",
       "      <td>0.001577</td>\n",
       "      <td>-0.001370</td>\n",
       "      <td>-0.001281</td>\n",
       "      <td>-0.001471</td>\n",
       "      <td>0.000301</td>\n",
       "      <td>-0.000313</td>\n",
       "      <td>0.000874</td>\n",
       "      <td>0.000557</td>\n",
       "      <td>...</td>\n",
       "      <td>-0.000261</td>\n",
       "      <td>-0.000250</td>\n",
       "      <td>-0.001030</td>\n",
       "      <td>-0.001153</td>\n",
       "      <td>-0.001616</td>\n",
       "      <td>-0.000844</td>\n",
       "      <td>-0.001592</td>\n",
       "      <td>0.000695</td>\n",
       "      <td>0.000905</td>\n",
       "      <td>-0.001468</td>\n",
       "    </tr>\n",
       "    <tr>\n",
       "      <th>4</th>\n",
       "      <td>HAG_Doc5_Frozen2</td>\n",
       "      <td>0.010215</td>\n",
       "      <td>0.003163</td>\n",
       "      <td>-0.017445</td>\n",
       "      <td>0.024842</td>\n",
       "      <td>0.010943</td>\n",
       "      <td>-0.000155</td>\n",
       "      <td>0.010267</td>\n",
       "      <td>-0.013950</td>\n",
       "      <td>0.006849</td>\n",
       "      <td>...</td>\n",
       "      <td>0.011685</td>\n",
       "      <td>-0.020360</td>\n",
       "      <td>0.000119</td>\n",
       "      <td>-0.033460</td>\n",
       "      <td>-0.003890</td>\n",
       "      <td>-0.000091</td>\n",
       "      <td>0.035653</td>\n",
       "      <td>-0.007103</td>\n",
       "      <td>0.006641</td>\n",
       "      <td>0.010196</td>\n",
       "    </tr>\n",
       "    <tr>\n",
       "      <th>5</th>\n",
       "      <td>HAG_Doc6_Frozen2</td>\n",
       "      <td>0.000298</td>\n",
       "      <td>-0.001769</td>\n",
       "      <td>0.001954</td>\n",
       "      <td>-0.000475</td>\n",
       "      <td>0.001558</td>\n",
       "      <td>-0.001336</td>\n",
       "      <td>0.000772</td>\n",
       "      <td>-0.000164</td>\n",
       "      <td>0.000065</td>\n",
       "      <td>...</td>\n",
       "      <td>-0.000608</td>\n",
       "      <td>-0.000461</td>\n",
       "      <td>-0.001310</td>\n",
       "      <td>-0.001353</td>\n",
       "      <td>-0.001486</td>\n",
       "      <td>0.001875</td>\n",
       "      <td>0.002327</td>\n",
       "      <td>-0.000348</td>\n",
       "      <td>0.001168</td>\n",
       "      <td>0.001707</td>\n",
       "    </tr>\n",
       "    <tr>\n",
       "      <th>6</th>\n",
       "      <td>HAG_Doc7_Frozen2</td>\n",
       "      <td>0.001898</td>\n",
       "      <td>0.001307</td>\n",
       "      <td>-0.000268</td>\n",
       "      <td>0.002307</td>\n",
       "      <td>0.001656</td>\n",
       "      <td>-0.000913</td>\n",
       "      <td>0.001160</td>\n",
       "      <td>-0.002710</td>\n",
       "      <td>0.000663</td>\n",
       "      <td>...</td>\n",
       "      <td>0.002342</td>\n",
       "      <td>-0.003196</td>\n",
       "      <td>0.000414</td>\n",
       "      <td>-0.003352</td>\n",
       "      <td>-0.001532</td>\n",
       "      <td>0.001437</td>\n",
       "      <td>0.007018</td>\n",
       "      <td>-0.002321</td>\n",
       "      <td>0.002424</td>\n",
       "      <td>0.001738</td>\n",
       "    </tr>\n",
       "    <tr>\n",
       "      <th>7</th>\n",
       "      <td>HAG_Doc8_Frozen2</td>\n",
       "      <td>0.001036</td>\n",
       "      <td>-0.000425</td>\n",
       "      <td>-0.001703</td>\n",
       "      <td>-0.001035</td>\n",
       "      <td>-0.001060</td>\n",
       "      <td>-0.000801</td>\n",
       "      <td>-0.000534</td>\n",
       "      <td>-0.000710</td>\n",
       "      <td>0.000053</td>\n",
       "      <td>...</td>\n",
       "      <td>0.000262</td>\n",
       "      <td>0.000287</td>\n",
       "      <td>-0.000682</td>\n",
       "      <td>-0.000124</td>\n",
       "      <td>0.001044</td>\n",
       "      <td>-0.000576</td>\n",
       "      <td>0.001215</td>\n",
       "      <td>0.001396</td>\n",
       "      <td>0.000172</td>\n",
       "      <td>0.000246</td>\n",
       "    </tr>\n",
       "    <tr>\n",
       "      <th>8</th>\n",
       "      <td>HAG_Doc9_Frozen2</td>\n",
       "      <td>-0.000887</td>\n",
       "      <td>-0.001663</td>\n",
       "      <td>-0.000869</td>\n",
       "      <td>-0.000897</td>\n",
       "      <td>0.001232</td>\n",
       "      <td>-0.000747</td>\n",
       "      <td>-0.000384</td>\n",
       "      <td>-0.000344</td>\n",
       "      <td>-0.000879</td>\n",
       "      <td>...</td>\n",
       "      <td>0.000852</td>\n",
       "      <td>0.000074</td>\n",
       "      <td>-0.000583</td>\n",
       "      <td>-0.001535</td>\n",
       "      <td>0.000987</td>\n",
       "      <td>-0.000381</td>\n",
       "      <td>-0.000512</td>\n",
       "      <td>0.001142</td>\n",
       "      <td>0.000840</td>\n",
       "      <td>0.001386</td>\n",
       "    </tr>\n",
       "    <tr>\n",
       "      <th>9</th>\n",
       "      <td>HAG_Doc10_Frozen2</td>\n",
       "      <td>0.000888</td>\n",
       "      <td>-0.001373</td>\n",
       "      <td>-0.001581</td>\n",
       "      <td>-0.000731</td>\n",
       "      <td>0.001213</td>\n",
       "      <td>-0.000102</td>\n",
       "      <td>-0.000558</td>\n",
       "      <td>-0.001629</td>\n",
       "      <td>0.001144</td>\n",
       "      <td>...</td>\n",
       "      <td>0.001134</td>\n",
       "      <td>-0.000620</td>\n",
       "      <td>-0.001476</td>\n",
       "      <td>0.001091</td>\n",
       "      <td>0.000110</td>\n",
       "      <td>0.000253</td>\n",
       "      <td>-0.000203</td>\n",
       "      <td>0.000913</td>\n",
       "      <td>-0.000339</td>\n",
       "      <td>0.000988</td>\n",
       "    </tr>\n",
       "  </tbody>\n",
       "</table>\n",
       "<p>10 rows × 301 columns</p>\n",
       "</div>"
      ],
      "text/plain": [
       "               title         0         1         2         3         4  \\\n",
       "0   HAG_Doc1_Frozen2  0.000898  0.000851  0.000372 -0.001245  0.000731   \n",
       "1   HAG_Doc2_Frozen2 -0.000587 -0.000228  0.001368 -0.000328 -0.000054   \n",
       "2   HAG_Doc3_Frozen2  0.008604 -0.000412 -0.004246  0.014773  0.006230   \n",
       "3   HAG_Doc4_Frozen2 -0.000623  0.001577 -0.001370 -0.001281 -0.001471   \n",
       "4   HAG_Doc5_Frozen2  0.010215  0.003163 -0.017445  0.024842  0.010943   \n",
       "5   HAG_Doc6_Frozen2  0.000298 -0.001769  0.001954 -0.000475  0.001558   \n",
       "6   HAG_Doc7_Frozen2  0.001898  0.001307 -0.000268  0.002307  0.001656   \n",
       "7   HAG_Doc8_Frozen2  0.001036 -0.000425 -0.001703 -0.001035 -0.001060   \n",
       "8   HAG_Doc9_Frozen2 -0.000887 -0.001663 -0.000869 -0.000897  0.001232   \n",
       "9  HAG_Doc10_Frozen2  0.000888 -0.001373 -0.001581 -0.000731  0.001213   \n",
       "\n",
       "          5         6         7         8  ...       290       291       292  \\\n",
       "0  0.000981  0.001431  0.000693  0.000213  ... -0.001464 -0.000831 -0.001389   \n",
       "1 -0.000853  0.002065 -0.002389  0.003033  ...  0.001650 -0.003459 -0.001788   \n",
       "2 -0.004013  0.008807 -0.011775  0.006246  ...  0.011287 -0.023908 -0.006323   \n",
       "3  0.000301 -0.000313  0.000874  0.000557  ... -0.000261 -0.000250 -0.001030   \n",
       "4 -0.000155  0.010267 -0.013950  0.006849  ...  0.011685 -0.020360  0.000119   \n",
       "5 -0.001336  0.000772 -0.000164  0.000065  ... -0.000608 -0.000461 -0.001310   \n",
       "6 -0.000913  0.001160 -0.002710  0.000663  ...  0.002342 -0.003196  0.000414   \n",
       "7 -0.000801 -0.000534 -0.000710  0.000053  ...  0.000262  0.000287 -0.000682   \n",
       "8 -0.000747 -0.000384 -0.000344 -0.000879  ...  0.000852  0.000074 -0.000583   \n",
       "9 -0.000102 -0.000558 -0.001629  0.001144  ...  0.001134 -0.000620 -0.001476   \n",
       "\n",
       "        293       294       295       296       297       298       299  \n",
       "0 -0.000259 -0.000054 -0.001159  0.000468 -0.001210  0.000265 -0.000575  \n",
       "1 -0.003114  0.000094 -0.000517  0.005068 -0.000982  0.000001  0.000711  \n",
       "2 -0.029622 -0.001888  0.004421  0.047763 -0.013886  0.012569  0.011504  \n",
       "3 -0.001153 -0.001616 -0.000844 -0.001592  0.000695  0.000905 -0.001468  \n",
       "4 -0.033460 -0.003890 -0.000091  0.035653 -0.007103  0.006641  0.010196  \n",
       "5 -0.001353 -0.001486  0.001875  0.002327 -0.000348  0.001168  0.001707  \n",
       "6 -0.003352 -0.001532  0.001437  0.007018 -0.002321  0.002424  0.001738  \n",
       "7 -0.000124  0.001044 -0.000576  0.001215  0.001396  0.000172  0.000246  \n",
       "8 -0.001535  0.000987 -0.000381 -0.000512  0.001142  0.000840  0.001386  \n",
       "9  0.001091  0.000110  0.000253 -0.000203  0.000913 -0.000339  0.000988  \n",
       "\n",
       "[10 rows x 301 columns]"
      ]
     },
     "execution_count": 122,
     "metadata": {},
     "output_type": "execute_result"
    }
   ],
   "source": [
    "documents = [TaggedDocument(doc, [i]) for i, doc in enumerate(final_processed_text)]\n",
    "model = Doc2Vec(documents, vector_size=300, window=2, min_count=1, workers=4)\n",
    "\n",
    "doc2vec_df=pd.DataFrame()\n",
    "for i in range(0,len(processed_text)):\n",
    "    vector=pd.DataFrame(model.infer_vector(processed_text[i])).transpose()\n",
    "    doc2vec_df=pd.concat([doc2vec_df,vector], axis=0)\n",
    "\n",
    "doc2vec_df=doc2vec_df.reset_index()\n",
    "\n",
    "doc_titles={'title': titles}\n",
    "t=pd.DataFrame(doc_titles)\n",
    "\n",
    "doc2vec_df=pd.concat([t, doc2vec_df], axis=1)\n",
    "\n",
    "doc2vec_df=doc2vec_df.drop('index', axis=1)\n",
    "\n",
    "doc2vec_df.head(10)"
   ]
  },
  {
   "cell_type": "code",
   "execution_count": 123,
   "metadata": {},
   "outputs": [
    {
     "data": {
      "text/plain": [
       "445"
      ]
     },
     "execution_count": 123,
     "metadata": {},
     "output_type": "execute_result"
    }
   ],
   "source": [
    "len(processed_text[248])"
   ]
  },
  {
   "cell_type": "markdown",
   "metadata": {},
   "source": [
    "### Functions Process Text and Create the Required TFIDF and Doc2vec Matrices"
   ]
  },
  {
   "cell_type": "code",
   "execution_count": 124,
   "metadata": {},
   "outputs": [],
   "source": [
    "# #functions used to \n",
    "# def clean_doc(doc): \n",
    "#     #split document into individual words\n",
    "#     tokens=doc.split()\n",
    "#     re_punc = re.compile('[%s]' % re.escape(string.punctuation))\n",
    "#     # remove punctuation from each word\n",
    "#     tokens = [re_punc.sub('', w) for w in tokens]\n",
    "#     # remove remaining tokens that are not alphabetic\n",
    "#     tokens = [word for word in tokens if word.isalpha()]\n",
    "#     # filter out short tokens\n",
    "#     tokens = [word for word in tokens if len(word) > 4]\n",
    "#     #lowercase all words\n",
    "#     tokens = [word.lower() for word in tokens]\n",
    "#     # filter out stop words\n",
    "#     stop_words = set(stopwords.words('english'))\n",
    "#     tokens = [w for w in tokens if not w in stop_words]         \n",
    "#     # word stemming    \n",
    "#     # ps=PorterStemmer()\n",
    "#     # tokens=[ps.stem(word) for word in tokens]\n",
    "#     return tokens\n",
    "\n",
    "# def final_processed_text(doc):\n",
    "#     #this is a function to join the processed text back\n",
    "#     ' '.join(doc)\n",
    "#     return doc\n",
    "\n",
    "def tfidf(corpus, titles, ngram_range = (1,1),  norm=None, lowercase=False):\n",
    "    #this is a function to created the tfidf matrix\n",
    "    Tfidf=TfidfVectorizer(ngram_range= ngram_range, norm= norm, lowercase=lowercase)\n",
    "\n",
    "    #fit the vectorizer using final processed documents.  The vectorizer requires the \n",
    "    #stiched back together document.\n",
    "\n",
    "    TFIDF_matrix=Tfidf.fit_transform(corpus)     \n",
    "\n",
    "    #creating datafram from TFIDF Matrix\n",
    "    words = Tfidf.get_feature_names()\n",
    "    matrix=pd.DataFrame(TFIDF_matrix.toarray(), columns=Tfidf.get_feature_names(), index=titles)\n",
    "    return matrix\n",
    "\n",
    "\n",
    "def One_Hot(variable):\n",
    "    #this is a function to one hot encode the classes\n",
    "    LE=LabelEncoder()\n",
    "    LE.fit(variable)\n",
    "    Label1=LE.transform(variable)\n",
    "    OHE=OneHotEncoder()\n",
    "    labels=OHE.fit_transform(Label1.reshape(-1,1)).toarray()\n",
    "    return labels\n",
    "\n"
   ]
  },
  {
   "cell_type": "markdown",
   "metadata": {},
   "source": [
    "### Load Data For Analysis"
   ]
  },
  {
   "cell_type": "code",
   "execution_count": 125,
   "metadata": {},
   "outputs": [],
   "source": [
    "#read in class corpus csv into python\n",
    "data=pd.read_csv('C://Users//hag8665//Desktop//MSDS 453//Assignment_1//Class_Corpus_v2.csv')"
   ]
  },
  {
   "cell_type": "markdown",
   "metadata": {},
   "source": [
    "### Load Data For Analysis"
   ]
  },
  {
   "cell_type": "code",
   "execution_count": 126,
   "metadata": {},
   "outputs": [],
   "source": [
    "#read in class corpus csv into python\n",
    "data=pd.read_csv('C://Users//hag8665//Desktop//MSDS 453//Assignment_1//Class_Corpus_v2.csv')"
   ]
  },
  {
   "cell_type": "code",
   "execution_count": null,
   "metadata": {},
   "outputs": [],
   "source": []
  },
  {
   "cell_type": "markdown",
   "metadata": {},
   "source": [
    "### Dataframe Store the Processed Text and Tokenized text"
   ]
  },
  {
   "cell_type": "code",
   "execution_count": 127,
   "metadata": {},
   "outputs": [],
   "source": [
    "#adding two columns to the dataframe to store the processed text and tokenized text\n",
    "data['processed_text'] = data['Text'].apply(lambda x: clean_doc(x))\n",
    "\n",
    "\n",
    "\n",
    "#creating final processed text variables for matrix creation\n",
    "final_processed_text = [' '.join(x) for x in data['processed_text'].tolist()]\n",
    "titles = data['DSI_Title'].tolist()\n",
    "processed_text = data['processed_text'].tolist()\n",
    "\n",
    "\n",
    "#generate tfidf for analysis\n",
    "tfidf_matrix = tfidf(final_processed_text, titles, ngram_range = (1,1))"
   ]
  },
  {
   "cell_type": "markdown",
   "metadata": {},
   "source": [
    "### Apply Labels "
   ]
  },
  {
   "cell_type": "code",
   "execution_count": 128,
   "metadata": {},
   "outputs": [],
   "source": [
    "labels = data['Review Type (pos or neg)'].apply(lambda x: 0 if x.lower().split(' ')[0] == 'negative' else 1)\n"
   ]
  },
  {
   "cell_type": "code",
   "execution_count": null,
   "metadata": {},
   "outputs": [],
   "source": []
  },
  {
   "cell_type": "markdown",
   "metadata": {},
   "source": [
    "# bog of word term frequency "
   ]
  },
  {
   "cell_type": "code",
   "execution_count": null,
   "metadata": {},
   "outputs": [],
   "source": []
  },
  {
   "cell_type": "code",
   "execution_count": 129,
   "metadata": {},
   "outputs": [],
   "source": [
    "import pandas as pd\n",
    "from sklearn.feature_extraction.text import CountVectorizer, TfidfVectorizer\n",
    " \n",
    "sentence_1=\"This is a good job.I will not miss it for anything\"\n",
    "sentence_2=\"This is not good at all\"\n",
    " \n",
    " \n",
    "#creating final processed text variables for matrix creation\n",
    "final_processed_text = [' '.join(x) for x in data['processed_text'].tolist()]\n",
    "\n",
    " \n",
    "CountVec = CountVectorizer(ngram_range=(1,1),binary=True) # to use bigrams ngram_range=(2,2)\n",
    "#transform\n",
    "Count_data = CountVec.fit_transform(final_processed_text)\n",
    "#Count_data = Count_data.todense()\n",
    "#create dataframe\n",
    "cv_dataframe=pd.DataFrame(Count_data.toarray(),columns=CountVec.get_feature_names())\n",
    "#print(cv_dataframe)"
   ]
  },
  {
   "cell_type": "code",
   "execution_count": 130,
   "metadata": {},
   "outputs": [
    {
     "data": {
      "text/plain": [
       "15479"
      ]
     },
     "execution_count": 130,
     "metadata": {},
     "output_type": "execute_result"
    }
   ],
   "source": [
    "len(CountVec.get_feature_names())"
   ]
  },
  {
   "cell_type": "code",
   "execution_count": 131,
   "metadata": {},
   "outputs": [],
   "source": [
    "# #Import TfidfTransformer class.\n",
    "# # TfidfTransformer transoforms count matrix to tf-idf representation.\n",
    "# from sklearn.feature_extraction.text import TfidfTransformer\n",
    "# tfidf_transformer = TfidfTransformer()\n",
    "\n",
    "# # fit_transform transforms count matrix to tf-idf representation(vector).\n",
    "# cv_tfidf = tfidf_transformer.fit_transform(Count_data)"
   ]
  },
  {
   "cell_type": "code",
   "execution_count": 132,
   "metadata": {},
   "outputs": [],
   "source": [
    "# cv_dataframe=pd.DataFrame(cv_tfidf.toarray(),columns=CountVec.get_feature_names())"
   ]
  },
  {
   "cell_type": "code",
   "execution_count": 133,
   "metadata": {},
   "outputs": [],
   "source": [
    "# PCA to  reduce dimensions"
   ]
  },
  {
   "cell_type": "code",
   "execution_count": 134,
   "metadata": {},
   "outputs": [],
   "source": [
    "# pca = PCA(n_components=0.95)"
   ]
  },
  {
   "cell_type": "code",
   "execution_count": 135,
   "metadata": {},
   "outputs": [],
   "source": [
    "# cv_dataframe = pca.fit_transform(cv_dataframe)"
   ]
  },
  {
   "cell_type": "markdown",
   "metadata": {},
   "source": [
    "# 4. Feature Selection via SelectFromModel"
   ]
  },
  {
   "cell_type": "code",
   "execution_count": 136,
   "metadata": {},
   "outputs": [],
   "source": [
    "from sklearn.feature_selection import SelectFromModel"
   ]
  },
  {
   "cell_type": "code",
   "execution_count": 137,
   "metadata": {},
   "outputs": [
    {
     "data": {
      "text/plain": [
       "SelectFromModel(estimator=RandomForestClassifier())"
      ]
     },
     "execution_count": 137,
     "metadata": {},
     "output_type": "execute_result"
    }
   ],
   "source": [
    "sel = SelectFromModel(RandomForestClassifier(n_estimators = 100))\n",
    "sel.fit(cv_dataframe, labels)"
   ]
  },
  {
   "cell_type": "code",
   "execution_count": 138,
   "metadata": {},
   "outputs": [
    {
     "data": {
      "text/plain": [
       "15479"
      ]
     },
     "execution_count": 138,
     "metadata": {},
     "output_type": "execute_result"
    }
   ],
   "source": [
    "len(sel.get_support())"
   ]
  },
  {
   "cell_type": "code",
   "execution_count": 139,
   "metadata": {},
   "outputs": [],
   "source": [
    "cv_dataframe= cv_dataframe[cv_dataframe.columns[(sel.get_support())]]\n"
   ]
  },
  {
   "cell_type": "code",
   "execution_count": 181,
   "metadata": {},
   "outputs": [
    {
     "data": {
      "text/plain": [
       "(249, 3261)"
      ]
     },
     "execution_count": 181,
     "metadata": {},
     "output_type": "execute_result"
    }
   ],
   "source": [
    "cv_dataframe.shape"
   ]
  },
  {
   "cell_type": "code",
   "execution_count": null,
   "metadata": {},
   "outputs": [],
   "source": []
  },
  {
   "cell_type": "markdown",
   "metadata": {},
   "source": [
    "# Functionto split data"
   ]
  },
  {
   "cell_type": "code",
   "execution_count": 140,
   "metadata": {},
   "outputs": [],
   "source": [
    "\n",
    "def split_data(x,y):\n",
    "    X_train, X_test, y_train, y_test = train_test_split(x, y, test_size=0.33, shuffle= True, stratify =labels, random_state=42)\n",
    "    return X_train, X_test, y_train, y_test\n"
   ]
  },
  {
   "cell_type": "markdown",
   "metadata": {},
   "source": [
    "# create data"
   ]
  },
  {
   "cell_type": "code",
   "execution_count": 141,
   "metadata": {},
   "outputs": [],
   "source": [
    "X_train, X_test, y_train, y_test= split_data(cv_dataframe,labels)"
   ]
  },
  {
   "cell_type": "code",
   "execution_count": 142,
   "metadata": {},
   "outputs": [],
   "source": [
    "def get_acc(model):\n",
    "    \n",
    "    predictions_t = model.predict(X_train)\n",
    "    train_acc = accuracy_score(y_train, predictions_t)\n",
    "    predictions = model.predict(X_test)\n",
    "    test_acc = accuracy_score(y_test, predictions)\n",
    "    \n",
    "    \n",
    "    f1 = f1_score(y_test, predictions)\n",
    "    return  test_acc, train_acc,f1"
   ]
  },
  {
   "cell_type": "code",
   "execution_count": 143,
   "metadata": {},
   "outputs": [],
   "source": [
    "def get_roc(model, proba=True):\n",
    "    if proba:\n",
    "        y_score = model.predict.proba(X_test)\n",
    "    else:\n",
    "        y_score = model.fit(X_train, y_train).decision_function(X_test)\n",
    "    # Compute fpr, tpr, thresholds and roc auc\n",
    "    fpr, tpr, thresholds = roc_curve(y_test, y_score)\n",
    "    roc_auc = auc(fpr, tpr)\n",
    "       \n",
    "\n",
    "    # Plot ROC curve\n",
    "    plt.plot(fpr, tpr, label='ROC curve (area = %0.3f)' % roc_auc)\n",
    "    plt.plot([0, 1], [0, 1], 'k--')  # random predictions curve\n",
    "    plt.xlim([0.0, 1.0])\n",
    "    plt.ylim([0.0, 1.0])\n",
    "    plt.xlabel('False Positive Rate or (1 - Specifity)')\n",
    "    plt.ylabel('True Positive Rate or (Sensitivity)')\n",
    "    plt.title('Receiver Operating Characteristic')\n",
    "    plt.legend(loc=\"lower right\")\n",
    "    plt.show() "
   ]
  },
  {
   "cell_type": "code",
   "execution_count": 144,
   "metadata": {},
   "outputs": [],
   "source": [
    "def acc_score(model= model, x_test= X_test,y_test= y_test):\n",
    "    return np.mean(cross_val_score(model,x_test,y_test,cv=k_fold,scoring=\"accuracy\"))"
   ]
  },
  {
   "cell_type": "code",
   "execution_count": 145,
   "metadata": {},
   "outputs": [],
   "source": [
    "def confusion_matrix_model(model_used = model, x_test= X_test,y_test= y_test):\n",
    "    cm=confusion_matrix(y_test,model_used.predict(x_test))\n",
    "    col=[\"Predicted Dead\",\"Predicted Survived\"]\n",
    "    cm=pd.DataFrame(cm)\n",
    "    cm.columns=[\"Predicted Dead\",\"Predicted Survived\"]\n",
    "    cm.index=[\"Actual Dead\",\"Actual Survived\"]\n",
    "    cm[col]=np.around(cm[col].div(cm[col].sum(axis=1),axis=0),decimals=2)\n",
    "    return cm"
   ]
  },
  {
   "cell_type": "code",
   "execution_count": 146,
   "metadata": {},
   "outputs": [],
   "source": [
    "def importance_of_features(model=model, x_train= X_train):\n",
    "    features = pd.DataFrame()\n",
    "    features['feature'] = x_train.columns\n",
    "    features['importance'] = model.feature_importances_\n",
    "    features.sort_values(by=['importance'], ascending=True, inplace=True)\n",
    "    features.set_index('feature', inplace=True)\n",
    "    return features.plot(kind='barh', figsize=(10,10))"
   ]
  },
  {
   "cell_type": "code",
   "execution_count": 147,
   "metadata": {},
   "outputs": [],
   "source": [
    "def aucscore(model=model, x_test=X_test, y_test= y_test,has_proba=True):\n",
    "    if has_proba:\n",
    "        fpr,tpr,thresh=skplt.metrics.roc_curve(y_test,model.predict_proba(x_test)[:,1])\n",
    "    else:\n",
    "        fpr,tpr,thresh=skplt.metrics.roc_curve(y_test,model.decision_function(x_test))\n",
    "    x=fpr\n",
    "    y=tpr\n",
    "    auc= skplt.metrics.auc(x,y)\n",
    "    return auc\n",
    "\n",
    "def plt_roc_curve(name,model=model, x_test= X_test,y_test= y_test,has_proba=True):\n",
    "    if has_proba:\n",
    "        fpr,tpr,thresh=skplt.metrics.roc_curve(y_test,model.predict_proba(x_test)[:,1])\n",
    "    else:\n",
    "        fpr,tpr,thresh=skplt.metrics.roc_curve(y_test,model.decision_function(x_test))\n",
    "    x=fpr\n",
    "    y=tpr\n",
    "    auc= skplt.metrics.auc(x,y)\n",
    "    plt.plot(x,y,label='ROC curve for %s (AUC = %0.2f)' % (name, auc))\n",
    "    plt.plot([0, 1], [0, 1], 'k--')\n",
    "    plt.xlim((0,1))\n",
    "    plt.ylim((0,1))\n",
    "    plt.xlabel(\"False Positive Rate\")\n",
    "    plt.ylabel(\"True Positive Rate\")\n",
    "    plt.title(\"ROC Curve\")\n",
    "    plt.legend(loc=\"lower right\")\n",
    "    plt.show()"
   ]
  },
  {
   "cell_type": "code",
   "execution_count": 148,
   "metadata": {},
   "outputs": [],
   "source": [
    "def conf_mat_n(model = model, x_test = X_test, y_test= y_test ):\n",
    "    skplt.metrics.plot_confusion_matrix(y_test, model.predict(x_test),normalize=True, figsize=(10,10))"
   ]
  },
  {
   "cell_type": "code",
   "execution_count": 149,
   "metadata": {},
   "outputs": [],
   "source": [
    "def conf_mat(model = model, x_test = X_test, y_test= y_test):\n",
    "    mtx = confusion_matrix(y_test, model.predict(x_test))\n",
    "    # define classes \n",
    "    classes = [\"negative\", \"postive\"]\n",
    "    temp_df = pd.DataFrame(data=mtx,columns=classes)\n",
    "    temp_df.index = classes\n",
    "    fig, ax = plt.subplots(figsize=(8,8))\n",
    "    sns.heatmap(temp_df, annot=True, fmt='d', linewidths=.75,  cbar=False, ax=ax,cmap='Blues',linecolor='white')\n",
    "    #  square=True,\n",
    "    plt.ylabel('true label')\n",
    "    plt.xlabel('predicted label')"
   ]
  },
  {
   "cell_type": "code",
   "execution_count": 150,
   "metadata": {},
   "outputs": [],
   "source": [
    "def plt_prc(name,model=model, x_test= X_test,y_test= y_test):\n",
    "\n",
    "    precision, recall, thresholds = precision_recall_curve(y_test, model.predict(x_test))\n",
    "    area = auc(recall, precision)\n",
    "    print (\"Area Under Curve: %0.2f\" % area)\n",
    "  \n",
    "\n",
    "    plt.clf()\n",
    "    plt.plot(recall, precision, label='Precision-Recall curve')\n",
    "    plt.xlabel('Recall')\n",
    "    plt.ylabel('Precision')\n",
    "    plt.ylim([0.0, 1.05])\n",
    "    plt.xlim([0.0, 1.0])\n",
    "    plt.title('Precision-Recall Logistic regression: PR-AUC=%0.2f' % area)\n",
    "    plt.legend(loc=\"lower left\")\n",
    "    plt.show()"
   ]
  },
  {
   "cell_type": "code",
   "execution_count": 151,
   "metadata": {},
   "outputs": [],
   "source": [
    "def cl_report(model = model, x_test = X_test, y_test= y_test ,x_train= X_train, y_train =y_train):\n",
    "    print(\"train: \\n\", classification_report(y_train, model.predict(x_train)), \"\\n\",\n",
    "          \"test: \\n\",  classification_report(y_test, model.predict(x_test)))"
   ]
  },
  {
   "cell_type": "code",
   "execution_count": null,
   "metadata": {},
   "outputs": [],
   "source": []
  },
  {
   "cell_type": "code",
   "execution_count": null,
   "metadata": {},
   "outputs": [],
   "source": []
  },
  {
   "cell_type": "markdown",
   "metadata": {},
   "source": [
    "### Support Vector Machines"
   ]
  },
  {
   "cell_type": "code",
   "execution_count": 152,
   "metadata": {},
   "outputs": [],
   "source": [
    "svm_model= SVC()\n",
    "svm_model = svm_model.fit(X_train,y_train)"
   ]
  },
  {
   "cell_type": "code",
   "execution_count": 153,
   "metadata": {},
   "outputs": [
    {
     "name": "stdout",
     "output_type": "stream",
     "text": [
      "train acc:  1.0 \n",
      " test acc:  0.6626506024096386 \n",
      " 0.7083333333333334\n"
     ]
    }
   ],
   "source": [
    "svm_test_acc, svm_train_acc ,f1 = get_acc(svm_model)\n",
    "\n",
    "print(\"train acc: \", svm_train_acc,\"\\n\", \"test acc: \",svm_test_acc ,\"\\n\", f1)"
   ]
  },
  {
   "cell_type": "markdown",
   "metadata": {},
   "source": [
    "### metrics"
   ]
  },
  {
   "cell_type": "code",
   "execution_count": 154,
   "metadata": {},
   "outputs": [
    {
     "data": {
      "image/png": "[encoded data removed]",
      "text/plain": [
       "<Figure size 432x288 with 1 Axes>"
      ]
     },
     "metadata": {
      "needs_background": "light"
     },
     "output_type": "display_data"
    }
   ],
   "source": [
    "plt_roc_curve(\"svm\",model = svm_model, has_proba=False)"
   ]
  },
  {
   "cell_type": "code",
   "execution_count": 155,
   "metadata": {},
   "outputs": [
    {
     "name": "stdout",
     "output_type": "stream",
     "text": [
      "Area Under Curve: 0.77\n"
     ]
    },
    {
     "data": {
      "image/png": "[encoded data removed]",
      "text/plain": [
       "<Figure size 432x288 with 1 Axes>"
      ]
     },
     "metadata": {
      "needs_background": "light"
     },
     "output_type": "display_data"
    }
   ],
   "source": [
    "plt_prc(\"svm\",model = svm_model)"
   ]
  },
  {
   "cell_type": "code",
   "execution_count": 156,
   "metadata": {},
   "outputs": [
    {
     "data": {
      "image/png": "[encoded data removed]",
      "text/plain": [
       "<Figure size 576x576 with 1 Axes>"
      ]
     },
     "metadata": {
      "needs_background": "light"
     },
     "output_type": "display_data"
    }
   ],
   "source": [
    "conf_mat(model=svm_model)"
   ]
  },
  {
   "cell_type": "code",
   "execution_count": 157,
   "metadata": {},
   "outputs": [
    {
     "data": {
      "image/png": "[encoded data removed]",
      "text/plain": [
       "<Figure size 720x720 with 2 Axes>"
      ]
     },
     "metadata": {
      "needs_background": "light"
     },
     "output_type": "display_data"
    }
   ],
   "source": [
    "conf_mat_n(model=svm_model)"
   ]
  },
  {
   "cell_type": "code",
   "execution_count": 158,
   "metadata": {},
   "outputs": [
    {
     "name": "stdout",
     "output_type": "stream",
     "text": [
      "train: \n",
      "               precision    recall  f1-score   support\n",
      "\n",
      "           0       1.00      1.00      1.00        83\n",
      "           1       1.00      1.00      1.00        83\n",
      "\n",
      "    accuracy                           1.00       166\n",
      "   macro avg       1.00      1.00      1.00       166\n",
      "weighted avg       1.00      1.00      1.00       166\n",
      " \n",
      " test: \n",
      "               precision    recall  f1-score   support\n",
      "\n",
      "           0       0.75      0.50      0.60        42\n",
      "           1       0.62      0.83      0.71        41\n",
      "\n",
      "    accuracy                           0.66        83\n",
      "   macro avg       0.68      0.66      0.65        83\n",
      "weighted avg       0.68      0.66      0.65        83\n",
      "\n"
     ]
    }
   ],
   "source": [
    "cl_report(model = svm_model)"
   ]
  },
  {
   "cell_type": "markdown",
   "metadata": {},
   "source": [
    "### Naive Bayes"
   ]
  },
  {
   "cell_type": "code",
   "execution_count": 159,
   "metadata": {},
   "outputs": [],
   "source": [
    "nb_model = MultinomialNB()\n",
    "nb_model = nb_model.fit(X_train,y_train)"
   ]
  },
  {
   "cell_type": "code",
   "execution_count": 160,
   "metadata": {},
   "outputs": [
    {
     "name": "stdout",
     "output_type": "stream",
     "text": [
      "train acc:  1.0 \n",
      " test acc:  0.7831325301204819 \n",
      " 0.7749999999999999\n"
     ]
    }
   ],
   "source": [
    "nb_test_acc, nb_train_acc ,f1= get_acc(nb_model)\n",
    "\n",
    "print(\"train acc: \", nb_train_acc,\"\\n\", \"test acc: \",nb_test_acc ,\"\\n\", f1)"
   ]
  },
  {
   "cell_type": "markdown",
   "metadata": {},
   "source": [
    "### metrics"
   ]
  },
  {
   "cell_type": "code",
   "execution_count": 161,
   "metadata": {},
   "outputs": [
    {
     "data": {
      "image/png": "[encoded data removed]",
      "text/plain": [
       "<Figure size 432x288 with 1 Axes>"
      ]
     },
     "metadata": {
      "needs_background": "light"
     },
     "output_type": "display_data"
    }
   ],
   "source": [
    "plt_roc_curve(\"NB\",model = nb_model, has_proba=True)"
   ]
  },
  {
   "cell_type": "code",
   "execution_count": 162,
   "metadata": {},
   "outputs": [
    {
     "name": "stdout",
     "output_type": "stream",
     "text": [
      "Area Under Curve: 0.84\n"
     ]
    },
    {
     "data": {
      "image/png": "[encoded data removed]",
      "text/plain": [
       "<Figure size 432x288 with 1 Axes>"
      ]
     },
     "metadata": {
      "needs_background": "light"
     },
     "output_type": "display_data"
    }
   ],
   "source": [
    "plt_prc(\"svm\",model = nb_model)"
   ]
  },
  {
   "cell_type": "code",
   "execution_count": 163,
   "metadata": {},
   "outputs": [
    {
     "data": {
      "image/png": "[encoded data removed]",
      "text/plain": [
       "<Figure size 576x576 with 1 Axes>"
      ]
     },
     "metadata": {
      "needs_background": "light"
     },
     "output_type": "display_data"
    }
   ],
   "source": [
    "conf_mat(model=nb_model)"
   ]
  },
  {
   "cell_type": "code",
   "execution_count": 164,
   "metadata": {},
   "outputs": [
    {
     "data": {
      "image/png": "[encoded data removed]",
      "text/plain": [
       "<Figure size 720x720 with 2 Axes>"
      ]
     },
     "metadata": {
      "needs_background": "light"
     },
     "output_type": "display_data"
    }
   ],
   "source": [
    "conf_mat_n(model=nb_model)"
   ]
  },
  {
   "cell_type": "code",
   "execution_count": 165,
   "metadata": {},
   "outputs": [
    {
     "name": "stdout",
     "output_type": "stream",
     "text": [
      "train: \n",
      "               precision    recall  f1-score   support\n",
      "\n",
      "           0       1.00      1.00      1.00        83\n",
      "           1       1.00      1.00      1.00        83\n",
      "\n",
      "    accuracy                           1.00       166\n",
      "   macro avg       1.00      1.00      1.00       166\n",
      "weighted avg       1.00      1.00      1.00       166\n",
      " \n",
      " test: \n",
      "               precision    recall  f1-score   support\n",
      "\n",
      "           0       0.77      0.81      0.79        42\n",
      "           1       0.79      0.76      0.77        41\n",
      "\n",
      "    accuracy                           0.78        83\n",
      "   macro avg       0.78      0.78      0.78        83\n",
      "weighted avg       0.78      0.78      0.78        83\n",
      "\n"
     ]
    }
   ],
   "source": [
    "cl_report(model = nb_model)"
   ]
  },
  {
   "cell_type": "markdown",
   "metadata": {},
   "source": [
    "### Random Forest"
   ]
  },
  {
   "cell_type": "code",
   "execution_count": 166,
   "metadata": {},
   "outputs": [],
   "source": [
    "rf_model = RandomForestClassifier(n_estimators=150,bootstrap=False,min_samples_leaf=4)\n",
    "rf_model = rf_model.fit(X_train,y_train)"
   ]
  },
  {
   "cell_type": "code",
   "execution_count": 167,
   "metadata": {},
   "outputs": [
    {
     "name": "stdout",
     "output_type": "stream",
     "text": [
      "train acc:  1.0 \n",
      " test acc:  0.6385542168674698 \n",
      " 0.6511627906976744\n"
     ]
    }
   ],
   "source": [
    "rf_test_acc, rf_train_acc ,f1= get_acc(rf_model)\n",
    "\n",
    "print(\"train acc: \", rf_train_acc,\"\\n\", \"test acc: \",rf_test_acc,\"\\n\",f1)"
   ]
  },
  {
   "cell_type": "markdown",
   "metadata": {},
   "source": [
    "### metrics"
   ]
  },
  {
   "cell_type": "code",
   "execution_count": 168,
   "metadata": {},
   "outputs": [
    {
     "data": {
      "image/png": "[encoded data removed]",
      "text/plain": [
       "<Figure size 432x288 with 1 Axes>"
      ]
     },
     "metadata": {
      "needs_background": "light"
     },
     "output_type": "display_data"
    }
   ],
   "source": [
    "plt_roc_curve(\"RF\",model = rf_model, has_proba=True)"
   ]
  },
  {
   "cell_type": "code",
   "execution_count": 169,
   "metadata": {},
   "outputs": [
    {
     "name": "stdout",
     "output_type": "stream",
     "text": [
      "Area Under Curve: 0.73\n"
     ]
    },
    {
     "data": {
      "image/png": "[encoded data removed]",
      "text/plain": [
       "<Figure size 432x288 with 1 Axes>"
      ]
     },
     "metadata": {
      "needs_background": "light"
     },
     "output_type": "display_data"
    }
   ],
   "source": [
    "plt_prc(\"rf\",model = rf_model)"
   ]
  },
  {
   "cell_type": "code",
   "execution_count": 170,
   "metadata": {},
   "outputs": [
    {
     "data": {
      "image/png": "[encoded data removed]",
      "text/plain": [
       "<Figure size 576x576 with 1 Axes>"
      ]
     },
     "metadata": {
      "needs_background": "light"
     },
     "output_type": "display_data"
    }
   ],
   "source": [
    "conf_mat(model=rf_model)"
   ]
  },
  {
   "cell_type": "code",
   "execution_count": 171,
   "metadata": {},
   "outputs": [
    {
     "data": {
      "image/png": "[encoded data removed]",
      "text/plain": [
       "<Figure size 720x720 with 2 Axes>"
      ]
     },
     "metadata": {
      "needs_background": "light"
     },
     "output_type": "display_data"
    }
   ],
   "source": [
    "conf_mat_n(model=rf_model)"
   ]
  },
  {
   "cell_type": "code",
   "execution_count": 172,
   "metadata": {},
   "outputs": [
    {
     "name": "stdout",
     "output_type": "stream",
     "text": [
      "train: \n",
      "               precision    recall  f1-score   support\n",
      "\n",
      "           0       1.00      1.00      1.00        83\n",
      "           1       1.00      1.00      1.00        83\n",
      "\n",
      "    accuracy                           1.00       166\n",
      "   macro avg       1.00      1.00      1.00       166\n",
      "weighted avg       1.00      1.00      1.00       166\n",
      " \n",
      " test: \n",
      "               precision    recall  f1-score   support\n",
      "\n",
      "           0       0.77      0.81      0.79        42\n",
      "           1       0.79      0.76      0.77        41\n",
      "\n",
      "    accuracy                           0.78        83\n",
      "   macro avg       0.78      0.78      0.78        83\n",
      "weighted avg       0.78      0.78      0.78        83\n",
      "\n"
     ]
    }
   ],
   "source": [
    "cl_report(model = nb_model)"
   ]
  },
  {
   "cell_type": "markdown",
   "metadata": {},
   "source": [
    "# Logistic Regression"
   ]
  },
  {
   "cell_type": "code",
   "execution_count": 173,
   "metadata": {},
   "outputs": [],
   "source": [
    "lr_model = model = LogisticRegression(solver='liblinear')\n",
    "lr_model = lr_model.fit(X_train,y_train)"
   ]
  },
  {
   "cell_type": "code",
   "execution_count": 174,
   "metadata": {},
   "outputs": [
    {
     "name": "stdout",
     "output_type": "stream",
     "text": [
      "train acc:  1.0 \n",
      " test acc:  0.7590361445783133 \n",
      " 0.7560975609756099\n"
     ]
    }
   ],
   "source": [
    "lr_test_acc, lr_train_acc ,f1= get_acc(lr_model)\n",
    "\n",
    "print(\"train acc: \", lr_train_acc,\"\\n\", \"test acc: \",lr_test_acc ,\"\\n\", f1)"
   ]
  },
  {
   "cell_type": "markdown",
   "metadata": {},
   "source": [
    "### metrics"
   ]
  },
  {
   "cell_type": "code",
   "execution_count": 175,
   "metadata": {},
   "outputs": [
    {
     "data": {
      "image/png": "[encoded data removed]",
      "text/plain": [
       "<Figure size 432x288 with 1 Axes>"
      ]
     },
     "metadata": {
      "needs_background": "light"
     },
     "output_type": "display_data"
    }
   ],
   "source": [
    "plt_roc_curve(\"LT\",model = lr_model, has_proba=True)"
   ]
  },
  {
   "cell_type": "code",
   "execution_count": 176,
   "metadata": {},
   "outputs": [
    {
     "name": "stdout",
     "output_type": "stream",
     "text": [
      "Area Under Curve: 0.82\n"
     ]
    },
    {
     "data": {
      "image/png": "[encoded data removed]",
      "text/plain": [
       "<Figure size 432x288 with 1 Axes>"
      ]
     },
     "metadata": {
      "needs_background": "light"
     },
     "output_type": "display_data"
    }
   ],
   "source": [
    "plt_prc(\"LR\",model = lr_model)"
   ]
  },
  {
   "cell_type": "code",
   "execution_count": 177,
   "metadata": {},
   "outputs": [
    {
     "data": {
      "image/png": "[encoded data removed]",
      "text/plain": [
       "<Figure size 576x576 with 1 Axes>"
      ]
     },
     "metadata": {
      "needs_background": "light"
     },
     "output_type": "display_data"
    }
   ],
   "source": [
    "conf_mat(model=lr_model)"
   ]
  },
  {
   "cell_type": "code",
   "execution_count": 178,
   "metadata": {},
   "outputs": [
    {
     "data": {
      "image/png": "[encoded data removed]",
      "text/plain": [
       "<Figure size 720x720 with 2 Axes>"
      ]
     },
     "metadata": {
      "needs_background": "light"
     },
     "output_type": "display_data"
    }
   ],
   "source": [
    "conf_mat_n(model=lr_model)"
   ]
  },
  {
   "cell_type": "code",
   "execution_count": 179,
   "metadata": {},
   "outputs": [
    {
     "name": "stdout",
     "output_type": "stream",
     "text": [
      "train: \n",
      "               precision    recall  f1-score   support\n",
      "\n",
      "           0       1.00      1.00      1.00        83\n",
      "           1       1.00      1.00      1.00        83\n",
      "\n",
      "    accuracy                           1.00       166\n",
      "   macro avg       1.00      1.00      1.00       166\n",
      "weighted avg       1.00      1.00      1.00       166\n",
      " \n",
      " test: \n",
      "               precision    recall  f1-score   support\n",
      "\n",
      "           0       0.76      0.76      0.76        42\n",
      "           1       0.76      0.76      0.76        41\n",
      "\n",
      "    accuracy                           0.76        83\n",
      "   macro avg       0.76      0.76      0.76        83\n",
      "weighted avg       0.76      0.76      0.76        83\n",
      "\n"
     ]
    }
   ],
   "source": [
    "cl_report(model = lr_model)"
   ]
  },
  {
   "cell_type": "code",
   "execution_count": null,
   "metadata": {},
   "outputs": [],
   "source": []
  },
  {
   "cell_type": "code",
   "execution_count": 180,
   "metadata": {},
   "outputs": [
    {
     "name": "stdout",
     "output_type": "stream",
     "text": [
      "accuracy 0.7469879518072289\n",
      "              precision    recall  f1-score   support\n",
      "\n",
      "           0       0.74      0.76      0.75        42\n",
      "           1       0.75      0.73      0.74        41\n",
      "\n",
      "    accuracy                           0.75        83\n",
      "   macro avg       0.75      0.75      0.75        83\n",
      "weighted avg       0.75      0.75      0.75        83\n",
      "\n"
     ]
    }
   ],
   "source": [
    "from sklearn.linear_model import SGDClassifier\n",
    "from sklearn.pipeline import Pipeline\n",
    "from sklearn.feature_extraction.text import TfidfTransformer\n",
    "\n",
    "sgd =  SGDClassifier(loss='hinge', penalty='l2',alpha=1e-3, random_state=42, max_iter=50, tol=None)\n",
    "sgd.fit(X_train, y_train)\n",
    "\n",
    "#%%time\n",
    "\n",
    "y_pred = sgd.predict(X_test)\n",
    "\n",
    "print('accuracy %s' % accuracy_score(y_pred, y_test))\n",
    "print(classification_report(y_test, y_pred))"
   ]
  },
  {
   "cell_type": "code",
   "execution_count": null,
   "metadata": {},
   "outputs": [],
   "source": []
  }
 ],
 "metadata": {
  "kernelspec": {
   "display_name": "Python 3",
   "language": "python",
   "name": "python3"
  },
  "language_info": {
   "codemirror_mode": {
    "name": "ipython",
    "version": 3
   },
   "file_extension": ".py",
   "mimetype": "text/x-python",
   "name": "python",
   "nbconvert_exporter": "python",
   "pygments_lexer": "ipython3",
   "version": "3.8.5"
  }
 },
 "nbformat": 4,
 "nbformat_minor": 4
}
