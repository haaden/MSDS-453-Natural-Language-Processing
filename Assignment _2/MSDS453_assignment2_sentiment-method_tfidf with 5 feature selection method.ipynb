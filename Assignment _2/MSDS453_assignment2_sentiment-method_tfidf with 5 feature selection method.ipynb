{
 "cells": [
  {
   "cell_type": "markdown",
   "metadata": {},
   "source": [
    "<img src=\"https://github.com/djp840/MSDS_453_Public/blob/main/images/NorthwesternHeader.png?raw=1\">"
   ]
  },
  {
   "cell_type": "markdown",
   "metadata": {},
   "source": [
    "## MSDS453 - Research Assignment 01 - First Vectorized Representation"
   ]
  },
  {
   "cell_type": "markdown",
   "metadata": {},
   "source": [
    "\n",
    "Our goal in this exercise is to BEGIN coming to a common agreement, among this class, as to what terms we will use as we selectively refine our corpus-wide vocabulary. This corpus vocabulary is what would represent the content of each different document for clustering and classification purposes, which will be our next step. This means that we need to make decisions - what is in, what is out."
   ]
  },
  {
   "cell_type": "markdown",
   "metadata": {},
   "source": [
    "### Importing Packages"
   ]
  },
  {
   "cell_type": "code",
   "execution_count": 735,
   "metadata": {},
   "outputs": [],
   "source": [
    "import pandas as pd\n",
    "import os\n",
    "import numpy as np\n",
    "import re\n",
    "import string\n",
    "from packaging import version\n",
    "\n",
    "from numpy import array\n",
    "from numpy import argmax\n",
    "\n",
    "import seaborn as sns\n",
    "import matplotlib.pyplot as plt\n",
    "from matplotlib import pyplot\n",
    "\n",
    "import nltk\n",
    "from nltk.corpus import stopwords\n",
    "from nltk.stem import PorterStemmer\n",
    "from nltk.tokenize import word_tokenize \n",
    "from nltk.tokenize import RegexpTokenizer\n",
    "from nltk.stem.wordnet import WordNetLemmatizer\n",
    "from nltk import ngrams, FreqDist\n",
    "from rake_nltk import Rake\n",
    "\n",
    "from sklearn.feature_extraction.text import TfidfVectorizer\n",
    "from sklearn.cluster import KMeans, AgglomerativeClustering\n",
    "from sklearn.metrics.pairwise import cosine_similarity\n",
    "from sklearn.decomposition import TruncatedSVD, LatentDirichletAllocation\n",
    "from sklearn.svm import SVC\n",
    "from sklearn.preprocessing import LabelEncoder, OneHotEncoder\n",
    "from sklearn.ensemble import RandomForestClassifier\n",
    "from sklearn.metrics import roc_auc_score, accuracy_score, confusion_matrix\n",
    "from sklearn.model_selection import cross_val_score, StratifiedKFold\n",
    "from sklearn.tree import DecisionTreeClassifier\n",
    "from sklearn.naive_bayes import MultinomialNB\n",
    "from sklearn.linear_model import LogisticRegression\n",
    "from sklearn.ensemble import RandomForestClassifier\n",
    "from sklearn.metrics import accuracy_score\n",
    "from sklearn.model_selection import train_test_split, KFold\n",
    "from sklearn.manifold import MDS\n",
    "from sklearn.metrics.pairwise import cosine_similarity\n",
    "from matplotlib import pyplot\n",
    "from sklearn.cluster import DBSCAN\n",
    "from sklearn.metrics import plot_confusion_matrix\n",
    "from sklearn.metrics import f1_score\n",
    "\n",
    "\n",
    "from sklearn.feature_extraction.text import TfidfVectorizer\n",
    "from sklearn.feature_extraction.text import CountVectorizer\n",
    "from sklearn.metrics.pairwise import cosine_similarity\n",
    "from sklearn.cluster import KMeans\n",
    "from sklearn.manifold import MDS\n",
    "from sklearn.preprocessing import LabelEncoder, OneHotEncoder\n",
    "from sklearn.ensemble import RandomForestClassifier\n",
    "from sklearn.metrics import roc_auc_score, accuracy_score, confusion_matrix, silhouette_score\n",
    "from sklearn.model_selection import cross_val_score, StratifiedKFold\n",
    "from sklearn.tree import DecisionTreeClassifier\n",
    "from sklearn.model_selection import train_test_split, KFold\n",
    "from sklearn.manifold import TSNE\n",
    "from sklearn.decomposition import PCA\n",
    "from sklearn.decomposition import TruncatedSVD as SVD\n",
    "from sklearn.metrics import confusion_matrix\n",
    "from sklearn.metrics import roc_curve, auc\n",
    "from sklearn.svm import SVC\n",
    "from sklearn.metrics import classification_report\n",
    "import scikitplot as skplt\n",
    "from sklearn.metrics import precision_recall_curve\n",
    "\n",
    "\n",
    "import gensim\n",
    "\n",
    "from gensim.models import Word2Vec,LdaMulticore, TfidfModel, CoherenceModel\n",
    "from gensim import corpora\n",
    "from gensim import similarities\n",
    "from gensim.models.doc2vec import Doc2Vec, TaggedDocument\n",
    "from gensim import corpora\n",
    "from gensim.models import LsiModel,LdaModel"
   ]
  },
  {
   "cell_type": "markdown",
   "metadata": {},
   "source": [
    "<div class=\"alert alert-block alert-danger\">\n",
    "<b>Gensim</b> is a Python library for topic modelling, document indexing and similarity retrieval with large corpora. Target audience is the natural language processing (NLP) and information retrieval (IR) community <br><br>\n",
    "    <b>https://pypi.org/project/gensim/ </b>\n",
    "</div>"
   ]
  },
  {
   "cell_type": "code",
   "execution_count": 736,
   "metadata": {},
   "outputs": [],
   "source": [
    "import pkg_resources\n",
    "pkg_resources.require(\"gensim<=3.8.3\");"
   ]
  },
  {
   "cell_type": "code",
   "execution_count": 737,
   "metadata": {},
   "outputs": [
    {
     "name": "stdout",
     "output_type": "stream",
     "text": [
      "Genism Version:  3.8.3\n"
     ]
    }
   ],
   "source": [
    "print(\"Genism Version: \", gensim.__version__)"
   ]
  },
  {
   "cell_type": "markdown",
   "metadata": {},
   "source": [
    "### NLTK Downloads"
   ]
  },
  {
   "cell_type": "code",
   "execution_count": 738,
   "metadata": {
    "scrolled": true
   },
   "outputs": [
    {
     "name": "stderr",
     "output_type": "stream",
     "text": [
      "[nltk_data] Downloading package stopwords to\n",
      "[nltk_data]     C:\\Users\\hag8665\\AppData\\Roaming\\nltk_data...\n",
      "[nltk_data]   Package stopwords is already up-to-date!\n",
      "[nltk_data] Downloading package wordnet to\n",
      "[nltk_data]     C:\\Users\\hag8665\\AppData\\Roaming\\nltk_data...\n",
      "[nltk_data]   Package wordnet is already up-to-date!\n",
      "[nltk_data] Downloading package punkt to\n",
      "[nltk_data]     C:\\Users\\hag8665\\AppData\\Roaming\\nltk_data...\n",
      "[nltk_data]   Package punkt is already up-to-date!\n"
     ]
    },
    {
     "data": {
      "text/plain": [
       "True"
      ]
     },
     "execution_count": 738,
     "metadata": {},
     "output_type": "execute_result"
    }
   ],
   "source": [
    "# Only run this once, they will be downloaded.\n",
    "nltk.download('stopwords')\n",
    "nltk.download('wordnet')\n",
    "nltk.download('punkt')"
   ]
  },
  {
   "cell_type": "code",
   "execution_count": 739,
   "metadata": {},
   "outputs": [],
   "source": [
    "import warnings\n",
    "warnings.filterwarnings('ignore')"
   ]
  },
  {
   "cell_type": "markdown",
   "metadata": {},
   "source": [
    "### Create List of Stop Words from NLTK"
   ]
  },
  {
   "cell_type": "code",
   "execution_count": 740,
   "metadata": {},
   "outputs": [],
   "source": [
    "stop_words = set(stopwords.words(\"english\"))"
   ]
  },
  {
   "cell_type": "code",
   "execution_count": null,
   "metadata": {},
   "outputs": [],
   "source": []
  },
  {
   "cell_type": "markdown",
   "metadata": {},
   "source": [
    "### Mount Google Drive to Colab Environment"
   ]
  },
  {
   "cell_type": "code",
   "execution_count": 741,
   "metadata": {},
   "outputs": [],
   "source": [
    "#from google.colab import drive\n",
    "#drive.mount('/content/gdrive')"
   ]
  },
  {
   "cell_type": "markdown",
   "metadata": {},
   "source": [
    "### One-hot Encoding Example "
   ]
  },
  {
   "cell_type": "code",
   "execution_count": 742,
   "metadata": {},
   "outputs": [
    {
     "name": "stdout",
     "output_type": "stream",
     "text": [
      "['ginsburg' 'RBG' 'justice' 'ginsburg']\n",
      "[1 0 2 1]\n",
      "[[0. 1. 0.]\n",
      " [1. 0. 0.]\n",
      " [0. 0. 1.]\n",
      " [0. 1. 0.]]\n"
     ]
    }
   ],
   "source": [
    "# define example\n",
    "data = ['ginsburg', 'RBG', 'justice', 'ginsburg']\n",
    "values = array(data)\n",
    "print(values)\n",
    "# integer encode\n",
    "label_encoder = LabelEncoder()\n",
    "integer_encoded = label_encoder.fit_transform(values)\n",
    "print(integer_encoded)\n",
    "# binary encode\n",
    "onehot_encoder = OneHotEncoder(sparse=False)\n",
    "integer_encoded = integer_encoded.reshape(len(integer_encoded), 1)\n",
    "onehot_encoded = onehot_encoder.fit_transform(integer_encoded)\n",
    "print(onehot_encoded)\n",
    "# invert first example\n",
    "#print(onehot_encoded[0, :])\n",
    "inverted = label_encoder.inverse_transform([argmax(onehot_encoded[0, :])])\n",
    "#print(inverted)"
   ]
  },
  {
   "cell_type": "markdown",
   "metadata": {},
   "source": [
    "## NLP Data Functions"
   ]
  },
  {
   "cell_type": "markdown",
   "metadata": {},
   "source": [
    "### Pre-process dataset to remove punctuation"
   ]
  },
  {
   "cell_type": "code",
   "execution_count": 743,
   "metadata": {},
   "outputs": [],
   "source": [
    "def remove_punctuation(in_text):\n",
    "    # Remove punctuation\n",
    "    text = re.sub('[^a-zA-Z]', ' ', str(in_text))\n",
    "    return text"
   ]
  },
  {
   "cell_type": "markdown",
   "metadata": {},
   "source": [
    "### Pre-process dataset to lower case it"
   ]
  },
  {
   "cell_type": "code",
   "execution_count": 744,
   "metadata": {},
   "outputs": [],
   "source": [
    "def lower_case(in_text):\n",
    "    # Convert to lowercase\n",
    "    text = in_text.lower()    \n",
    "    return text"
   ]
  },
  {
   "cell_type": "markdown",
   "metadata": {},
   "source": [
    "### Pre-process dataset to remove tags"
   ]
  },
  {
   "cell_type": "code",
   "execution_count": 745,
   "metadata": {},
   "outputs": [],
   "source": [
    "def remove_tags(in_text):    \n",
    "    # Remove tags\n",
    "    text=re.sub(\"&lt;/?.*?&gt;\",\" &lt;&gt; \",in_text)\n",
    "    return text"
   ]
  },
  {
   "cell_type": "markdown",
   "metadata": {},
   "source": [
    "### Pre-process dataset to remove special characters and digits"
   ]
  },
  {
   "cell_type": "code",
   "execution_count": 746,
   "metadata": {},
   "outputs": [],
   "source": [
    "\n",
    "def remove_special_chars_and_digits(in_text):\n",
    "    # Remove special characters and digits\n",
    "    text=re.sub(\"(\\\\d|\\\\W)+\",\" \",in_text)\n",
    "    return text\n"
   ]
  },
  {
   "cell_type": "markdown",
   "metadata": {},
   "source": [
    "### Pre-process dataset to appy Stemming"
   ]
  },
  {
   "cell_type": "code",
   "execution_count": 747,
   "metadata": {},
   "outputs": [],
   "source": [
    "def apply_stemming(in_text):\n",
    "    stemmer=PorterStemmer()\n",
    "    word_list = nltk.word_tokenize(in_text)\n",
    "    output = ' '.join([stemmer.stem(w) for w in word_list])\n",
    "    return output"
   ]
  },
  {
   "cell_type": "markdown",
   "metadata": {},
   "source": [
    "### Pre-process dataset to apply Lemmatization"
   ]
  },
  {
   "cell_type": "code",
   "execution_count": 748,
   "metadata": {},
   "outputs": [],
   "source": [
    "def apply_lemmatization(in_text):\n",
    "    # Lemmatization\n",
    "    lem = WordNetLemmatizer()\n",
    "    word_list = nltk.word_tokenize(in_text)\n",
    "    output = ' '.join([lem.lemmatize(w) for w in word_list])\n",
    "    return output"
   ]
  },
  {
   "cell_type": "markdown",
   "metadata": {},
   "source": [
    "### Remove stop words"
   ]
  },
  {
   "cell_type": "code",
   "execution_count": 749,
   "metadata": {},
   "outputs": [],
   "source": [
    "def remove_stop_words(in_text):\n",
    "    stop_words = set(stopwords.words('english')) \n",
    "    word_tokens = word_tokenize(in_text)  \n",
    "    filtered_sentence = [w for w in word_tokens if not w in stop_words] \n",
    "#     filtered_sentence = [] \n",
    "#     for w in word_tokens: \n",
    "#         if w not in stop_words: \n",
    "#             filtered_sentence.append(w) \n",
    "\n",
    "    return filtered_sentence"
   ]
  },
  {
   "cell_type": "markdown",
   "metadata": {},
   "source": [
    "### Run Phase Machine"
   ]
  },
  {
   "cell_type": "code",
   "execution_count": 750,
   "metadata": {},
   "outputs": [],
   "source": [
    "def run_phrase_machine(in_text):\n",
    "    phrases=phrasemachine.get_phrases(in_text)\n",
    "    return phrases"
   ]
  },
  {
   "cell_type": "markdown",
   "metadata": {},
   "source": [
    "### Run Rake Keyword Extractor"
   ]
  },
  {
   "cell_type": "code",
   "execution_count": 751,
   "metadata": {},
   "outputs": [],
   "source": [
    "def run_rake(in_text):\n",
    "    r = Rake()\n",
    "    r.extract_keywords_from_text(in_text)\n",
    "    rake_phrases= r.get_ranked_phrases()\n",
    "    return rake_phrases"
   ]
  },
  {
   "cell_type": "markdown",
   "metadata": {},
   "source": [
    "### Run NLTK Tokenizer"
   ]
  },
  {
   "cell_type": "code",
   "execution_count": 752,
   "metadata": {},
   "outputs": [],
   "source": [
    "def run_nltk_tokenizer(in_text):\n",
    "    tokens=nltk.word_tokenize(in_text)\n",
    "    return tokens"
   ]
  },
  {
   "cell_type": "markdown",
   "metadata": {},
   "source": [
    "### Run NLTK Sentence Tokenizer"
   ]
  },
  {
   "cell_type": "code",
   "execution_count": 753,
   "metadata": {},
   "outputs": [],
   "source": [
    "def run_nltk_sent_tokenizer(in_corpus):\n",
    "    sents = nltk.sent_tokenize(in_corpus)\n",
    "    return sents"
   ]
  },
  {
   "cell_type": "markdown",
   "metadata": {},
   "source": [
    "### Run word-ngram Tokenizer"
   ]
  },
  {
   "cell_type": "code",
   "execution_count": 754,
   "metadata": {},
   "outputs": [],
   "source": [
    "def run_nltk_tokenizer_word_ngrams(in_text, ngram_size):\n",
    "    n_grams = ngrams(nltk.word_tokenize(in_text), ngram_size)\n",
    "    return [ ' '.join(grams) for grams in n_grams]"
   ]
  },
  {
   "cell_type": "markdown",
   "metadata": {},
   "source": [
    "### Get Frequency Distribution "
   ]
  },
  {
   "cell_type": "code",
   "execution_count": 755,
   "metadata": {},
   "outputs": [],
   "source": [
    "def get_freq_dist(terms):\n",
    "    all_counts = dict()\n",
    "    all_counts[size] = FreqDist(terms)\n",
    "    return all_counts"
   ]
  },
  {
   "cell_type": "markdown",
   "metadata": {},
   "source": [
    "### Processing Text into Lists"
   ]
  },
  {
   "cell_type": "code",
   "execution_count": 756,
   "metadata": {},
   "outputs": [],
   "source": [
    "def get_corpus(path_to_file):\n",
    "    #read in class corpus csv into python\n",
    "    data=pd.read_csv(path_to_file)\n",
    "\n",
    "    #create empty list to store text documents titles\n",
    "    titles=[]\n",
    "    docids=[]\n",
    "    #for loop which appends the DSI title to the titles list\n",
    "    for i in range(0,len(data)):\n",
    "        docids.append(data['Doc_ID'].iloc[i])\n",
    "\n",
    "    #for loop which appends the DSI title to the titles list\n",
    "    for i in range(0,len(data)):\n",
    "        titles.append(data['DSI_Title'].iloc[i])\n",
    "\n",
    "    #create empty list to store text documents\n",
    "    text_body=[]\n",
    "\n",
    "    #for loop which appends the text to the text_body list\n",
    "    for i in range(0,len(data)):\n",
    "        temp_text=data['Text'].iloc[i]\n",
    "        temp_text=clean_doc(temp_text)\n",
    "        temp_text = ' '.join(map(str, temp_text))\n",
    "        text_body.append(temp_text)\n",
    "    return (docids,titles,text_body)"
   ]
  },
  {
   "cell_type": "markdown",
   "metadata": {},
   "source": [
    "#  <font color='red'> methods3 for data wragling remove punctuation,stop words ,lemitization, lower and remove non alphabets"
   ]
  },
  {
   "cell_type": "markdown",
   "metadata": {},
   "source": [
    "# function for data wrangling "
   ]
  },
  {
   "cell_type": "code",
   "execution_count": 757,
   "metadata": {},
   "outputs": [],
   "source": [
    "# method 3 remove punctutaion  , stopwords and lemetization, lower and keep character\n",
    "\n",
    "\n",
    "def clean_doc(doc): \n",
    "    \n",
    "    \n",
    "    \n",
    "    doc= remove_punctuation(doc)\n",
    "    doc = lower_case(doc)\n",
    "    #remove stop word\n",
    "    doc = ' '.join(remove_stop_words(doc))\n",
    "    #apply lemitization\n",
    "    doc = apply_lemmatization(doc)\n",
    "    #doc = ' '.join(run_rake(doc))\n",
    "    #apply stemming\n",
    "    #doc = apply_stemming(doc)\n",
    "    #split document into individual words\n",
    "    tokens= doc.split()   \n",
    "    #tokens = list(filter(None, doc))\n",
    "    re_punc = re.compile('[%s]' % re.escape(string.punctuation))\n",
    "    #remove remaining tokens that are not alphabetic\n",
    "   \n",
    "\n",
    "    #remove punctuation from each word\n",
    "    tokens = [re_punc.sub('', w) for w in tokens]\n",
    "    tokens = [word for word in tokens if word.isalpha()]\n",
    "    tokens = [word.lower() for word in tokens]\n",
    "\n",
    "    return tokens"
   ]
  },
  {
   "cell_type": "markdown",
   "metadata": {},
   "source": [
    "#  <font color='red'> Functions to get  word2vec, doc2vec and  visualize documents"
   ]
  },
  {
   "cell_type": "code",
   "execution_count": 758,
   "metadata": {},
   "outputs": [],
   "source": [
    "def process_corpus(data):\n",
    "        \n",
    "    #create empty list to store text documents titles\n",
    "    titles=[]\n",
    "    \n",
    "    #for loop which appends the DSI title to the titles list\n",
    "    for i in range(0,len(data)):\n",
    "        temp_text=data['DSI_Title'].iloc[i]\n",
    "        titles.append(temp_text)\n",
    "    \n",
    "    #create empty list to store text documents\n",
    "    text_body=[]\n",
    "    \n",
    "    #for loop which appends the text to the text_body list\n",
    "    for i in range(0,len(data)):\n",
    "        temp_text=data['Text'].iloc[i]\n",
    "        text_body.append(temp_text)\n",
    "    \n",
    "    #Note: the text_body is the unprocessed list of documents read directly form \n",
    "    #the csv.\n",
    "        \n",
    "    #empty list to store processed documents\n",
    "    processed_text=[]\n",
    "    #for loop to process the text to the processed_text list\n",
    "    for i in text_body:\n",
    "        text=clean_doc(i)\n",
    "        processed_text.append(text)\n",
    "    \n",
    "    #Note: the processed_text is the PROCESSED list of documents read directly form \n",
    "    #the csv.  Note the list of words is separated by commas.\n",
    "    \n",
    "    \n",
    "    #stitch back together individual words to reform body of text\n",
    "    final_processed_text=[]\n",
    "    \n",
    "    for i in processed_text:\n",
    "        temp_DSI=i[0]\n",
    "        for k in range(1,len(i)):\n",
    "            temp_DSI=temp_DSI+' '+i[k]\n",
    "        final_processed_text.append(temp_DSI)\n",
    "    \n",
    "    return titles, final_processed_text, processed_text\n",
    "\n",
    "def run_doc2vec(final_processed_text, processed_text):\n",
    "    #create doc2vec matrix\n",
    "    documents = [TaggedDocument(doc, [i]) for i, doc in enumerate(final_processed_text)]\n",
    "    model = Doc2Vec(documents, vector_size=300, window=3, min_count=2, workers=4)    \n",
    "    \n",
    "    doc2vec_df=pd.DataFrame()\n",
    "    for i in range(0,len(processed_text)):\n",
    "        vector=pd.DataFrame(model.infer_vector(processed_text[i])).transpose()\n",
    "        doc2vec_df=pd.concat([doc2vec_df,vector], axis=0)\n",
    "        \n",
    "    return doc2vec_df\n",
    "\n",
    "def run_word2vec(processed_text):\n",
    "\n",
    "    #word to vec model\n",
    "    model_w2v = Word2Vec(processed_text, size=300, window=3, min_count=2, workers=4)\n",
    "    \n",
    "    labels = []\n",
    "    tokens = []\n",
    "\n",
    "    for word in model_w2v.wv.vocab:\n",
    "        tokens.append(model_w2v[word])\n",
    "        labels.append(word)\n",
    "    \n",
    "    \n",
    "    return labels, tokens, model_w2v\n",
    "\n",
    "\n",
    "    "
   ]
  },
  {
   "cell_type": "markdown",
   "metadata": {},
   "source": [
    "### Processing Text into Lists for tfidf"
   ]
  },
  {
   "cell_type": "markdown",
   "metadata": {},
   "source": [
    "### Source Class Corpus  "
   ]
  },
  {
   "cell_type": "code",
   "execution_count": 759,
   "metadata": {
    "scrolled": false
   },
   "outputs": [],
   "source": [
    "path_to_file='C://Users//hag8665//Desktop//MSDS 453//Assignment_1//Class_Corpus_v2.csv'\n",
    "docids,titles,text=get_corpus(path_to_file)\n"
   ]
  },
  {
   "cell_type": "markdown",
   "metadata": {},
   "source": [
    "### Retreive Word Count Frequencies "
   ]
  },
  {
   "cell_type": "code",
   "execution_count": 760,
   "metadata": {
    "scrolled": true
   },
   "outputs": [
    {
     "data": {
      "text/html": [
       "<div>\n",
       "<style scoped>\n",
       "    .dataframe tbody tr th:only-of-type {\n",
       "        vertical-align: middle;\n",
       "    }\n",
       "\n",
       "    .dataframe tbody tr th {\n",
       "        vertical-align: top;\n",
       "    }\n",
       "\n",
       "    .dataframe thead th {\n",
       "        text-align: right;\n",
       "    }\n",
       "</style>\n",
       "<table border=\"1\" class=\"dataframe\">\n",
       "  <thead>\n",
       "    <tr style=\"text-align: right;\">\n",
       "      <th></th>\n",
       "      <th>word</th>\n",
       "      <th>counts</th>\n",
       "    </tr>\n",
       "  </thead>\n",
       "  <tbody>\n",
       "    <tr>\n",
       "      <th>5197</th>\n",
       "      <td>film</td>\n",
       "      <td>1165</td>\n",
       "    </tr>\n",
       "    <tr>\n",
       "      <th>8880</th>\n",
       "      <td>movie</td>\n",
       "      <td>1026</td>\n",
       "    </tr>\n",
       "    <tr>\n",
       "      <th>9411</th>\n",
       "      <td>one</td>\n",
       "      <td>808</td>\n",
       "    </tr>\n",
       "    <tr>\n",
       "      <th>7910</th>\n",
       "      <td>like</td>\n",
       "      <td>667</td>\n",
       "    </tr>\n",
       "    <tr>\n",
       "      <th>13899</th>\n",
       "      <td>time</td>\n",
       "      <td>458</td>\n",
       "    </tr>\n",
       "    <tr>\n",
       "      <th>2164</th>\n",
       "      <td>character</td>\n",
       "      <td>424</td>\n",
       "    </tr>\n",
       "    <tr>\n",
       "      <th>8225</th>\n",
       "      <td>make</td>\n",
       "      <td>414</td>\n",
       "    </tr>\n",
       "    <tr>\n",
       "      <th>5761</th>\n",
       "      <td>get</td>\n",
       "      <td>412</td>\n",
       "    </tr>\n",
       "    <tr>\n",
       "      <th>13081</th>\n",
       "      <td>story</td>\n",
       "      <td>361</td>\n",
       "    </tr>\n",
       "    <tr>\n",
       "      <th>4742</th>\n",
       "      <td>even</td>\n",
       "      <td>355</td>\n",
       "    </tr>\n",
       "  </tbody>\n",
       "</table>\n",
       "</div>"
      ],
      "text/plain": [
       "            word  counts\n",
       "5197        film    1165\n",
       "8880       movie    1026\n",
       "9411         one     808\n",
       "7910        like     667\n",
       "13899       time     458\n",
       "2164   character     424\n",
       "8225        make     414\n",
       "5761         get     412\n",
       "13081      story     361\n",
       "4742        even     355"
      ]
     },
     "execution_count": 760,
     "metadata": {},
     "output_type": "execute_result"
    }
   ],
   "source": [
    "vectorizer = CountVectorizer(ngram_range = (1,1))\n",
    "matrix=vectorizer.fit_transform(text)     \n",
    "\n",
    "#creating datafram from TFIDF Matrix\n",
    "words = vectorizer.get_feature_names()\n",
    "matrix=pd.DataFrame(matrix.toarray(), columns=words, index=titles)\n",
    "frequencies = matrix.sum().transpose().reset_index()\n",
    "frequencies.columns = ['word', 'counts']\n",
    "frequencies.sort_values(\"counts\",ascending = False , inplace =True)\n",
    "frequencies.head(10)"
   ]
  },
  {
   "cell_type": "code",
   "execution_count": 761,
   "metadata": {},
   "outputs": [
    {
     "data": {
      "text/plain": [
       "(15479, 2)"
      ]
     },
     "execution_count": 761,
     "metadata": {},
     "output_type": "execute_result"
    }
   ],
   "source": [
    "frequencies.shape"
   ]
  },
  {
   "cell_type": "code",
   "execution_count": null,
   "metadata": {},
   "outputs": [],
   "source": []
  },
  {
   "cell_type": "markdown",
   "metadata": {},
   "source": [
    "# get and create data for word2vec and doc2vec"
   ]
  },
  {
   "cell_type": "code",
   "execution_count": 762,
   "metadata": {},
   "outputs": [],
   "source": [
    "data = pd.read_csv(path_to_file)"
   ]
  },
  {
   "cell_type": "markdown",
   "metadata": {},
   "source": [
    "### Create Word and Document Embedding"
   ]
  },
  {
   "cell_type": "code",
   "execution_count": 763,
   "metadata": {},
   "outputs": [],
   "source": [
    "#cleans text to get processed text\n",
    "titles, final_processed_text, processed_text = process_corpus(data)"
   ]
  },
  {
   "cell_type": "markdown",
   "metadata": {},
   "source": [
    "# <font color='red'> method word2vec =300"
   ]
  },
  {
   "cell_type": "code",
   "execution_count": 764,
   "metadata": {},
   "outputs": [],
   "source": [
    "#word to vec\n",
    "model_w2v = Word2Vec(processed_text, size=300, window=5, min_count=1, workers=4)\n",
    "\n",
    "#join all processed DSI words into single list\n",
    "processed_text_w2v=[]\n",
    "for i in processed_text:\n",
    "    for k in i:\n",
    "        processed_text_w2v.append(k)\n"
   ]
  },
  {
   "cell_type": "code",
   "execution_count": null,
   "metadata": {},
   "outputs": [],
   "source": []
  },
  {
   "cell_type": "code",
   "execution_count": 765,
   "metadata": {},
   "outputs": [
    {
     "data": {
      "text/plain": [
       "beefy           0.000147\n",
       "unacquainted    0.000113\n",
       "vie             0.000107\n",
       "innovate        0.000103\n",
       "heavier         0.000101\n",
       "                  ...   \n",
       "character      -0.024295\n",
       "movie          -0.025308\n",
       "like           -0.025451\n",
       "one            -0.025465\n",
       "film           -0.027734\n",
       "Length: 15498, dtype: float32"
      ]
     },
     "execution_count": 765,
     "metadata": {},
     "output_type": "execute_result"
    }
   ],
   "source": [
    "\n",
    "#obtian all the unique words from DSI\n",
    "w2v_words=list(set(processed_text_w2v))\n",
    "\n",
    "#can also use the get_feature_names() from TFIDF to get the list of words\n",
    "#w2v_words=Tfidf.get_feature_names()\n",
    "\n",
    "#empty dictionary to store words with vectors\n",
    "w2v_vectors={}\n",
    "\n",
    "#for loop to obtain weights for each word\n",
    "for i in w2v_words:\n",
    "    temp_vec=model_w2v.wv[i]\n",
    "    w2v_vectors[i]=temp_vec\n",
    "\n",
    "#create a final dataframe to view word vectors\n",
    "w2v_df=pd.DataFrame(w2v_vectors).transpose()\n",
    "\n",
    "w2v_df.T.mean().sort_values( ascending = False)"
   ]
  },
  {
   "cell_type": "code",
   "execution_count": 766,
   "metadata": {},
   "outputs": [
    {
     "data": {
      "text/plain": [
       "15498"
      ]
     },
     "execution_count": 766,
     "metadata": {},
     "output_type": "execute_result"
    }
   ],
   "source": [
    "len(w2v_vectors)"
   ]
  },
  {
   "cell_type": "markdown",
   "metadata": {},
   "source": [
    "#   <font color='red'> method doc2vec is 300 "
   ]
  },
  {
   "cell_type": "markdown",
   "metadata": {},
   "source": [
    "### Create Doc2Vec Embedding"
   ]
  },
  {
   "cell_type": "code",
   "execution_count": 767,
   "metadata": {},
   "outputs": [
    {
     "data": {
      "text/html": [
       "<div>\n",
       "<style scoped>\n",
       "    .dataframe tbody tr th:only-of-type {\n",
       "        vertical-align: middle;\n",
       "    }\n",
       "\n",
       "    .dataframe tbody tr th {\n",
       "        vertical-align: top;\n",
       "    }\n",
       "\n",
       "    .dataframe thead th {\n",
       "        text-align: right;\n",
       "    }\n",
       "</style>\n",
       "<table border=\"1\" class=\"dataframe\">\n",
       "  <thead>\n",
       "    <tr style=\"text-align: right;\">\n",
       "      <th></th>\n",
       "      <th>title</th>\n",
       "      <th>0</th>\n",
       "      <th>1</th>\n",
       "      <th>2</th>\n",
       "      <th>3</th>\n",
       "      <th>4</th>\n",
       "      <th>5</th>\n",
       "      <th>6</th>\n",
       "      <th>7</th>\n",
       "      <th>8</th>\n",
       "      <th>...</th>\n",
       "      <th>290</th>\n",
       "      <th>291</th>\n",
       "      <th>292</th>\n",
       "      <th>293</th>\n",
       "      <th>294</th>\n",
       "      <th>295</th>\n",
       "      <th>296</th>\n",
       "      <th>297</th>\n",
       "      <th>298</th>\n",
       "      <th>299</th>\n",
       "    </tr>\n",
       "  </thead>\n",
       "  <tbody>\n",
       "    <tr>\n",
       "      <th>0</th>\n",
       "      <td>HAG_Doc1_Frozen2</td>\n",
       "      <td>-0.000337</td>\n",
       "      <td>-0.000222</td>\n",
       "      <td>0.001509</td>\n",
       "      <td>0.000955</td>\n",
       "      <td>-5.460880e-04</td>\n",
       "      <td>0.001512</td>\n",
       "      <td>-0.000914</td>\n",
       "      <td>-0.000520</td>\n",
       "      <td>0.000952</td>\n",
       "      <td>...</td>\n",
       "      <td>-0.001462</td>\n",
       "      <td>-0.000249</td>\n",
       "      <td>8.007520e-04</td>\n",
       "      <td>0.000131</td>\n",
       "      <td>0.000019</td>\n",
       "      <td>-0.001284</td>\n",
       "      <td>0.000460</td>\n",
       "      <td>0.000391</td>\n",
       "      <td>0.000654</td>\n",
       "      <td>0.000732</td>\n",
       "    </tr>\n",
       "    <tr>\n",
       "      <th>1</th>\n",
       "      <td>HAG_Doc2_Frozen2</td>\n",
       "      <td>-0.000243</td>\n",
       "      <td>0.000068</td>\n",
       "      <td>0.000679</td>\n",
       "      <td>0.001110</td>\n",
       "      <td>-1.293477e-07</td>\n",
       "      <td>-0.000083</td>\n",
       "      <td>0.001216</td>\n",
       "      <td>-0.000314</td>\n",
       "      <td>-0.000101</td>\n",
       "      <td>...</td>\n",
       "      <td>0.001440</td>\n",
       "      <td>-0.000517</td>\n",
       "      <td>-5.744795e-04</td>\n",
       "      <td>0.000386</td>\n",
       "      <td>-0.000361</td>\n",
       "      <td>-0.000147</td>\n",
       "      <td>-0.000974</td>\n",
       "      <td>-0.000143</td>\n",
       "      <td>0.000666</td>\n",
       "      <td>-0.000463</td>\n",
       "    </tr>\n",
       "    <tr>\n",
       "      <th>2</th>\n",
       "      <td>HAG_Doc3_Frozen2</td>\n",
       "      <td>-0.005381</td>\n",
       "      <td>-0.002142</td>\n",
       "      <td>-0.010715</td>\n",
       "      <td>0.000732</td>\n",
       "      <td>1.154464e-02</td>\n",
       "      <td>0.018815</td>\n",
       "      <td>0.005866</td>\n",
       "      <td>0.017159</td>\n",
       "      <td>0.010340</td>\n",
       "      <td>...</td>\n",
       "      <td>0.022598</td>\n",
       "      <td>-0.026848</td>\n",
       "      <td>6.094898e-03</td>\n",
       "      <td>0.017605</td>\n",
       "      <td>0.010706</td>\n",
       "      <td>-0.012601</td>\n",
       "      <td>-0.026814</td>\n",
       "      <td>0.011140</td>\n",
       "      <td>-0.005980</td>\n",
       "      <td>-0.011282</td>\n",
       "    </tr>\n",
       "    <tr>\n",
       "      <th>3</th>\n",
       "      <td>HAG_Doc4_Frozen2</td>\n",
       "      <td>0.000870</td>\n",
       "      <td>-0.000682</td>\n",
       "      <td>-0.000231</td>\n",
       "      <td>-0.000587</td>\n",
       "      <td>1.368809e-03</td>\n",
       "      <td>-0.001585</td>\n",
       "      <td>-0.000946</td>\n",
       "      <td>0.001338</td>\n",
       "      <td>-0.000306</td>\n",
       "      <td>...</td>\n",
       "      <td>-0.000282</td>\n",
       "      <td>-0.000967</td>\n",
       "      <td>1.178353e-03</td>\n",
       "      <td>0.001183</td>\n",
       "      <td>-0.001637</td>\n",
       "      <td>0.000719</td>\n",
       "      <td>0.000426</td>\n",
       "      <td>0.001446</td>\n",
       "      <td>0.000452</td>\n",
       "      <td>-0.001244</td>\n",
       "    </tr>\n",
       "    <tr>\n",
       "      <th>4</th>\n",
       "      <td>HAG_Doc5_Frozen2</td>\n",
       "      <td>-0.002116</td>\n",
       "      <td>-0.002606</td>\n",
       "      <td>-0.002502</td>\n",
       "      <td>0.002160</td>\n",
       "      <td>3.617995e-03</td>\n",
       "      <td>0.003449</td>\n",
       "      <td>0.001086</td>\n",
       "      <td>0.002604</td>\n",
       "      <td>0.001382</td>\n",
       "      <td>...</td>\n",
       "      <td>0.002737</td>\n",
       "      <td>-0.004264</td>\n",
       "      <td>1.332001e-03</td>\n",
       "      <td>0.003585</td>\n",
       "      <td>0.002786</td>\n",
       "      <td>-0.003242</td>\n",
       "      <td>-0.005395</td>\n",
       "      <td>0.001840</td>\n",
       "      <td>-0.002999</td>\n",
       "      <td>-0.003355</td>\n",
       "    </tr>\n",
       "    <tr>\n",
       "      <th>5</th>\n",
       "      <td>HAG_Doc6_Frozen2</td>\n",
       "      <td>-0.007132</td>\n",
       "      <td>0.001274</td>\n",
       "      <td>-0.012574</td>\n",
       "      <td>0.003321</td>\n",
       "      <td>1.227066e-02</td>\n",
       "      <td>0.013582</td>\n",
       "      <td>0.003173</td>\n",
       "      <td>0.014371</td>\n",
       "      <td>0.010069</td>\n",
       "      <td>...</td>\n",
       "      <td>0.017360</td>\n",
       "      <td>-0.023471</td>\n",
       "      <td>6.070823e-03</td>\n",
       "      <td>0.016466</td>\n",
       "      <td>0.008660</td>\n",
       "      <td>-0.013904</td>\n",
       "      <td>-0.023689</td>\n",
       "      <td>0.011743</td>\n",
       "      <td>-0.008770</td>\n",
       "      <td>-0.011510</td>\n",
       "    </tr>\n",
       "    <tr>\n",
       "      <th>6</th>\n",
       "      <td>HAG_Doc7_Frozen2</td>\n",
       "      <td>-0.011242</td>\n",
       "      <td>-0.001391</td>\n",
       "      <td>-0.015612</td>\n",
       "      <td>0.007059</td>\n",
       "      <td>6.649409e-03</td>\n",
       "      <td>0.014235</td>\n",
       "      <td>0.003879</td>\n",
       "      <td>0.013347</td>\n",
       "      <td>0.010918</td>\n",
       "      <td>...</td>\n",
       "      <td>0.021358</td>\n",
       "      <td>-0.027441</td>\n",
       "      <td>6.620719e-03</td>\n",
       "      <td>0.021252</td>\n",
       "      <td>0.011231</td>\n",
       "      <td>-0.018924</td>\n",
       "      <td>-0.028632</td>\n",
       "      <td>0.015974</td>\n",
       "      <td>-0.009289</td>\n",
       "      <td>-0.012867</td>\n",
       "    </tr>\n",
       "    <tr>\n",
       "      <th>7</th>\n",
       "      <td>HAG_Doc8_Frozen2</td>\n",
       "      <td>-0.000831</td>\n",
       "      <td>0.000349</td>\n",
       "      <td>-0.001018</td>\n",
       "      <td>0.001521</td>\n",
       "      <td>-7.986231e-04</td>\n",
       "      <td>-0.001238</td>\n",
       "      <td>-0.001370</td>\n",
       "      <td>0.000683</td>\n",
       "      <td>0.001306</td>\n",
       "      <td>...</td>\n",
       "      <td>0.000583</td>\n",
       "      <td>-0.001570</td>\n",
       "      <td>-3.141899e-07</td>\n",
       "      <td>-0.000496</td>\n",
       "      <td>0.000538</td>\n",
       "      <td>-0.000377</td>\n",
       "      <td>0.001127</td>\n",
       "      <td>0.000067</td>\n",
       "      <td>0.001242</td>\n",
       "      <td>-0.000444</td>\n",
       "    </tr>\n",
       "    <tr>\n",
       "      <th>8</th>\n",
       "      <td>HAG_Doc9_Frozen2</td>\n",
       "      <td>-0.000622</td>\n",
       "      <td>-0.000302</td>\n",
       "      <td>0.000098</td>\n",
       "      <td>-0.000783</td>\n",
       "      <td>-8.613665e-05</td>\n",
       "      <td>-0.000850</td>\n",
       "      <td>0.000509</td>\n",
       "      <td>0.001120</td>\n",
       "      <td>0.000956</td>\n",
       "      <td>...</td>\n",
       "      <td>-0.001154</td>\n",
       "      <td>0.001010</td>\n",
       "      <td>-1.051973e-03</td>\n",
       "      <td>-0.001137</td>\n",
       "      <td>-0.001528</td>\n",
       "      <td>0.000009</td>\n",
       "      <td>0.000082</td>\n",
       "      <td>0.001304</td>\n",
       "      <td>-0.001091</td>\n",
       "      <td>-0.001134</td>\n",
       "    </tr>\n",
       "    <tr>\n",
       "      <th>9</th>\n",
       "      <td>HAG_Doc10_Frozen2</td>\n",
       "      <td>-0.001251</td>\n",
       "      <td>-0.000037</td>\n",
       "      <td>0.001539</td>\n",
       "      <td>-0.001143</td>\n",
       "      <td>7.279061e-04</td>\n",
       "      <td>-0.001082</td>\n",
       "      <td>-0.000552</td>\n",
       "      <td>0.000640</td>\n",
       "      <td>-0.000452</td>\n",
       "      <td>...</td>\n",
       "      <td>-0.001593</td>\n",
       "      <td>-0.000184</td>\n",
       "      <td>-1.418214e-03</td>\n",
       "      <td>-0.000164</td>\n",
       "      <td>0.001029</td>\n",
       "      <td>-0.000155</td>\n",
       "      <td>0.000101</td>\n",
       "      <td>-0.000333</td>\n",
       "      <td>0.000210</td>\n",
       "      <td>0.000880</td>\n",
       "    </tr>\n",
       "  </tbody>\n",
       "</table>\n",
       "<p>10 rows × 301 columns</p>\n",
       "</div>"
      ],
      "text/plain": [
       "               title         0         1         2         3             4  \\\n",
       "0   HAG_Doc1_Frozen2 -0.000337 -0.000222  0.001509  0.000955 -5.460880e-04   \n",
       "1   HAG_Doc2_Frozen2 -0.000243  0.000068  0.000679  0.001110 -1.293477e-07   \n",
       "2   HAG_Doc3_Frozen2 -0.005381 -0.002142 -0.010715  0.000732  1.154464e-02   \n",
       "3   HAG_Doc4_Frozen2  0.000870 -0.000682 -0.000231 -0.000587  1.368809e-03   \n",
       "4   HAG_Doc5_Frozen2 -0.002116 -0.002606 -0.002502  0.002160  3.617995e-03   \n",
       "5   HAG_Doc6_Frozen2 -0.007132  0.001274 -0.012574  0.003321  1.227066e-02   \n",
       "6   HAG_Doc7_Frozen2 -0.011242 -0.001391 -0.015612  0.007059  6.649409e-03   \n",
       "7   HAG_Doc8_Frozen2 -0.000831  0.000349 -0.001018  0.001521 -7.986231e-04   \n",
       "8   HAG_Doc9_Frozen2 -0.000622 -0.000302  0.000098 -0.000783 -8.613665e-05   \n",
       "9  HAG_Doc10_Frozen2 -0.001251 -0.000037  0.001539 -0.001143  7.279061e-04   \n",
       "\n",
       "          5         6         7         8  ...       290       291  \\\n",
       "0  0.001512 -0.000914 -0.000520  0.000952  ... -0.001462 -0.000249   \n",
       "1 -0.000083  0.001216 -0.000314 -0.000101  ...  0.001440 -0.000517   \n",
       "2  0.018815  0.005866  0.017159  0.010340  ...  0.022598 -0.026848   \n",
       "3 -0.001585 -0.000946  0.001338 -0.000306  ... -0.000282 -0.000967   \n",
       "4  0.003449  0.001086  0.002604  0.001382  ...  0.002737 -0.004264   \n",
       "5  0.013582  0.003173  0.014371  0.010069  ...  0.017360 -0.023471   \n",
       "6  0.014235  0.003879  0.013347  0.010918  ...  0.021358 -0.027441   \n",
       "7 -0.001238 -0.001370  0.000683  0.001306  ...  0.000583 -0.001570   \n",
       "8 -0.000850  0.000509  0.001120  0.000956  ... -0.001154  0.001010   \n",
       "9 -0.001082 -0.000552  0.000640 -0.000452  ... -0.001593 -0.000184   \n",
       "\n",
       "            292       293       294       295       296       297       298  \\\n",
       "0  8.007520e-04  0.000131  0.000019 -0.001284  0.000460  0.000391  0.000654   \n",
       "1 -5.744795e-04  0.000386 -0.000361 -0.000147 -0.000974 -0.000143  0.000666   \n",
       "2  6.094898e-03  0.017605  0.010706 -0.012601 -0.026814  0.011140 -0.005980   \n",
       "3  1.178353e-03  0.001183 -0.001637  0.000719  0.000426  0.001446  0.000452   \n",
       "4  1.332001e-03  0.003585  0.002786 -0.003242 -0.005395  0.001840 -0.002999   \n",
       "5  6.070823e-03  0.016466  0.008660 -0.013904 -0.023689  0.011743 -0.008770   \n",
       "6  6.620719e-03  0.021252  0.011231 -0.018924 -0.028632  0.015974 -0.009289   \n",
       "7 -3.141899e-07 -0.000496  0.000538 -0.000377  0.001127  0.000067  0.001242   \n",
       "8 -1.051973e-03 -0.001137 -0.001528  0.000009  0.000082  0.001304 -0.001091   \n",
       "9 -1.418214e-03 -0.000164  0.001029 -0.000155  0.000101 -0.000333  0.000210   \n",
       "\n",
       "        299  \n",
       "0  0.000732  \n",
       "1 -0.000463  \n",
       "2 -0.011282  \n",
       "3 -0.001244  \n",
       "4 -0.003355  \n",
       "5 -0.011510  \n",
       "6 -0.012867  \n",
       "7 -0.000444  \n",
       "8 -0.001134  \n",
       "9  0.000880  \n",
       "\n",
       "[10 rows x 301 columns]"
      ]
     },
     "execution_count": 767,
     "metadata": {},
     "output_type": "execute_result"
    }
   ],
   "source": [
    "documents = [TaggedDocument(doc, [i]) for i, doc in enumerate(final_processed_text)]\n",
    "model = Doc2Vec(documents, vector_size=300, window=2, min_count=1, workers=4)\n",
    "\n",
    "doc2vec_df=pd.DataFrame()\n",
    "for i in range(0,len(processed_text)):\n",
    "    vector=pd.DataFrame(model.infer_vector(processed_text[i])).transpose()\n",
    "    doc2vec_df=pd.concat([doc2vec_df,vector], axis=0)\n",
    "\n",
    "doc2vec_df=doc2vec_df.reset_index()\n",
    "\n",
    "doc_titles={'title': titles}\n",
    "t=pd.DataFrame(doc_titles)\n",
    "\n",
    "doc2vec_df=pd.concat([t, doc2vec_df], axis=1)\n",
    "\n",
    "doc2vec_df=doc2vec_df.drop('index', axis=1)\n",
    "\n",
    "doc2vec_df.head(10)"
   ]
  },
  {
   "cell_type": "code",
   "execution_count": 768,
   "metadata": {},
   "outputs": [
    {
     "data": {
      "text/plain": [
       "445"
      ]
     },
     "execution_count": 768,
     "metadata": {},
     "output_type": "execute_result"
    }
   ],
   "source": [
    "len(processed_text[248])"
   ]
  },
  {
   "cell_type": "markdown",
   "metadata": {},
   "source": [
    "### Functions Process Text and Create the Required TFIDF and Doc2vec Matrices"
   ]
  },
  {
   "cell_type": "code",
   "execution_count": 769,
   "metadata": {},
   "outputs": [],
   "source": [
    "# #functions used to \n",
    "# def clean_doc(doc): \n",
    "#     #split document into individual words\n",
    "#     tokens=doc.split()\n",
    "#     re_punc = re.compile('[%s]' % re.escape(string.punctuation))\n",
    "#     # remove punctuation from each word\n",
    "#     tokens = [re_punc.sub('', w) for w in tokens]\n",
    "#     # remove remaining tokens that are not alphabetic\n",
    "#     tokens = [word for word in tokens if word.isalpha()]\n",
    "#     # filter out short tokens\n",
    "#     tokens = [word for word in tokens if len(word) > 4]\n",
    "#     #lowercase all words\n",
    "#     tokens = [word.lower() for word in tokens]\n",
    "#     # filter out stop words\n",
    "#     stop_words = set(stopwords.words('english'))\n",
    "#     tokens = [w for w in tokens if not w in stop_words]         \n",
    "#     # word stemming    \n",
    "#     # ps=PorterStemmer()\n",
    "#     # tokens=[ps.stem(word) for word in tokens]\n",
    "#     return tokens\n",
    "\n",
    "# def final_processed_text(doc):\n",
    "#     #this is a function to join the processed text back\n",
    "#     ' '.join(doc)\n",
    "#     return doc\n",
    "\n",
    "def tfidf(corpus, titles, ngram_range = (1,1),  norm=None, lowercase=False):\n",
    "    #this is a function to created the tfidf matrix\n",
    "    Tfidf=TfidfVectorizer(ngram_range= ngram_range, norm= norm, lowercase=lowercase)\n",
    "\n",
    "    #fit the vectorizer using final processed documents.  The vectorizer requires the \n",
    "    #stiched back together document.\n",
    "\n",
    "    TFIDF_matrix=Tfidf.fit_transform(corpus)     \n",
    "\n",
    "    #creating datafram from TFIDF Matrix\n",
    "    words = Tfidf.get_feature_names()\n",
    "    matrix=pd.DataFrame(TFIDF_matrix.toarray(), columns=Tfidf.get_feature_names(), index=titles)\n",
    "    return matrix\n",
    "\n",
    "\n",
    "def One_Hot(variable):\n",
    "    #this is a function to one hot encode the classes\n",
    "    LE=LabelEncoder()\n",
    "    LE.fit(variable)\n",
    "    Label1=LE.transform(variable)\n",
    "    OHE=OneHotEncoder()\n",
    "    labels=OHE.fit_transform(Label1.reshape(-1,1)).toarray()\n",
    "    return labels\n",
    "\n"
   ]
  },
  {
   "cell_type": "markdown",
   "metadata": {},
   "source": [
    "### Load Data For Analysis"
   ]
  },
  {
   "cell_type": "code",
   "execution_count": 770,
   "metadata": {},
   "outputs": [],
   "source": [
    "#read in class corpus csv into python\n",
    "data=pd.read_csv('C://Users//hag8665//Desktop//MSDS 453//Assignment_1//Class_Corpus_v2.csv')"
   ]
  },
  {
   "cell_type": "markdown",
   "metadata": {},
   "source": [
    "### Dataframe Store the Processed Text and Tokenized text"
   ]
  },
  {
   "cell_type": "code",
   "execution_count": 771,
   "metadata": {},
   "outputs": [],
   "source": [
    "#adding two columns to the dataframe to store the processed text and tokenized text\n",
    "data['processed_text'] = data['Text'].apply(lambda x: clean_doc(x))\n",
    "\n",
    "\n",
    "\n",
    "#creating final processed text variables for matrix creation\n",
    "final_processed_text = [' '.join(x) for x in data['processed_text'].tolist()]\n",
    "titles = data['DSI_Title'].tolist()\n",
    "processed_text = data['processed_text'].tolist()\n",
    "\n",
    "\n",
    "#generate tfidf for analysis\n",
    "tfidf_matrix = tfidf(final_processed_text, titles, ngram_range = (1,1))"
   ]
  },
  {
   "cell_type": "code",
   "execution_count": null,
   "metadata": {},
   "outputs": [],
   "source": []
  },
  {
   "cell_type": "markdown",
   "metadata": {},
   "source": [
    "### Apply Labels "
   ]
  },
  {
   "cell_type": "code",
   "execution_count": 772,
   "metadata": {},
   "outputs": [],
   "source": [
    "labels = data['Review Type (pos or neg)'].apply(lambda x: 0 if x.lower().split(' ')[0] == 'negative' else 1)\n"
   ]
  },
  {
   "cell_type": "markdown",
   "metadata": {},
   "source": [
    "# Functionto split data"
   ]
  },
  {
   "cell_type": "code",
   "execution_count": 773,
   "metadata": {},
   "outputs": [],
   "source": [
    "\n",
    "def split_data(x,y):\n",
    "    X_train, X_test, y_train, y_test = train_test_split(x, y, test_size=0.33, shuffle= True, stratify =labels, random_state=42)\n",
    "    return X_train, X_test, y_train, y_test\n"
   ]
  },
  {
   "cell_type": "markdown",
   "metadata": {},
   "source": [
    "# create data"
   ]
  },
  {
   "cell_type": "code",
   "execution_count": 774,
   "metadata": {},
   "outputs": [],
   "source": [
    "X_train, X_test, y_train, y_test= split_data(tfidf_matrix,labels)"
   ]
  },
  {
   "cell_type": "code",
   "execution_count": 775,
   "metadata": {},
   "outputs": [],
   "source": [
    "def get_acc(model):\n",
    "    \n",
    "    predictions_t = model.predict(X_train)\n",
    "    train_acc = accuracy_score(y_train, predictions_t)\n",
    "    predictions = model.predict(X_test)\n",
    "    test_acc = accuracy_score(y_test, predictions)\n",
    "    \n",
    "    \n",
    "    f1 = f1_score(y_test, predictions)\n",
    "    return  test_acc, train_acc,f1"
   ]
  },
  {
   "cell_type": "code",
   "execution_count": 776,
   "metadata": {},
   "outputs": [],
   "source": [
    "def get_roc(model, proba=True):\n",
    "    if proba:\n",
    "        y_score = model.predict.proba(X_test)\n",
    "    else:\n",
    "        y_score = model.fit(X_train, y_train).decision_function(X_test)\n",
    "    # Compute fpr, tpr, thresholds and roc auc\n",
    "    fpr, tpr, thresholds = roc_curve(y_test, y_score)\n",
    "    roc_auc = auc(fpr, tpr)\n",
    "       \n",
    "\n",
    "    # Plot ROC curve\n",
    "    plt.plot(fpr, tpr, label='ROC curve (area = %0.3f)' % roc_auc)\n",
    "    plt.plot([0, 1], [0, 1], 'k--')  # random predictions curve\n",
    "    plt.xlim([0.0, 1.0])\n",
    "    plt.ylim([0.0, 1.0])\n",
    "    plt.xlabel('False Positive Rate or (1 - Specifity)')\n",
    "    plt.ylabel('True Positive Rate or (Sensitivity)')\n",
    "    plt.title('Receiver Operating Characteristic')\n",
    "    plt.legend(loc=\"lower right\")\n",
    "    plt.show() "
   ]
  },
  {
   "cell_type": "code",
   "execution_count": 777,
   "metadata": {},
   "outputs": [],
   "source": [
    "def acc_score(model= model, x_test= X_test,y_test= y_test):\n",
    "    return np.mean(cross_val_score(model,x_test,y_test,cv=k_fold,scoring=\"accuracy\"))"
   ]
  },
  {
   "cell_type": "code",
   "execution_count": 778,
   "metadata": {},
   "outputs": [],
   "source": [
    "def confusion_matrix_model(model_used = model, x_test= X_test,y_test= y_test):\n",
    "    cm=confusion_matrix(y_test,model_used.predict(x_test))\n",
    "    col=[\"Predicted Dead\",\"Predicted Survived\"]\n",
    "    cm=pd.DataFrame(cm)\n",
    "    cm.columns=[\"Predicted Dead\",\"Predicted Survived\"]\n",
    "    cm.index=[\"Actual Dead\",\"Actual Survived\"]\n",
    "    cm[col]=np.around(cm[col].div(cm[col].sum(axis=1),axis=0),decimals=2)\n",
    "    return cm"
   ]
  },
  {
   "cell_type": "code",
   "execution_count": 779,
   "metadata": {},
   "outputs": [],
   "source": [
    "def importance_of_features(model=model, x_train= X_train):\n",
    "    features = pd.DataFrame()\n",
    "    features['feature'] = x_train.columns\n",
    "    features['importance'] = model.feature_importances_\n",
    "    features.sort_values(by=['importance'], ascending=True, inplace=True)\n",
    "    features.set_index('feature', inplace=True)\n",
    "    return features.plot(kind='barh', figsize=(10,10))"
   ]
  },
  {
   "cell_type": "code",
   "execution_count": 780,
   "metadata": {},
   "outputs": [],
   "source": [
    "def aucscore(model=model, x_test=X_test, y_test= y_test,has_proba=True):\n",
    "    if has_proba:\n",
    "        fpr,tpr,thresh=skplt.metrics.roc_curve(y_test,model.predict_proba(x_test)[:,1])\n",
    "    else:\n",
    "        fpr,tpr,thresh=skplt.metrics.roc_curve(y_test,model.decision_function(x_test))\n",
    "    x=fpr\n",
    "    y=tpr\n",
    "    auc= skplt.metrics.auc(x,y)\n",
    "    return auc\n",
    "\n",
    "def plt_roc_curve(name,model=model, x_test= X_test,y_test= y_test,has_proba=True):\n",
    "    if has_proba:\n",
    "        fpr,tpr,thresh=skplt.metrics.roc_curve(y_test,model.predict_proba(x_test)[:,1])\n",
    "    else:\n",
    "        fpr,tpr,thresh=skplt.metrics.roc_curve(y_test,model.decision_function(x_test))\n",
    "    x=fpr\n",
    "    y=tpr\n",
    "    auc= skplt.metrics.auc(x,y)\n",
    "    plt.plot(x,y,label='ROC curve for %s (AUC = %0.2f)' % (name, auc))\n",
    "    plt.plot([0, 1], [0, 1], 'k--')\n",
    "    plt.xlim((0,1))\n",
    "    plt.ylim((0,1))\n",
    "    plt.xlabel(\"False Positive Rate\")\n",
    "    plt.ylabel(\"True Positive Rate\")\n",
    "    plt.title(\"ROC Curve\")\n",
    "    plt.legend(loc=\"lower right\")\n",
    "    plt.show()"
   ]
  },
  {
   "cell_type": "code",
   "execution_count": 781,
   "metadata": {},
   "outputs": [],
   "source": [
    "def conf_mat_n(model = model, x_test = X_test, y_test= y_test ):\n",
    "    skplt.metrics.plot_confusion_matrix(y_test, model.predict(x_test),normalize=True, figsize=(10,10))"
   ]
  },
  {
   "cell_type": "code",
   "execution_count": 782,
   "metadata": {},
   "outputs": [],
   "source": [
    "def conf_mat(model = model, x_test = X_test, y_test= y_test):\n",
    "    mtx = confusion_matrix(y_test, model.predict(x_test))\n",
    "    # define classes \n",
    "    classes = [\"negative\", \"postive\"]\n",
    "    temp_df = pd.DataFrame(data=mtx,columns=classes)\n",
    "    temp_df.index = classes\n",
    "    fig, ax = plt.subplots(figsize=(8,8))\n",
    "    sns.heatmap(temp_df, annot=True, fmt='d', linewidths=.75,  cbar=False, ax=ax,cmap='Blues',linecolor='white')\n",
    "    #  square=True,\n",
    "    plt.ylabel('true label')\n",
    "    plt.xlabel('predicted label')"
   ]
  },
  {
   "cell_type": "code",
   "execution_count": 783,
   "metadata": {},
   "outputs": [],
   "source": [
    "def plt_prc(name,model=model, x_test= X_test,y_test= y_test):\n",
    "\n",
    "    precision, recall, thresholds = precision_recall_curve(y_test, model.predict(x_test))\n",
    "    area = auc(recall, precision)\n",
    "    print (\"Area Under Curve: %0.2f\" % area)\n",
    "  \n",
    "\n",
    "    plt.clf()\n",
    "    plt.plot(recall, precision, label='Precision-Recall curve')\n",
    "    plt.xlabel('Recall')\n",
    "    plt.ylabel('Precision')\n",
    "    plt.ylim([0.0, 1.05])\n",
    "    plt.xlim([0.0, 1.0])\n",
    "    plt.title('Precision-Recall Logistic regression: PR-AUC=%0.2f' % area)\n",
    "    plt.legend(loc=\"lower left\")\n",
    "    plt.show()"
   ]
  },
  {
   "cell_type": "code",
   "execution_count": 784,
   "metadata": {},
   "outputs": [],
   "source": [
    "def cl_report(model = model, x_test = X_test, y_test= y_test ,x_train= X_train, y_train =y_train):\n",
    "    print(\"train: \\n\", classification_report(y_train, model.predict(x_train)), \"\\n\",\n",
    "          \"test: \\n\",  classification_report(y_test, model.predict(x_test)))"
   ]
  },
  {
   "cell_type": "code",
   "execution_count": 785,
   "metadata": {},
   "outputs": [],
   "source": [
    "#     n_classes = 1\n",
    "#     y_score = model.fit(X_train, y_train).decision_function(X_test)\n",
    "#     # Compute ROC curve and ROC area for each class\n",
    "#     fpr = dict()\n",
    "#     tpr = dict()\n",
    "#     roc_auc = dict()\n",
    "#     fpr[i], tpr[i], _ = roc_curve(y_test[:], y_score[:])\n",
    "#     roc_auc[i] = auc(fpr[i], tpr[i])\n",
    "\n",
    "#     # Compute micro-average ROC curve and ROC area\n",
    "#     fpr[\"micro\"], tpr[\"micro\"], _ = roc_curve(y_test.ravel(), y_score.ravel())\n",
    "#     roc_auc[\"micro\"] = auc(fpr[\"micro\"], tpr[\"micro\"])\n",
    "    \n",
    "#     lw = 2\n",
    "#     plt.plot(\n",
    "#         fpr[2],\n",
    "#         tpr[2],\n",
    "#         color=\"darkorange\",\n",
    "#         lw=lw,\n",
    "#         label=\"ROC curve (area = %0.2f)\" % roc_auc[2],\n",
    "#     )\n",
    "#     plt.plot([0, 1], [0, 1], color=\"navy\", lw=lw, linestyle=\"--\")\n",
    "#     plt.xlim([0.0, 1.0])\n",
    "#     plt.ylim([0.0, 1.05])\n",
    "#     plt.xlabel(\"False Positive Rate\")\n",
    "#     plt.ylabel(\"True Positive Rate\")\n",
    "#     plt.title(\"Receiver operating characteristic example\")\n",
    "#     plt.legend(loc=\"lower right\")\n",
    "#     plt.show()\n"
   ]
  },
  {
   "cell_type": "markdown",
   "metadata": {},
   "source": [
    "### Load Data For Analysis"
   ]
  },
  {
   "cell_type": "code",
   "execution_count": 786,
   "metadata": {},
   "outputs": [],
   "source": [
    "#read in class corpus csv into python\n",
    "data=pd.read_csv('C://Users//hag8665//Desktop//MSDS 453//Assignment_1//Class_Corpus_v2.csv')"
   ]
  },
  {
   "cell_type": "code",
   "execution_count": null,
   "metadata": {},
   "outputs": [],
   "source": []
  },
  {
   "cell_type": "markdown",
   "metadata": {},
   "source": [
    "### Dataframe Store the Processed Text and Tokenized text"
   ]
  },
  {
   "cell_type": "code",
   "execution_count": 787,
   "metadata": {},
   "outputs": [],
   "source": [
    "#adding two columns to the dataframe to store the processed text and tokenized text\n",
    "data['processed_text'] = data['Text'].apply(lambda x: clean_doc(x))\n",
    "\n",
    "\n",
    "\n",
    "#creating final processed text variables for matrix creation\n",
    "final_processed_text = [' '.join(x) for x in data['processed_text'].tolist()]\n",
    "titles = data['DSI_Title'].tolist()\n",
    "processed_text = data['processed_text'].tolist()\n",
    "\n",
    "\n",
    "#generate tfidf for analysis\n",
    "tfidf_matrix = tfidf(final_processed_text, titles, ngram_range = (1,1))"
   ]
  },
  {
   "cell_type": "code",
   "execution_count": 788,
   "metadata": {},
   "outputs": [],
   "source": [
    "# reduce dimension "
   ]
  },
  {
   "cell_type": "markdown",
   "metadata": {},
   "source": [
    "# 2. Univariate Feature Selection with SelectKBest"
   ]
  },
  {
   "cell_type": "code",
   "execution_count": 789,
   "metadata": {},
   "outputs": [],
   "source": [
    "# from sklearn.feature_selection import SelectKBest, mutual_info_regression\n",
    "# #Select top 2 features based on mutual info regression\n",
    "# selector = SelectKBest(mutual_info_regression, k =100)\n",
    "# selector.fit(tfidf_matrix, labels)\n",
    "# tfidf_matrix.columns[selector.get_support()]"
   ]
  },
  {
   "cell_type": "code",
   "execution_count": 790,
   "metadata": {},
   "outputs": [],
   "source": [
    "#tfidf_matrix.columns#[selector.get_support()]"
   ]
  },
  {
   "cell_type": "code",
   "execution_count": null,
   "metadata": {},
   "outputs": [],
   "source": []
  },
  {
   "cell_type": "code",
   "execution_count": 791,
   "metadata": {},
   "outputs": [],
   "source": [
    "#tfidf_matrix= tfidf_matrix[[tfidf_matrix.columns[selector.get_support()]]]"
   ]
  },
  {
   "cell_type": "markdown",
   "metadata": {},
   "source": [
    "# 1. Variance Threshold Feature Selection"
   ]
  },
  {
   "cell_type": "code",
   "execution_count": 792,
   "metadata": {},
   "outputs": [],
   "source": [
    "# from sklearn.feature_selection import VarianceThreshold\n",
    "# selector = VarianceThreshold(0.5)\n",
    "# selector.fit(tfidf_matrix)\n",
    "# tfidf_matrix.columns[selector.get_support()]"
   ]
  },
  {
   "cell_type": "code",
   "execution_count": 793,
   "metadata": {},
   "outputs": [],
   "source": [
    "# tfidf_matrix= tfidf_matrix[tfidf_matrix.columns[selector.get_support()]]"
   ]
  },
  {
   "cell_type": "markdown",
   "metadata": {},
   "source": [
    "# 4. Feature Selection via SelectFromModel"
   ]
  },
  {
   "cell_type": "code",
   "execution_count": 794,
   "metadata": {},
   "outputs": [],
   "source": [
    "# from sklearn.feature_selection import SelectFromModel"
   ]
  },
  {
   "cell_type": "code",
   "execution_count": 795,
   "metadata": {},
   "outputs": [],
   "source": [
    "# sel = SelectFromModel(estimator=LogisticRegression())\n",
    "# sel.fit(tfidf_matrix, labels)"
   ]
  },
  {
   "cell_type": "code",
   "execution_count": 796,
   "metadata": {},
   "outputs": [],
   "source": [
    "# len(sel.get_support())"
   ]
  },
  {
   "cell_type": "code",
   "execution_count": 797,
   "metadata": {},
   "outputs": [],
   "source": [
    "# tfidf_matrix= tfidf_matrix[tfidf_matrix.columns[(sel.get_support())]]\n"
   ]
  },
  {
   "cell_type": "code",
   "execution_count": 798,
   "metadata": {},
   "outputs": [
    {
     "data": {
      "text/plain": [
       "(249, 15479)"
      ]
     },
     "execution_count": 798,
     "metadata": {},
     "output_type": "execute_result"
    }
   ],
   "source": [
    "tfidf_matrix.shape"
   ]
  },
  {
   "cell_type": "code",
   "execution_count": null,
   "metadata": {},
   "outputs": [],
   "source": []
  },
  {
   "cell_type": "code",
   "execution_count": 799,
   "metadata": {},
   "outputs": [],
   "source": [
    "pca = PCA(n_components=0.95)"
   ]
  },
  {
   "cell_type": "code",
   "execution_count": 800,
   "metadata": {},
   "outputs": [],
   "source": [
    "tfidf_matrix = pca.fit_transform(tfidf_matrix)"
   ]
  },
  {
   "cell_type": "code",
   "execution_count": 801,
   "metadata": {},
   "outputs": [
    {
     "data": {
      "text/plain": [
       "(249, 201)"
      ]
     },
     "execution_count": 801,
     "metadata": {},
     "output_type": "execute_result"
    }
   ],
   "source": [
    "tfidf_matrix.shape"
   ]
  },
  {
   "cell_type": "markdown",
   "metadata": {},
   "source": [
    "### Apply Labels "
   ]
  },
  {
   "cell_type": "code",
   "execution_count": 802,
   "metadata": {},
   "outputs": [],
   "source": [
    "labels = data['Review Type (pos or neg)'].apply(lambda x: 0 if x.lower().split(' ')[0] == 'negative' else 1)\n"
   ]
  },
  {
   "cell_type": "markdown",
   "metadata": {},
   "source": [
    "# Functionto split data"
   ]
  },
  {
   "cell_type": "code",
   "execution_count": 803,
   "metadata": {},
   "outputs": [],
   "source": [
    "\n",
    "def split_data(x,y):\n",
    "    X_train, X_test, y_train, y_test = train_test_split(x, y, test_size=0.33, shuffle= True, stratify =labels, random_state=42)\n",
    "    return X_train, X_test, y_train, y_test\n"
   ]
  },
  {
   "cell_type": "markdown",
   "metadata": {},
   "source": [
    "# create data"
   ]
  },
  {
   "cell_type": "code",
   "execution_count": 804,
   "metadata": {},
   "outputs": [],
   "source": [
    "X_train, X_test, y_train, y_test= split_data(tfidf_matrix,labels)"
   ]
  },
  {
   "cell_type": "code",
   "execution_count": 805,
   "metadata": {},
   "outputs": [],
   "source": [
    "def get_acc(model):\n",
    "    \n",
    "    predictions_t = model.predict(X_train)\n",
    "    train_acc = accuracy_score(y_train, predictions_t)\n",
    "    predictions = model.predict(X_test)\n",
    "    test_acc = accuracy_score(y_test, predictions)\n",
    "    \n",
    "    \n",
    "    f1 = f1_score(y_test, predictions)\n",
    "    return  test_acc, train_acc,f1"
   ]
  },
  {
   "cell_type": "code",
   "execution_count": 806,
   "metadata": {},
   "outputs": [],
   "source": [
    "def get_roc(model, proba=True):\n",
    "    if proba:\n",
    "        y_score = model.predict.proba(X_test)\n",
    "    else:\n",
    "        y_score = model.fit(X_train, y_train).decision_function(X_test)\n",
    "    # Compute fpr, tpr, thresholds and roc auc\n",
    "    fpr, tpr, thresholds = roc_curve(y_test, y_score)\n",
    "    roc_auc = auc(fpr, tpr)\n",
    "       \n",
    "\n",
    "    # Plot ROC curve\n",
    "    plt.plot(fpr, tpr, label='ROC curve (area = %0.3f)' % roc_auc)\n",
    "    plt.plot([0, 1], [0, 1], 'k--')  # random predictions curve\n",
    "    plt.xlim([0.0, 1.0])\n",
    "    plt.ylim([0.0, 1.0])\n",
    "    plt.xlabel('False Positive Rate or (1 - Specifity)')\n",
    "    plt.ylabel('True Positive Rate or (Sensitivity)')\n",
    "    plt.title('Receiver Operating Characteristic')\n",
    "    plt.legend(loc=\"lower right\")\n",
    "    plt.show() "
   ]
  },
  {
   "cell_type": "code",
   "execution_count": 807,
   "metadata": {},
   "outputs": [],
   "source": [
    "def acc_score(model= model, x_test= X_test,y_test= y_test):\n",
    "    return np.mean(cross_val_score(model,x_test,y_test,cv=k_fold,scoring=\"accuracy\"))"
   ]
  },
  {
   "cell_type": "code",
   "execution_count": 808,
   "metadata": {},
   "outputs": [],
   "source": [
    "def confusion_matrix_model(model_used = model, x_test= X_test,y_test= y_test):\n",
    "    cm=confusion_matrix(y_test,model_used.predict(x_test))\n",
    "    col=[\"Predicted Dead\",\"Predicted Survived\"]\n",
    "    cm=pd.DataFrame(cm)\n",
    "    cm.columns=[\"Predicted Dead\",\"Predicted Survived\"]\n",
    "    cm.index=[\"Actual Dead\",\"Actual Survived\"]\n",
    "    cm[col]=np.around(cm[col].div(cm[col].sum(axis=1),axis=0),decimals=2)\n",
    "    return cm"
   ]
  },
  {
   "cell_type": "code",
   "execution_count": 809,
   "metadata": {},
   "outputs": [],
   "source": [
    "def importance_of_features(model=model, x_train= X_train):\n",
    "    features = pd.DataFrame()\n",
    "    features['feature'] = x_train.columns\n",
    "    features['importance'] = model.feature_importances_\n",
    "    features.sort_values(by=['importance'], ascending=True, inplace=True)\n",
    "    features.set_index('feature', inplace=True)\n",
    "    return features.plot(kind='barh', figsize=(10,10))"
   ]
  },
  {
   "cell_type": "code",
   "execution_count": 810,
   "metadata": {},
   "outputs": [],
   "source": [
    "def aucscore(model=model, x_test=X_test, y_test= y_test,has_proba=True):\n",
    "    if has_proba:\n",
    "        fpr,tpr,thresh=skplt.metrics.roc_curve(y_test,model.predict_proba(x_test)[:,1])\n",
    "    else:\n",
    "        fpr,tpr,thresh=skplt.metrics.roc_curve(y_test,model.decision_function(x_test))\n",
    "    x=fpr\n",
    "    y=tpr\n",
    "    auc= skplt.metrics.auc(x,y)\n",
    "    return auc\n",
    "\n",
    "def plt_roc_curve(name,model=model, x_test= X_test,y_test= y_test,has_proba=True):\n",
    "    if has_proba:\n",
    "        fpr,tpr,thresh=skplt.metrics.roc_curve(y_test,model.predict_proba(x_test)[:,1])\n",
    "    else:\n",
    "        fpr,tpr,thresh=skplt.metrics.roc_curve(y_test,model.decision_function(x_test))\n",
    "    x=fpr\n",
    "    y=tpr\n",
    "    auc= skplt.metrics.auc(x,y)\n",
    "    plt.plot(x,y,label='ROC curve for %s (AUC = %0.2f)' % (name, auc))\n",
    "    plt.plot([0, 1], [0, 1], 'k--')\n",
    "    plt.xlim((0,1))\n",
    "    plt.ylim((0,1))\n",
    "    plt.xlabel(\"False Positive Rate\")\n",
    "    plt.ylabel(\"True Positive Rate\")\n",
    "    plt.title(\"ROC Curve\")\n",
    "    plt.legend(loc=\"lower right\")\n",
    "    plt.show()"
   ]
  },
  {
   "cell_type": "code",
   "execution_count": 811,
   "metadata": {},
   "outputs": [],
   "source": [
    "def conf_mat_n(model = model, x_test = X_test, y_test= y_test ):\n",
    "    skplt.metrics.plot_confusion_matrix(y_test, model.predict(x_test),normalize=True, figsize=(10,10))"
   ]
  },
  {
   "cell_type": "code",
   "execution_count": 812,
   "metadata": {},
   "outputs": [],
   "source": [
    "def conf_mat(model = model, x_test = X_test, y_test= y_test):\n",
    "    mtx = confusion_matrix(y_test, model.predict(x_test))\n",
    "    # define classes \n",
    "    classes = [\"negative\", \"postive\"]\n",
    "    temp_df = pd.DataFrame(data=mtx,columns=classes)\n",
    "    temp_df.index = classes\n",
    "    fig, ax = plt.subplots(figsize=(8,8))\n",
    "    sns.heatmap(temp_df, annot=True, fmt='d', linewidths=.75,  cbar=False, ax=ax,cmap='Blues',linecolor='white')\n",
    "    #  square=True,\n",
    "    plt.ylabel('true label')\n",
    "    plt.xlabel('predicted label')"
   ]
  },
  {
   "cell_type": "code",
   "execution_count": 813,
   "metadata": {},
   "outputs": [],
   "source": [
    "def plt_prc(name,model=model, x_test= X_test,y_test= y_test):\n",
    "\n",
    "    precision, recall, thresholds = precision_recall_curve(y_test, model.predict(x_test))\n",
    "    area = auc(recall, precision)\n",
    "    print (\"Area Under Curve: %0.2f\" % area)\n",
    "  \n",
    "\n",
    "    plt.clf()\n",
    "    plt.plot(recall, precision, label='Precision-Recall curve')\n",
    "    plt.xlabel('Recall')\n",
    "    plt.ylabel('Precision')\n",
    "    plt.ylim([0.0, 1.05])\n",
    "    plt.xlim([0.0, 1.0])\n",
    "    plt.title('Precision-Recall Logistic regression: PR-AUC=%0.2f' % area)\n",
    "    plt.legend(loc=\"lower left\")\n",
    "    plt.show()"
   ]
  },
  {
   "cell_type": "code",
   "execution_count": 814,
   "metadata": {},
   "outputs": [],
   "source": [
    "def cl_report(model = model, x_test = X_test, y_test= y_test ,x_train= X_train, y_train =y_train):\n",
    "    print(\"train: \\n\", classification_report(y_train, model.predict(x_train)), \"\\n\",\n",
    "          \"test: \\n\",  classification_report(y_test, model.predict(x_test)))"
   ]
  },
  {
   "cell_type": "code",
   "execution_count": null,
   "metadata": {},
   "outputs": [],
   "source": []
  },
  {
   "cell_type": "markdown",
   "metadata": {},
   "source": [
    "### Support Vector Machines"
   ]
  },
  {
   "cell_type": "code",
   "execution_count": 815,
   "metadata": {},
   "outputs": [],
   "source": [
    "svm_model= SVC()\n",
    "svm_model = svm_model.fit(X_train,y_train)"
   ]
  },
  {
   "cell_type": "code",
   "execution_count": 816,
   "metadata": {},
   "outputs": [
    {
     "name": "stdout",
     "output_type": "stream",
     "text": [
      "train acc:  0.9819277108433735 \n",
      " test acc:  0.4457831325301205 \n",
      " 0.5306122448979592\n"
     ]
    }
   ],
   "source": [
    "svm_test_acc, svm_train_acc, f1 = get_acc(svm_model)\n",
    "\n",
    "print(\"train acc: \", svm_train_acc,\"\\n\", \"test acc: \",svm_test_acc ,\"\\n\",f1)"
   ]
  },
  {
   "cell_type": "markdown",
   "metadata": {},
   "source": [
    "### metrics"
   ]
  },
  {
   "cell_type": "code",
   "execution_count": 817,
   "metadata": {},
   "outputs": [
    {
     "data": {
      "image/png": "[encoded data removed]",
      "text/plain": [
       "<Figure size 432x288 with 1 Axes>"
      ]
     },
     "metadata": {
      "needs_background": "light"
     },
     "output_type": "display_data"
    }
   ],
   "source": [
    "plt_roc_curve(\"svm\",model = svm_model, has_proba=False)"
   ]
  },
  {
   "cell_type": "code",
   "execution_count": 818,
   "metadata": {},
   "outputs": [
    {
     "name": "stdout",
     "output_type": "stream",
     "text": [
      "Area Under Curve: 0.64\n"
     ]
    },
    {
     "data": {
      "image/png": "[encoded data removed]",
      "text/plain": [
       "<Figure size 432x288 with 1 Axes>"
      ]
     },
     "metadata": {
      "needs_background": "light"
     },
     "output_type": "display_data"
    }
   ],
   "source": [
    "plt_prc(\"svm\",model = svm_model)"
   ]
  },
  {
   "cell_type": "code",
   "execution_count": 819,
   "metadata": {},
   "outputs": [
    {
     "data": {
      "image/png": "[encoded data removed]",
      "text/plain": [
       "<Figure size 576x576 with 1 Axes>"
      ]
     },
     "metadata": {
      "needs_background": "light"
     },
     "output_type": "display_data"
    }
   ],
   "source": [
    "conf_mat(model=svm_model)"
   ]
  },
  {
   "cell_type": "code",
   "execution_count": 820,
   "metadata": {},
   "outputs": [
    {
     "data": {
      "image/png": "[encoded data removed]",
      "text/plain": [
       "<Figure size 720x720 with 2 Axes>"
      ]
     },
     "metadata": {
      "needs_background": "light"
     },
     "output_type": "display_data"
    }
   ],
   "source": [
    "conf_mat_n(model=svm_model)"
   ]
  },
  {
   "cell_type": "code",
   "execution_count": 821,
   "metadata": {
    "scrolled": true
   },
   "outputs": [
    {
     "name": "stdout",
     "output_type": "stream",
     "text": [
      "train: \n",
      "               precision    recall  f1-score   support\n",
      "\n",
      "           0       0.99      0.98      0.98        83\n",
      "           1       0.98      0.99      0.98        83\n",
      "\n",
      "    accuracy                           0.98       166\n",
      "   macro avg       0.98      0.98      0.98       166\n",
      "weighted avg       0.98      0.98      0.98       166\n",
      " \n",
      " test: \n",
      "               precision    recall  f1-score   support\n",
      "\n",
      "           0       0.42      0.26      0.32        42\n",
      "           1       0.46      0.63      0.53        41\n",
      "\n",
      "    accuracy                           0.45        83\n",
      "   macro avg       0.44      0.45      0.43        83\n",
      "weighted avg       0.44      0.45      0.43        83\n",
      "\n"
     ]
    }
   ],
   "source": [
    "cl_report(model = svm_model)"
   ]
  },
  {
   "cell_type": "markdown",
   "metadata": {},
   "source": [
    "### Naive Bayes"
   ]
  },
  {
   "cell_type": "code",
   "execution_count": 822,
   "metadata": {},
   "outputs": [
    {
     "ename": "ValueError",
     "evalue": "Negative values in data passed to MultinomialNB (input X)",
     "output_type": "error",
     "traceback": [
      "\u001b[1;31m---------------------------------------------------------------------------\u001b[0m",
      "\u001b[1;31mValueError\u001b[0m                                Traceback (most recent call last)",
      "\u001b[1;32m<ipython-input-822-d5f120455c57>\u001b[0m in \u001b[0;36m<module>\u001b[1;34m\u001b[0m\n\u001b[0;32m      1\u001b[0m \u001b[0mnb_model\u001b[0m \u001b[1;33m=\u001b[0m \u001b[0mMultinomialNB\u001b[0m\u001b[1;33m(\u001b[0m\u001b[1;33m)\u001b[0m\u001b[1;33m\u001b[0m\u001b[1;33m\u001b[0m\u001b[0m\n\u001b[1;32m----> 2\u001b[1;33m \u001b[0mnb_model\u001b[0m \u001b[1;33m=\u001b[0m \u001b[0mnb_model\u001b[0m\u001b[1;33m.\u001b[0m\u001b[0mfit\u001b[0m\u001b[1;33m(\u001b[0m\u001b[0mX_train\u001b[0m\u001b[1;33m,\u001b[0m\u001b[0my_train\u001b[0m\u001b[1;33m)\u001b[0m\u001b[1;33m\u001b[0m\u001b[1;33m\u001b[0m\u001b[0m\n\u001b[0m",
      "\u001b[1;32m~\\Anaconda3\\lib\\site-packages\\sklearn\\naive_bayes.py\u001b[0m in \u001b[0;36mfit\u001b[1;34m(self, X, y, sample_weight)\u001b[0m\n\u001b[0;32m    688\u001b[0m         \u001b[0mn_classes\u001b[0m \u001b[1;33m=\u001b[0m \u001b[0mY\u001b[0m\u001b[1;33m.\u001b[0m\u001b[0mshape\u001b[0m\u001b[1;33m[\u001b[0m\u001b[1;36m1\u001b[0m\u001b[1;33m]\u001b[0m\u001b[1;33m\u001b[0m\u001b[1;33m\u001b[0m\u001b[0m\n\u001b[0;32m    689\u001b[0m         \u001b[0mself\u001b[0m\u001b[1;33m.\u001b[0m\u001b[0m_init_counters\u001b[0m\u001b[1;33m(\u001b[0m\u001b[0mn_classes\u001b[0m\u001b[1;33m,\u001b[0m \u001b[0mn_features\u001b[0m\u001b[1;33m)\u001b[0m\u001b[1;33m\u001b[0m\u001b[1;33m\u001b[0m\u001b[0m\n\u001b[1;32m--> 690\u001b[1;33m         \u001b[0mself\u001b[0m\u001b[1;33m.\u001b[0m\u001b[0m_count\u001b[0m\u001b[1;33m(\u001b[0m\u001b[0mX\u001b[0m\u001b[1;33m,\u001b[0m \u001b[0mY\u001b[0m\u001b[1;33m)\u001b[0m\u001b[1;33m\u001b[0m\u001b[1;33m\u001b[0m\u001b[0m\n\u001b[0m\u001b[0;32m    691\u001b[0m         \u001b[0malpha\u001b[0m \u001b[1;33m=\u001b[0m \u001b[0mself\u001b[0m\u001b[1;33m.\u001b[0m\u001b[0m_check_alpha\u001b[0m\u001b[1;33m(\u001b[0m\u001b[1;33m)\u001b[0m\u001b[1;33m\u001b[0m\u001b[1;33m\u001b[0m\u001b[0m\n\u001b[0;32m    692\u001b[0m         \u001b[0mself\u001b[0m\u001b[1;33m.\u001b[0m\u001b[0m_update_feature_log_prob\u001b[0m\u001b[1;33m(\u001b[0m\u001b[0malpha\u001b[0m\u001b[1;33m)\u001b[0m\u001b[1;33m\u001b[0m\u001b[1;33m\u001b[0m\u001b[0m\n",
      "\u001b[1;32m~\\Anaconda3\\lib\\site-packages\\sklearn\\naive_bayes.py\u001b[0m in \u001b[0;36m_count\u001b[1;34m(self, X, Y)\u001b[0m\n\u001b[0;32m    861\u001b[0m     \u001b[1;32mdef\u001b[0m \u001b[0m_count\u001b[0m\u001b[1;33m(\u001b[0m\u001b[0mself\u001b[0m\u001b[1;33m,\u001b[0m \u001b[0mX\u001b[0m\u001b[1;33m,\u001b[0m \u001b[0mY\u001b[0m\u001b[1;33m)\u001b[0m\u001b[1;33m:\u001b[0m\u001b[1;33m\u001b[0m\u001b[1;33m\u001b[0m\u001b[0m\n\u001b[0;32m    862\u001b[0m         \u001b[1;34m\"\"\"Count and smooth feature occurrences.\"\"\"\u001b[0m\u001b[1;33m\u001b[0m\u001b[1;33m\u001b[0m\u001b[0m\n\u001b[1;32m--> 863\u001b[1;33m         \u001b[0mcheck_non_negative\u001b[0m\u001b[1;33m(\u001b[0m\u001b[0mX\u001b[0m\u001b[1;33m,\u001b[0m \u001b[1;34m\"MultinomialNB (input X)\"\u001b[0m\u001b[1;33m)\u001b[0m\u001b[1;33m\u001b[0m\u001b[1;33m\u001b[0m\u001b[0m\n\u001b[0m\u001b[0;32m    864\u001b[0m         \u001b[0mself\u001b[0m\u001b[1;33m.\u001b[0m\u001b[0mfeature_count_\u001b[0m \u001b[1;33m+=\u001b[0m \u001b[0msafe_sparse_dot\u001b[0m\u001b[1;33m(\u001b[0m\u001b[0mY\u001b[0m\u001b[1;33m.\u001b[0m\u001b[0mT\u001b[0m\u001b[1;33m,\u001b[0m \u001b[0mX\u001b[0m\u001b[1;33m)\u001b[0m\u001b[1;33m\u001b[0m\u001b[1;33m\u001b[0m\u001b[0m\n\u001b[0;32m    865\u001b[0m         \u001b[0mself\u001b[0m\u001b[1;33m.\u001b[0m\u001b[0mclass_count_\u001b[0m \u001b[1;33m+=\u001b[0m \u001b[0mY\u001b[0m\u001b[1;33m.\u001b[0m\u001b[0msum\u001b[0m\u001b[1;33m(\u001b[0m\u001b[0maxis\u001b[0m\u001b[1;33m=\u001b[0m\u001b[1;36m0\u001b[0m\u001b[1;33m)\u001b[0m\u001b[1;33m\u001b[0m\u001b[1;33m\u001b[0m\u001b[0m\n",
      "\u001b[1;32m~\\Anaconda3\\lib\\site-packages\\sklearn\\utils\\validation.py\u001b[0m in \u001b[0;36mcheck_non_negative\u001b[1;34m(X, whom)\u001b[0m\n\u001b[0;32m   1247\u001b[0m \u001b[1;33m\u001b[0m\u001b[0m\n\u001b[0;32m   1248\u001b[0m     \u001b[1;32mif\u001b[0m \u001b[0mX_min\u001b[0m \u001b[1;33m<\u001b[0m \u001b[1;36m0\u001b[0m\u001b[1;33m:\u001b[0m\u001b[1;33m\u001b[0m\u001b[1;33m\u001b[0m\u001b[0m\n\u001b[1;32m-> 1249\u001b[1;33m         \u001b[1;32mraise\u001b[0m \u001b[0mValueError\u001b[0m\u001b[1;33m(\u001b[0m\u001b[1;34m\"Negative values in data passed to %s\"\u001b[0m \u001b[1;33m%\u001b[0m \u001b[0mwhom\u001b[0m\u001b[1;33m)\u001b[0m\u001b[1;33m\u001b[0m\u001b[1;33m\u001b[0m\u001b[0m\n\u001b[0m\u001b[0;32m   1250\u001b[0m \u001b[1;33m\u001b[0m\u001b[0m\n\u001b[0;32m   1251\u001b[0m \u001b[1;33m\u001b[0m\u001b[0m\n",
      "\u001b[1;31mValueError\u001b[0m: Negative values in data passed to MultinomialNB (input X)"
     ]
    }
   ],
   "source": [
    "nb_model = MultinomialNB()\n",
    "nb_model = nb_model.fit(X_train,y_train)"
   ]
  },
  {
   "cell_type": "code",
   "execution_count": null,
   "metadata": {},
   "outputs": [],
   "source": [
    "nb_test_acc, nb_train_acc,f1 = get_acc(nb_model)\n",
    "\n",
    "print(\"train acc: \", nb_train_acc,\"\\n\", \"test acc: \",nb_test_acc,\"\\n\",f1)"
   ]
  },
  {
   "cell_type": "markdown",
   "metadata": {},
   "source": [
    "### metrics"
   ]
  },
  {
   "cell_type": "code",
   "execution_count": null,
   "metadata": {},
   "outputs": [],
   "source": [
    "plt_roc_curve(\"NB\",model = nb_model, has_proba=True)"
   ]
  },
  {
   "cell_type": "code",
   "execution_count": null,
   "metadata": {},
   "outputs": [],
   "source": [
    "plt_prc(\"svm\",model = nb_model)"
   ]
  },
  {
   "cell_type": "code",
   "execution_count": null,
   "metadata": {},
   "outputs": [],
   "source": [
    "conf_mat(model=nb_model)"
   ]
  },
  {
   "cell_type": "code",
   "execution_count": null,
   "metadata": {},
   "outputs": [],
   "source": [
    "conf_mat_n(model=nb_model)"
   ]
  },
  {
   "cell_type": "code",
   "execution_count": null,
   "metadata": {},
   "outputs": [],
   "source": [
    "cl_report(model = nb_model)"
   ]
  },
  {
   "cell_type": "markdown",
   "metadata": {},
   "source": [
    "### Random Forest"
   ]
  },
  {
   "cell_type": "code",
   "execution_count": 823,
   "metadata": {},
   "outputs": [],
   "source": [
    "rf_model = RandomForestClassifier(n_estimators=150,bootstrap=False,min_samples_leaf=4)\n",
    "rf_model = rf_model.fit(X_train,y_train)"
   ]
  },
  {
   "cell_type": "code",
   "execution_count": 824,
   "metadata": {},
   "outputs": [
    {
     "name": "stdout",
     "output_type": "stream",
     "text": [
      "train acc:  1.0 \n",
      " test acc:  0.5180722891566265 \n",
      " 0.5454545454545454\n"
     ]
    }
   ],
   "source": [
    "rf_test_acc, rf_train_acc,f1 = get_acc(rf_model)\n",
    "\n",
    "print(\"train acc: \", rf_train_acc,\"\\n\", \"test acc: \",rf_test_acc,\"\\n\",f1)"
   ]
  },
  {
   "cell_type": "markdown",
   "metadata": {},
   "source": [
    "### metrics"
   ]
  },
  {
   "cell_type": "code",
   "execution_count": 825,
   "metadata": {},
   "outputs": [
    {
     "data": {
      "image/png": "[encoded data removed]",
      "text/plain": [
       "<Figure size 432x288 with 1 Axes>"
      ]
     },
     "metadata": {
      "needs_background": "light"
     },
     "output_type": "display_data"
    }
   ],
   "source": [
    "plt_roc_curve(\"RF\",model = rf_model, has_proba=True)"
   ]
  },
  {
   "cell_type": "code",
   "execution_count": 826,
   "metadata": {},
   "outputs": [
    {
     "name": "stdout",
     "output_type": "stream",
     "text": [
      "Area Under Curve: 0.65\n"
     ]
    },
    {
     "data": {
      "image/png": "[encoded data removed]",
      "text/plain": [
       "<Figure size 432x288 with 1 Axes>"
      ]
     },
     "metadata": {
      "needs_background": "light"
     },
     "output_type": "display_data"
    }
   ],
   "source": [
    "plt_prc(\"rf\",model = rf_model)"
   ]
  },
  {
   "cell_type": "code",
   "execution_count": 827,
   "metadata": {},
   "outputs": [
    {
     "data": {
      "image/png": "[encoded data removed]",
      "text/plain": [
       "<Figure size 576x576 with 1 Axes>"
      ]
     },
     "metadata": {
      "needs_background": "light"
     },
     "output_type": "display_data"
    }
   ],
   "source": [
    "conf_mat(model=rf_model)"
   ]
  },
  {
   "cell_type": "code",
   "execution_count": 828,
   "metadata": {},
   "outputs": [
    {
     "data": {
      "image/png": "[encoded data removed]",
      "text/plain": [
       "<Figure size 720x720 with 2 Axes>"
      ]
     },
     "metadata": {
      "needs_background": "light"
     },
     "output_type": "display_data"
    }
   ],
   "source": [
    "conf_mat_n(model=rf_model)"
   ]
  },
  {
   "cell_type": "code",
   "execution_count": 829,
   "metadata": {},
   "outputs": [
    {
     "name": "stdout",
     "output_type": "stream",
     "text": [
      "train: \n",
      "               precision    recall  f1-score   support\n",
      "\n",
      "           0       1.00      1.00      1.00        83\n",
      "           1       1.00      1.00      1.00        83\n",
      "\n",
      "    accuracy                           1.00       166\n",
      "   macro avg       1.00      1.00      1.00       166\n",
      "weighted avg       1.00      1.00      1.00       166\n",
      " \n",
      " test: \n",
      "               precision    recall  f1-score   support\n",
      "\n",
      "           0       0.53      0.45      0.49        42\n",
      "           1       0.51      0.59      0.55        41\n",
      "\n",
      "    accuracy                           0.52        83\n",
      "   macro avg       0.52      0.52      0.52        83\n",
      "weighted avg       0.52      0.52      0.52        83\n",
      "\n"
     ]
    }
   ],
   "source": [
    "cl_report(model = rf_model)"
   ]
  },
  {
   "cell_type": "markdown",
   "metadata": {},
   "source": [
    "# Logistic Regression"
   ]
  },
  {
   "cell_type": "code",
   "execution_count": 830,
   "metadata": {},
   "outputs": [],
   "source": [
    "lr_model = model = LogisticRegression(solver='liblinear')\n",
    "lr_model = lr_model.fit(X_train,y_train)"
   ]
  },
  {
   "cell_type": "code",
   "execution_count": 831,
   "metadata": {},
   "outputs": [
    {
     "name": "stdout",
     "output_type": "stream",
     "text": [
      "train acc:  1.0 \n",
      " test acc:  0.6265060240963856 \n",
      " 0.6436781609195402\n"
     ]
    }
   ],
   "source": [
    "lr_test_acc, lr_train_acc,f1 = get_acc(lr_model)\n",
    "\n",
    "print(\"train acc: \", lr_train_acc,\"\\n\", \"test acc: \",lr_test_acc,\"\\n\",f1)"
   ]
  },
  {
   "cell_type": "markdown",
   "metadata": {},
   "source": [
    "### metrics"
   ]
  },
  {
   "cell_type": "code",
   "execution_count": 832,
   "metadata": {},
   "outputs": [
    {
     "data": {
      "image/png": "[encoded data removed]",
      "text/plain": [
       "<Figure size 432x288 with 1 Axes>"
      ]
     },
     "metadata": {
      "needs_background": "light"
     },
     "output_type": "display_data"
    }
   ],
   "source": [
    "plt_roc_curve(\"LT\",model = lr_model, has_proba=True)"
   ]
  },
  {
   "cell_type": "code",
   "execution_count": 833,
   "metadata": {},
   "outputs": [
    {
     "name": "stdout",
     "output_type": "stream",
     "text": [
      "Area Under Curve: 0.72\n"
     ]
    },
    {
     "data": {
      "image/png": "[encoded data removed]",
      "text/plain": [
       "<Figure size 432x288 with 1 Axes>"
      ]
     },
     "metadata": {
      "needs_background": "light"
     },
     "output_type": "display_data"
    }
   ],
   "source": [
    "plt_prc(\"LR\",model = lr_model)"
   ]
  },
  {
   "cell_type": "code",
   "execution_count": 834,
   "metadata": {},
   "outputs": [
    {
     "data": {
      "image/png": "[encoded data removed]",
      "text/plain": [
       "<Figure size 576x576 with 1 Axes>"
      ]
     },
     "metadata": {
      "needs_background": "light"
     },
     "output_type": "display_data"
    }
   ],
   "source": [
    "conf_mat(model=lr_model)"
   ]
  },
  {
   "cell_type": "code",
   "execution_count": 835,
   "metadata": {},
   "outputs": [
    {
     "data": {
      "image/png": "[encoded data removed]",
      "text/plain": [
       "<Figure size 720x720 with 2 Axes>"
      ]
     },
     "metadata": {
      "needs_background": "light"
     },
     "output_type": "display_data"
    }
   ],
   "source": [
    "conf_mat_n(model=lr_model)"
   ]
  },
  {
   "cell_type": "code",
   "execution_count": null,
   "metadata": {},
   "outputs": [],
   "source": [
    "cl_report(model = lr_model)"
   ]
  },
  {
   "cell_type": "code",
   "execution_count": null,
   "metadata": {},
   "outputs": [],
   "source": [
    "# get feature impotance"
   ]
  },
  {
   "cell_type": "code",
   "execution_count": null,
   "metadata": {},
   "outputs": [],
   "source": [
    "\n",
    "# from sklearn.metrics import r2_score\n",
    "# from rfpimp import permutation_importances\n",
    "\n",
    "# def r2(rf, X_train, y_train):\n",
    "#     return r2_score(y_train, rf.predict(X_train))\n",
    "\n",
    "# perm_imp_rfpimp = permutation_importances(rf_model, X_train, y_train, r2)"
   ]
  },
  {
   "cell_type": "code",
   "execution_count": null,
   "metadata": {},
   "outputs": [],
   "source": []
  },
  {
   "cell_type": "code",
   "execution_count": null,
   "metadata": {},
   "outputs": [],
   "source": [
    "# import eli5\n",
    "# from eli5.sklearn import PermutationImportance\n",
    "\n",
    "# perm = PermutationImportance(rf_model, cv = None, refit = False, n_iter = 50).fit(X_train, y_train)\n",
    "# perm_imp_eli5 = imp_df(X_train.columns, perm.feature_importances_)"
   ]
  },
  {
   "cell_type": "markdown",
   "metadata": {},
   "source": [
    "# Grid search to optimize parameters\n"
   ]
  },
  {
   "cell_type": "code",
   "execution_count": null,
   "metadata": {},
   "outputs": [],
   "source": [
    "from sklearn.model_selection import GridSearchCV\n",
    "# Create the parameter grid based on the results of random search \n",
    "param_grid = param_grid = { \n",
    "            \"n_estimators\"      : [100,125,150],\n",
    "            \"max_features\"      : [\"auto\", \"sqrt\", \"log2\"],\n",
    "            \"min_samples_split\" : [2,4,8],\n",
    "            \"bootstrap\": [True, False],\n",
    "            }\n",
    "# Create a based model\n",
    "rf = RandomForestClassifier()\n",
    "# Instantiate the grid search model\n",
    "grid_search = GridSearchCV(estimator = rf, param_grid = param_grid, \n",
    "                          cv = 3, n_jobs = -1, verbose = 2)"
   ]
  },
  {
   "cell_type": "code",
   "execution_count": null,
   "metadata": {},
   "outputs": [],
   "source": [
    "grid_search.fit(X_train, y_train)"
   ]
  },
  {
   "cell_type": "code",
   "execution_count": null,
   "metadata": {},
   "outputs": [],
   "source": [
    "grid_search.best_estimator_"
   ]
  },
  {
   "cell_type": "code",
   "execution_count": null,
   "metadata": {},
   "outputs": [],
   "source": [
    "grid_search.best_estimator_"
   ]
  },
  {
   "cell_type": "code",
   "execution_count": null,
   "metadata": {},
   "outputs": [],
   "source": [
    "best_grid = grid_search.best_estimator_\n",
    "grid_accuracy = get_acc(best_grid)"
   ]
  },
  {
   "cell_type": "code",
   "execution_count": null,
   "metadata": {},
   "outputs": [],
   "source": [
    "grid_accuracy"
   ]
  },
  {
   "cell_type": "markdown",
   "metadata": {},
   "source": [
    "# 4. Feature Selection via SelectFromModel"
   ]
  },
  {
   "cell_type": "code",
   "execution_count": null,
   "metadata": {},
   "outputs": [],
   "source": [
    "from sklearn.feature_selection import SelectFromModel"
   ]
  },
  {
   "cell_type": "code",
   "execution_count": null,
   "metadata": {},
   "outputs": [],
   "source": [
    "sel = SelectFromModel(RandomForestClassifier(n_estimators = 50))\n",
    "sel.fit(tfidf_matrix, labels)"
   ]
  },
  {
   "cell_type": "code",
   "execution_count": null,
   "metadata": {},
   "outputs": [],
   "source": [
    "sel.get_support()"
   ]
  },
  {
   "cell_type": "code",
   "execution_count": null,
   "metadata": {},
   "outputs": [],
   "source": [
    "selected_feat= tfidf_matrix.columns[(sel.get_support())]\n",
    "len(selected_feat)"
   ]
  },
  {
   "cell_type": "code",
   "execution_count": null,
   "metadata": {},
   "outputs": [],
   "source": [
    "selected_feat"
   ]
  },
  {
   "cell_type": "markdown",
   "metadata": {},
   "source": [
    "# 1. Variance Threshold Feature Selection"
   ]
  },
  {
   "cell_type": "code",
   "execution_count": null,
   "metadata": {},
   "outputs": [],
   "source": [
    "from sklearn.feature_selection import VarianceThreshold\n",
    "selector = VarianceThreshold(0.5)\n",
    "selector.fit(tfidf_matrix)\n",
    "tfidf_matrix.columns[selector.get_support()]"
   ]
  },
  {
   "cell_type": "markdown",
   "metadata": {},
   "source": [
    "# 2. Univariate Feature Selection with SelectKBest"
   ]
  },
  {
   "cell_type": "code",
   "execution_count": null,
   "metadata": {},
   "outputs": [],
   "source": [
    "from sklearn.feature_selection import SelectKBest, mutual_info_regression\n",
    "#Select top 2 features based on mutual info regression\n",
    "selector = SelectKBest(mutual_info_regression, k =100)\n",
    "selector.fit(tfidf_matrix, labels)\n",
    "tfidf_matrix.columns[selector.get_support()]"
   ]
  },
  {
   "cell_type": "markdown",
   "metadata": {},
   "source": [
    "# 3. Recursive Feature Elimination (RFE)"
   ]
  },
  {
   "cell_type": "code",
   "execution_count": null,
   "metadata": {},
   "outputs": [],
   "source": [
    "# from sklearn.feature_selection import RFE\n",
    "# from sklearn.linear_model import LogisticRegression\n",
    "# # #Selecting the Best important features according to Logistic Regression\n",
    "\n",
    "# rfe_selector = RFE(estimator=LogisticRegression(),n_features_to_select = 500, step = 1)\n",
    "# rfe_selector.fit(tfidf_matrix, labels)\n",
    "# tfidf_matrix.columns[rfe_selector.get_support()]"
   ]
  },
  {
   "cell_type": "code",
   "execution_count": null,
   "metadata": {},
   "outputs": [],
   "source": []
  },
  {
   "cell_type": "markdown",
   "metadata": {},
   "source": [
    "# 5. Feature Selection Sequential Feature Selection (SFS)"
   ]
  },
  {
   "cell_type": "code",
   "execution_count": null,
   "metadata": {},
   "outputs": [],
   "source": [
    "# from sklearn.feature_selection import SequentialFeatureSelector\n",
    "# #Selecting the Best important features according to Logistic Regression\n",
    "# sfs_selector = SequentialFeatureSelector(estimator=LogisticRegression(), n_features_to_select =500, cv =10, direction ='backward')\n",
    "# sfs_selector.fit(tfidf_matrix, labels)\n",
    "# tfidf_matrix.columns[sfs_selector.get_support()]"
   ]
  },
  {
   "cell_type": "code",
   "execution_count": null,
   "metadata": {},
   "outputs": [],
   "source": [
    "import sklearn\n",
    "print(sklearn.__version__)"
   ]
  },
  {
   "cell_type": "code",
   "execution_count": null,
   "metadata": {},
   "outputs": [],
   "source": []
  }
 ],
 "metadata": {
  "kernelspec": {
   "display_name": "Python 3",
   "language": "python",
   "name": "python3"
  },
  "language_info": {
   "codemirror_mode": {
    "name": "ipython",
    "version": 3
   },
   "file_extension": ".py",
   "mimetype": "text/x-python",
   "name": "python",
   "nbconvert_exporter": "python",
   "pygments_lexer": "ipython3",
   "version": "3.8.5"
  }
 },
 "nbformat": 4,
 "nbformat_minor": 4
}
