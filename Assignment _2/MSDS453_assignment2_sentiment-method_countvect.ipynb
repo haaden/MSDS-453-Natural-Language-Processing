{
 "cells": [
  {
   "cell_type": "markdown",
   "metadata": {},
   "source": [
    "<img src=\"https://github.com/djp840/MSDS_453_Public/blob/main/images/NorthwesternHeader.png?raw=1\">"
   ]
  },
  {
   "cell_type": "markdown",
   "metadata": {},
   "source": [
    "## MSDS453 - Research Assignment 01 - First Vectorized Representation"
   ]
  },
  {
   "cell_type": "markdown",
   "metadata": {},
   "source": [
    "\n",
    "Our goal in this exercise is to BEGIN coming to a common agreement, among this class, as to what terms we will use as we selectively refine our corpus-wide vocabulary. This corpus vocabulary is what would represent the content of each different document for clustering and classification purposes, which will be our next step. This means that we need to make decisions - what is in, what is out."
   ]
  },
  {
   "cell_type": "markdown",
   "metadata": {},
   "source": [
    "### Importing Packages"
   ]
  },
  {
   "cell_type": "code",
   "execution_count": 135,
   "metadata": {},
   "outputs": [],
   "source": [
    "import pandas as pd\n",
    "import os\n",
    "import numpy as np\n",
    "import re\n",
    "import string\n",
    "from packaging import version\n",
    "\n",
    "from numpy import array\n",
    "from numpy import argmax\n",
    "\n",
    "import seaborn as sns\n",
    "import matplotlib.pyplot as plt\n",
    "from matplotlib import pyplot\n",
    "\n",
    "import nltk\n",
    "from nltk.corpus import stopwords\n",
    "from nltk.stem import PorterStemmer\n",
    "from nltk.tokenize import word_tokenize \n",
    "from nltk.tokenize import RegexpTokenizer\n",
    "from nltk.stem.wordnet import WordNetLemmatizer\n",
    "from nltk import ngrams, FreqDist\n",
    "from rake_nltk import Rake\n",
    "\n",
    "from sklearn.feature_extraction.text import TfidfVectorizer\n",
    "from sklearn.cluster import KMeans, AgglomerativeClustering\n",
    "from sklearn.metrics.pairwise import cosine_similarity\n",
    "from sklearn.decomposition import TruncatedSVD, LatentDirichletAllocation\n",
    "from sklearn.svm import SVC\n",
    "from sklearn.preprocessing import LabelEncoder, OneHotEncoder\n",
    "from sklearn.ensemble import RandomForestClassifier\n",
    "from sklearn.metrics import roc_auc_score, accuracy_score, confusion_matrix\n",
    "from sklearn.model_selection import cross_val_score, StratifiedKFold\n",
    "from sklearn.tree import DecisionTreeClassifier\n",
    "from sklearn.naive_bayes import MultinomialNB\n",
    "from sklearn.linear_model import LogisticRegression\n",
    "from sklearn.ensemble import RandomForestClassifier\n",
    "from sklearn.metrics import accuracy_score\n",
    "from sklearn.model_selection import train_test_split, KFold\n",
    "from sklearn.manifold import MDS\n",
    "from sklearn.metrics.pairwise import cosine_similarity\n",
    "from matplotlib import pyplot\n",
    "from sklearn.cluster import DBSCAN\n",
    "from sklearn.metrics import plot_confusion_matrix\n",
    "\n",
    "\n",
    "from sklearn.feature_extraction.text import TfidfVectorizer\n",
    "from sklearn.feature_extraction.text import CountVectorizer\n",
    "from sklearn.metrics.pairwise import cosine_similarity\n",
    "from sklearn.cluster import KMeans\n",
    "from sklearn.manifold import MDS\n",
    "from sklearn.preprocessing import LabelEncoder, OneHotEncoder\n",
    "from sklearn.ensemble import RandomForestClassifier\n",
    "from sklearn.metrics import roc_auc_score, accuracy_score, confusion_matrix, silhouette_score\n",
    "from sklearn.model_selection import cross_val_score, StratifiedKFold\n",
    "from sklearn.tree import DecisionTreeClassifier\n",
    "from sklearn.model_selection import train_test_split, KFold\n",
    "from sklearn.manifold import TSNE\n",
    "from sklearn.decomposition import PCA\n",
    "from sklearn.decomposition import TruncatedSVD as SVD\n",
    "from sklearn.metrics import confusion_matrix\n",
    "from sklearn.metrics import roc_curve, auc\n",
    "from sklearn.svm import SVC\n",
    "from sklearn.metrics import classification_report\n",
    "import scikitplot as skplt\n",
    "from sklearn.metrics import precision_recall_curve\n",
    "from sklearn.metrics import f1_score\n",
    "\n",
    "\n",
    "import gensim\n",
    "\n",
    "from gensim.models import Word2Vec,LdaMulticore, TfidfModel, CoherenceModel\n",
    "from gensim import corpora\n",
    "from gensim import similarities\n",
    "from gensim.models.doc2vec import Doc2Vec, TaggedDocument\n",
    "from gensim import corpora\n",
    "from gensim.models import LsiModel,LdaModel"
   ]
  },
  {
   "cell_type": "markdown",
   "metadata": {},
   "source": [
    "<div class=\"alert alert-block alert-danger\">\n",
    "<b>Gensim</b> is a Python library for topic modelling, document indexing and similarity retrieval with large corpora. Target audience is the natural language processing (NLP) and information retrieval (IR) community <br><br>\n",
    "    <b>https://pypi.org/project/gensim/ </b>\n",
    "</div>"
   ]
  },
  {
   "cell_type": "code",
   "execution_count": 136,
   "metadata": {},
   "outputs": [],
   "source": [
    "import pkg_resources\n",
    "pkg_resources.require(\"gensim<=3.8.3\");"
   ]
  },
  {
   "cell_type": "code",
   "execution_count": 137,
   "metadata": {},
   "outputs": [
    {
     "name": "stdout",
     "output_type": "stream",
     "text": [
      "Genism Version:  3.8.3\n"
     ]
    }
   ],
   "source": [
    "print(\"Genism Version: \", gensim.__version__)"
   ]
  },
  {
   "cell_type": "markdown",
   "metadata": {},
   "source": [
    "### NLTK Downloads"
   ]
  },
  {
   "cell_type": "code",
   "execution_count": 138,
   "metadata": {
    "scrolled": true
   },
   "outputs": [
    {
     "name": "stderr",
     "output_type": "stream",
     "text": [
      "[nltk_data] Downloading package stopwords to\n",
      "[nltk_data]     C:\\Users\\hag8665\\AppData\\Roaming\\nltk_data...\n",
      "[nltk_data]   Package stopwords is already up-to-date!\n",
      "[nltk_data] Downloading package wordnet to\n",
      "[nltk_data]     C:\\Users\\hag8665\\AppData\\Roaming\\nltk_data...\n",
      "[nltk_data]   Package wordnet is already up-to-date!\n",
      "[nltk_data] Downloading package punkt to\n",
      "[nltk_data]     C:\\Users\\hag8665\\AppData\\Roaming\\nltk_data...\n",
      "[nltk_data]   Package punkt is already up-to-date!\n"
     ]
    },
    {
     "data": {
      "text/plain": [
       "True"
      ]
     },
     "execution_count": 138,
     "metadata": {},
     "output_type": "execute_result"
    }
   ],
   "source": [
    "# Only run this once, they will be downloaded.\n",
    "nltk.download('stopwords')\n",
    "nltk.download('wordnet')\n",
    "nltk.download('punkt')"
   ]
  },
  {
   "cell_type": "code",
   "execution_count": 139,
   "metadata": {},
   "outputs": [],
   "source": [
    "import warnings\n",
    "warnings.filterwarnings('ignore')"
   ]
  },
  {
   "cell_type": "markdown",
   "metadata": {},
   "source": [
    "### Create List of Stop Words from NLTK"
   ]
  },
  {
   "cell_type": "code",
   "execution_count": 140,
   "metadata": {},
   "outputs": [],
   "source": [
    "stop_words = set(stopwords.words(\"english\"))"
   ]
  },
  {
   "cell_type": "code",
   "execution_count": null,
   "metadata": {},
   "outputs": [],
   "source": []
  },
  {
   "cell_type": "markdown",
   "metadata": {},
   "source": [
    "### Mount Google Drive to Colab Environment"
   ]
  },
  {
   "cell_type": "code",
   "execution_count": 141,
   "metadata": {},
   "outputs": [],
   "source": [
    "#from google.colab import drive\n",
    "#drive.mount('/content/gdrive')"
   ]
  },
  {
   "cell_type": "markdown",
   "metadata": {},
   "source": [
    "### One-hot Encoding Example "
   ]
  },
  {
   "cell_type": "code",
   "execution_count": 142,
   "metadata": {},
   "outputs": [
    {
     "name": "stdout",
     "output_type": "stream",
     "text": [
      "['ginsburg' 'RBG' 'justice' 'ginsburg']\n",
      "[1 0 2 1]\n",
      "[[0. 1. 0.]\n",
      " [1. 0. 0.]\n",
      " [0. 0. 1.]\n",
      " [0. 1. 0.]]\n"
     ]
    }
   ],
   "source": [
    "# define example\n",
    "data = ['ginsburg', 'RBG', 'justice', 'ginsburg']\n",
    "values = array(data)\n",
    "print(values)\n",
    "# integer encode\n",
    "label_encoder = LabelEncoder()\n",
    "integer_encoded = label_encoder.fit_transform(values)\n",
    "print(integer_encoded)\n",
    "# binary encode\n",
    "onehot_encoder = OneHotEncoder(sparse=False)\n",
    "integer_encoded = integer_encoded.reshape(len(integer_encoded), 1)\n",
    "onehot_encoded = onehot_encoder.fit_transform(integer_encoded)\n",
    "print(onehot_encoded)\n",
    "# invert first example\n",
    "#print(onehot_encoded[0, :])\n",
    "inverted = label_encoder.inverse_transform([argmax(onehot_encoded[0, :])])\n",
    "#print(inverted)"
   ]
  },
  {
   "cell_type": "markdown",
   "metadata": {},
   "source": [
    "## NLP Data Functions"
   ]
  },
  {
   "cell_type": "markdown",
   "metadata": {},
   "source": [
    "### Pre-process dataset to remove punctuation"
   ]
  },
  {
   "cell_type": "code",
   "execution_count": 143,
   "metadata": {},
   "outputs": [],
   "source": [
    "def remove_punctuation(in_text):\n",
    "    # Remove punctuation\n",
    "    text = re.sub('[^a-zA-Z]', ' ', str(in_text))\n",
    "    return text"
   ]
  },
  {
   "cell_type": "markdown",
   "metadata": {},
   "source": [
    "### Pre-process dataset to lower case it"
   ]
  },
  {
   "cell_type": "code",
   "execution_count": 144,
   "metadata": {},
   "outputs": [],
   "source": [
    "def lower_case(in_text):\n",
    "    # Convert to lowercase\n",
    "    text = in_text.lower()    \n",
    "    return text"
   ]
  },
  {
   "cell_type": "markdown",
   "metadata": {},
   "source": [
    "### Pre-process dataset to remove tags"
   ]
  },
  {
   "cell_type": "code",
   "execution_count": 145,
   "metadata": {},
   "outputs": [],
   "source": [
    "def remove_tags(in_text):    \n",
    "    # Remove tags\n",
    "    text=re.sub(\"&lt;/?.*?&gt;\",\" &lt;&gt; \",in_text)\n",
    "    return text"
   ]
  },
  {
   "cell_type": "markdown",
   "metadata": {},
   "source": [
    "### Pre-process dataset to remove special characters and digits"
   ]
  },
  {
   "cell_type": "code",
   "execution_count": 146,
   "metadata": {},
   "outputs": [],
   "source": [
    "\n",
    "def remove_special_chars_and_digits(in_text):\n",
    "    # Remove special characters and digits\n",
    "    text=re.sub(\"(\\\\d|\\\\W)+\",\" \",in_text)\n",
    "    return text\n"
   ]
  },
  {
   "cell_type": "markdown",
   "metadata": {},
   "source": [
    "### Pre-process dataset to appy Stemming"
   ]
  },
  {
   "cell_type": "code",
   "execution_count": 147,
   "metadata": {},
   "outputs": [],
   "source": [
    "def apply_stemming(in_text):\n",
    "    stemmer=PorterStemmer()\n",
    "    word_list = nltk.word_tokenize(in_text)\n",
    "    output = ' '.join([stemmer.stem(w) for w in word_list])\n",
    "    return output"
   ]
  },
  {
   "cell_type": "markdown",
   "metadata": {},
   "source": [
    "### Pre-process dataset to apply Lemmatization"
   ]
  },
  {
   "cell_type": "code",
   "execution_count": 148,
   "metadata": {},
   "outputs": [],
   "source": [
    "def apply_lemmatization(in_text):\n",
    "    # Lemmatization\n",
    "    lem = WordNetLemmatizer()\n",
    "    word_list = nltk.word_tokenize(in_text)\n",
    "    output = ' '.join([lem.lemmatize(w) for w in word_list])\n",
    "    return output"
   ]
  },
  {
   "cell_type": "markdown",
   "metadata": {},
   "source": [
    "### Remove stop words"
   ]
  },
  {
   "cell_type": "code",
   "execution_count": 149,
   "metadata": {},
   "outputs": [],
   "source": [
    "def remove_stop_words(in_text):\n",
    "    stop_words = set(stopwords.words('english')) \n",
    "    word_tokens = word_tokenize(in_text)  \n",
    "    filtered_sentence = [w for w in word_tokens if not w in stop_words] \n",
    "#     filtered_sentence = [] \n",
    "#     for w in word_tokens: \n",
    "#         if w not in stop_words: \n",
    "#             filtered_sentence.append(w) \n",
    "\n",
    "    return filtered_sentence"
   ]
  },
  {
   "cell_type": "markdown",
   "metadata": {},
   "source": [
    "### Run Phase Machine"
   ]
  },
  {
   "cell_type": "code",
   "execution_count": 150,
   "metadata": {},
   "outputs": [],
   "source": [
    "def run_phrase_machine(in_text):\n",
    "    phrases=phrasemachine.get_phrases(in_text)\n",
    "    return phrases"
   ]
  },
  {
   "cell_type": "markdown",
   "metadata": {},
   "source": [
    "### Run Rake Keyword Extractor"
   ]
  },
  {
   "cell_type": "code",
   "execution_count": 151,
   "metadata": {},
   "outputs": [],
   "source": [
    "def run_rake(in_text):\n",
    "    r = Rake()\n",
    "    r.extract_keywords_from_text(in_text)\n",
    "    rake_phrases= r.get_ranked_phrases()\n",
    "    return rake_phrases"
   ]
  },
  {
   "cell_type": "markdown",
   "metadata": {},
   "source": [
    "### Run NLTK Tokenizer"
   ]
  },
  {
   "cell_type": "code",
   "execution_count": 152,
   "metadata": {},
   "outputs": [],
   "source": [
    "def run_nltk_tokenizer(in_text):\n",
    "    tokens=nltk.word_tokenize(in_text)\n",
    "    return tokens"
   ]
  },
  {
   "cell_type": "markdown",
   "metadata": {},
   "source": [
    "### Run NLTK Sentence Tokenizer"
   ]
  },
  {
   "cell_type": "code",
   "execution_count": 153,
   "metadata": {},
   "outputs": [],
   "source": [
    "def run_nltk_sent_tokenizer(in_corpus):\n",
    "    sents = nltk.sent_tokenize(in_corpus)\n",
    "    return sents"
   ]
  },
  {
   "cell_type": "markdown",
   "metadata": {},
   "source": [
    "### Run word-ngram Tokenizer"
   ]
  },
  {
   "cell_type": "code",
   "execution_count": 154,
   "metadata": {},
   "outputs": [],
   "source": [
    "def run_nltk_tokenizer_word_ngrams(in_text, ngram_size):\n",
    "    n_grams = ngrams(nltk.word_tokenize(in_text), ngram_size)\n",
    "    return [ ' '.join(grams) for grams in n_grams]"
   ]
  },
  {
   "cell_type": "markdown",
   "metadata": {},
   "source": [
    "### Get Frequency Distribution "
   ]
  },
  {
   "cell_type": "code",
   "execution_count": 155,
   "metadata": {},
   "outputs": [],
   "source": [
    "def get_freq_dist(terms):\n",
    "    all_counts = dict()\n",
    "    all_counts[size] = FreqDist(terms)\n",
    "    return all_counts"
   ]
  },
  {
   "cell_type": "markdown",
   "metadata": {},
   "source": [
    "### Processing Text into Lists"
   ]
  },
  {
   "cell_type": "code",
   "execution_count": 156,
   "metadata": {},
   "outputs": [],
   "source": [
    "def get_corpus(path_to_file):\n",
    "    #read in class corpus csv into python\n",
    "    data=pd.read_csv(path_to_file)\n",
    "\n",
    "    #create empty list to store text documents titles\n",
    "    titles=[]\n",
    "    docids=[]\n",
    "    #for loop which appends the DSI title to the titles list\n",
    "    for i in range(0,len(data)):\n",
    "        docids.append(data['Doc_ID'].iloc[i])\n",
    "\n",
    "    #for loop which appends the DSI title to the titles list\n",
    "    for i in range(0,len(data)):\n",
    "        titles.append(data['DSI_Title'].iloc[i])\n",
    "\n",
    "    #create empty list to store text documents\n",
    "    text_body=[]\n",
    "\n",
    "    #for loop which appends the text to the text_body list\n",
    "    for i in range(0,len(data)):\n",
    "        temp_text=data['Text'].iloc[i]\n",
    "        temp_text=clean_doc(temp_text)\n",
    "        temp_text = ' '.join(map(str, temp_text))\n",
    "        text_body.append(temp_text)\n",
    "    return (docids,titles,text_body)"
   ]
  },
  {
   "cell_type": "markdown",
   "metadata": {},
   "source": [
    "#  <font color='red'> methods3 for data wragling remove punctuation,stop words ,lemitization, lower and remove non alphabets"
   ]
  },
  {
   "cell_type": "markdown",
   "metadata": {},
   "source": [
    "# function for data wrangling "
   ]
  },
  {
   "cell_type": "code",
   "execution_count": 157,
   "metadata": {},
   "outputs": [],
   "source": [
    "# method 3 remove punctutaion  , stopwords and lemetization, lower and keep character\n",
    "\n",
    "\n",
    "def clean_doc(doc): \n",
    "    \n",
    "    \n",
    "    \n",
    "    doc= remove_punctuation(doc)\n",
    "    doc = lower_case(doc)\n",
    "    #remove stop word\n",
    "    doc = ' '.join(remove_stop_words(doc))\n",
    "    #apply lemitization\n",
    "    doc = apply_lemmatization(doc)\n",
    "    #doc = ' '.join(run_rake(doc))\n",
    "    #apply stemming\n",
    "    #doc = apply_stemming(doc)\n",
    "    #split document into individual words\n",
    "    tokens= doc.split()   \n",
    "    #tokens = list(filter(None, doc))\n",
    "    re_punc = re.compile('[%s]' % re.escape(string.punctuation))\n",
    "    #remove remaining tokens that are not alphabetic\n",
    "   \n",
    "\n",
    "    #remove punctuation from each word\n",
    "    tokens = [re_punc.sub('', w) for w in tokens]\n",
    "    tokens = [word for word in tokens if word.isalpha()]\n",
    "    tokens = [word.lower() for word in tokens]\n",
    "\n",
    "    return tokens"
   ]
  },
  {
   "cell_type": "markdown",
   "metadata": {},
   "source": [
    "#  <font color='red'> Functions to get  word2vec, doc2vec and  visualize documents"
   ]
  },
  {
   "cell_type": "code",
   "execution_count": 158,
   "metadata": {},
   "outputs": [],
   "source": [
    "def process_corpus(data):\n",
    "        \n",
    "    #create empty list to store text documents titles\n",
    "    titles=[]\n",
    "    \n",
    "    #for loop which appends the DSI title to the titles list\n",
    "    for i in range(0,len(data)):\n",
    "        temp_text=data['DSI_Title'].iloc[i]\n",
    "        titles.append(temp_text)\n",
    "    \n",
    "    #create empty list to store text documents\n",
    "    text_body=[]\n",
    "    \n",
    "    #for loop which appends the text to the text_body list\n",
    "    for i in range(0,len(data)):\n",
    "        temp_text=data['Text'].iloc[i]\n",
    "        text_body.append(temp_text)\n",
    "    \n",
    "    #Note: the text_body is the unprocessed list of documents read directly form \n",
    "    #the csv.\n",
    "        \n",
    "    #empty list to store processed documents\n",
    "    processed_text=[]\n",
    "    #for loop to process the text to the processed_text list\n",
    "    for i in text_body:\n",
    "        text=clean_doc(i)\n",
    "        processed_text.append(text)\n",
    "    \n",
    "    #Note: the processed_text is the PROCESSED list of documents read directly form \n",
    "    #the csv.  Note the list of words is separated by commas.\n",
    "    \n",
    "    \n",
    "    #stitch back together individual words to reform body of text\n",
    "    final_processed_text=[]\n",
    "    \n",
    "    for i in processed_text:\n",
    "        temp_DSI=i[0]\n",
    "        for k in range(1,len(i)):\n",
    "            temp_DSI=temp_DSI+' '+i[k]\n",
    "        final_processed_text.append(temp_DSI)\n",
    "    \n",
    "    return titles, final_processed_text, processed_text\n",
    "\n",
    "def run_doc2vec(final_processed_text, processed_text):\n",
    "    #create doc2vec matrix\n",
    "    documents = [TaggedDocument(doc, [i]) for i, doc in enumerate(final_processed_text)]\n",
    "    model = Doc2Vec(documents, vector_size=300, window=3, min_count=2, workers=4)    \n",
    "    \n",
    "    doc2vec_df=pd.DataFrame()\n",
    "    for i in range(0,len(processed_text)):\n",
    "        vector=pd.DataFrame(model.infer_vector(processed_text[i])).transpose()\n",
    "        doc2vec_df=pd.concat([doc2vec_df,vector], axis=0)\n",
    "        \n",
    "    return doc2vec_df\n",
    "\n",
    "def run_word2vec(processed_text):\n",
    "\n",
    "    #word to vec model\n",
    "    model_w2v = Word2Vec(processed_text, size=300, window=3, min_count=2, workers=4)\n",
    "    \n",
    "    labels = []\n",
    "    tokens = []\n",
    "\n",
    "    for word in model_w2v.wv.vocab:\n",
    "        tokens.append(model_w2v[word])\n",
    "        labels.append(word)\n",
    "    \n",
    "    \n",
    "    return labels, tokens, model_w2v\n",
    "\n",
    "\n",
    "    "
   ]
  },
  {
   "cell_type": "markdown",
   "metadata": {},
   "source": [
    "### Processing Text into Lists for tfidf"
   ]
  },
  {
   "cell_type": "markdown",
   "metadata": {},
   "source": [
    "### Source Class Corpus  "
   ]
  },
  {
   "cell_type": "code",
   "execution_count": 159,
   "metadata": {
    "scrolled": false
   },
   "outputs": [],
   "source": [
    "path_to_file='C://Users//hag8665//Desktop//MSDS 453//Assignment_1//Class_Corpus_v2.csv'\n",
    "docids,titles,text=get_corpus(path_to_file)\n"
   ]
  },
  {
   "cell_type": "markdown",
   "metadata": {},
   "source": [
    "### Retreive Word Count Frequencies "
   ]
  },
  {
   "cell_type": "code",
   "execution_count": 160,
   "metadata": {
    "scrolled": true
   },
   "outputs": [
    {
     "data": {
      "text/html": [
       "<div>\n",
       "<style scoped>\n",
       "    .dataframe tbody tr th:only-of-type {\n",
       "        vertical-align: middle;\n",
       "    }\n",
       "\n",
       "    .dataframe tbody tr th {\n",
       "        vertical-align: top;\n",
       "    }\n",
       "\n",
       "    .dataframe thead th {\n",
       "        text-align: right;\n",
       "    }\n",
       "</style>\n",
       "<table border=\"1\" class=\"dataframe\">\n",
       "  <thead>\n",
       "    <tr style=\"text-align: right;\">\n",
       "      <th></th>\n",
       "      <th>word</th>\n",
       "      <th>counts</th>\n",
       "    </tr>\n",
       "  </thead>\n",
       "  <tbody>\n",
       "    <tr>\n",
       "      <th>5197</th>\n",
       "      <td>film</td>\n",
       "      <td>1165</td>\n",
       "    </tr>\n",
       "    <tr>\n",
       "      <th>8880</th>\n",
       "      <td>movie</td>\n",
       "      <td>1026</td>\n",
       "    </tr>\n",
       "    <tr>\n",
       "      <th>9411</th>\n",
       "      <td>one</td>\n",
       "      <td>808</td>\n",
       "    </tr>\n",
       "    <tr>\n",
       "      <th>7910</th>\n",
       "      <td>like</td>\n",
       "      <td>667</td>\n",
       "    </tr>\n",
       "    <tr>\n",
       "      <th>13899</th>\n",
       "      <td>time</td>\n",
       "      <td>458</td>\n",
       "    </tr>\n",
       "    <tr>\n",
       "      <th>2164</th>\n",
       "      <td>character</td>\n",
       "      <td>424</td>\n",
       "    </tr>\n",
       "    <tr>\n",
       "      <th>8225</th>\n",
       "      <td>make</td>\n",
       "      <td>414</td>\n",
       "    </tr>\n",
       "    <tr>\n",
       "      <th>5761</th>\n",
       "      <td>get</td>\n",
       "      <td>412</td>\n",
       "    </tr>\n",
       "    <tr>\n",
       "      <th>13081</th>\n",
       "      <td>story</td>\n",
       "      <td>361</td>\n",
       "    </tr>\n",
       "    <tr>\n",
       "      <th>4742</th>\n",
       "      <td>even</td>\n",
       "      <td>355</td>\n",
       "    </tr>\n",
       "  </tbody>\n",
       "</table>\n",
       "</div>"
      ],
      "text/plain": [
       "            word  counts\n",
       "5197        film    1165\n",
       "8880       movie    1026\n",
       "9411         one     808\n",
       "7910        like     667\n",
       "13899       time     458\n",
       "2164   character     424\n",
       "8225        make     414\n",
       "5761         get     412\n",
       "13081      story     361\n",
       "4742        even     355"
      ]
     },
     "execution_count": 160,
     "metadata": {},
     "output_type": "execute_result"
    }
   ],
   "source": [
    "vectorizer = CountVectorizer(ngram_range = (1,1))\n",
    "matrix=vectorizer.fit_transform(text)     \n",
    "\n",
    "#creating datafram from TFIDF Matrix\n",
    "words = vectorizer.get_feature_names()\n",
    "matrix=pd.DataFrame(matrix.toarray(), columns=words, index=titles)\n",
    "frequencies = matrix.sum().transpose().reset_index()\n",
    "frequencies.columns = ['word', 'counts']\n",
    "frequencies.sort_values(\"counts\",ascending = False , inplace =True)\n",
    "frequencies.head(10)"
   ]
  },
  {
   "cell_type": "code",
   "execution_count": null,
   "metadata": {},
   "outputs": [],
   "source": []
  },
  {
   "cell_type": "markdown",
   "metadata": {},
   "source": [
    "# get and create data for word2vec and doc2vec"
   ]
  },
  {
   "cell_type": "code",
   "execution_count": 161,
   "metadata": {},
   "outputs": [],
   "source": [
    "data = pd.read_csv(path_to_file)"
   ]
  },
  {
   "cell_type": "markdown",
   "metadata": {},
   "source": [
    "### Create Word and Document Embedding"
   ]
  },
  {
   "cell_type": "code",
   "execution_count": 162,
   "metadata": {},
   "outputs": [],
   "source": [
    "#cleans text to get processed text\n",
    "titles, final_processed_text, processed_text = process_corpus(data)"
   ]
  },
  {
   "cell_type": "markdown",
   "metadata": {},
   "source": [
    "# <font color='red'> method word2vec =300"
   ]
  },
  {
   "cell_type": "code",
   "execution_count": 163,
   "metadata": {},
   "outputs": [],
   "source": [
    "#word to vec\n",
    "model_w2v = Word2Vec(processed_text, size=300, window=5, min_count=1, workers=4)\n",
    "\n",
    "#join all processed DSI words into single list\n",
    "processed_text_w2v=[]\n",
    "for i in processed_text:\n",
    "    for k in i:\n",
    "        processed_text_w2v.append(k)\n"
   ]
  },
  {
   "cell_type": "code",
   "execution_count": null,
   "metadata": {},
   "outputs": [],
   "source": []
  },
  {
   "cell_type": "code",
   "execution_count": 164,
   "metadata": {},
   "outputs": [
    {
     "data": {
      "text/plain": [
       "film             0.006386\n",
       "like             0.005945\n",
       "one              0.005674\n",
       "movie            0.005610\n",
       "character        0.005489\n",
       "                   ...   \n",
       "transcendence   -0.000140\n",
       "boldest         -0.000151\n",
       "bedtime         -0.000158\n",
       "masochism       -0.000158\n",
       "indulging       -0.000178\n",
       "Length: 15498, dtype: float32"
      ]
     },
     "execution_count": 164,
     "metadata": {},
     "output_type": "execute_result"
    }
   ],
   "source": [
    "\n",
    "#obtian all the unique words from DSI\n",
    "w2v_words=list(set(processed_text_w2v))\n",
    "\n",
    "#can also use the get_feature_names() from TFIDF to get the list of words\n",
    "#w2v_words=Tfidf.get_feature_names()\n",
    "\n",
    "#empty dictionary to store words with vectors\n",
    "w2v_vectors={}\n",
    "\n",
    "#for loop to obtain weights for each word\n",
    "for i in w2v_words:\n",
    "    temp_vec=model_w2v.wv[i]\n",
    "    w2v_vectors[i]=temp_vec\n",
    "\n",
    "#create a final dataframe to view word vectors\n",
    "w2v_df=pd.DataFrame(w2v_vectors).transpose()\n",
    "\n",
    "w2v_df.T.mean().sort_values( ascending = False)"
   ]
  },
  {
   "cell_type": "code",
   "execution_count": 165,
   "metadata": {},
   "outputs": [
    {
     "data": {
      "text/plain": [
       "15498"
      ]
     },
     "execution_count": 165,
     "metadata": {},
     "output_type": "execute_result"
    }
   ],
   "source": [
    "len(w2v_vectors)"
   ]
  },
  {
   "cell_type": "markdown",
   "metadata": {},
   "source": [
    "#   <font color='red'> method doc2vec is 300 "
   ]
  },
  {
   "cell_type": "markdown",
   "metadata": {},
   "source": [
    "### Create Doc2Vec Embedding"
   ]
  },
  {
   "cell_type": "code",
   "execution_count": 166,
   "metadata": {},
   "outputs": [
    {
     "data": {
      "text/html": [
       "<div>\n",
       "<style scoped>\n",
       "    .dataframe tbody tr th:only-of-type {\n",
       "        vertical-align: middle;\n",
       "    }\n",
       "\n",
       "    .dataframe tbody tr th {\n",
       "        vertical-align: top;\n",
       "    }\n",
       "\n",
       "    .dataframe thead th {\n",
       "        text-align: right;\n",
       "    }\n",
       "</style>\n",
       "<table border=\"1\" class=\"dataframe\">\n",
       "  <thead>\n",
       "    <tr style=\"text-align: right;\">\n",
       "      <th></th>\n",
       "      <th>title</th>\n",
       "      <th>0</th>\n",
       "      <th>1</th>\n",
       "      <th>2</th>\n",
       "      <th>3</th>\n",
       "      <th>4</th>\n",
       "      <th>5</th>\n",
       "      <th>6</th>\n",
       "      <th>7</th>\n",
       "      <th>8</th>\n",
       "      <th>...</th>\n",
       "      <th>290</th>\n",
       "      <th>291</th>\n",
       "      <th>292</th>\n",
       "      <th>293</th>\n",
       "      <th>294</th>\n",
       "      <th>295</th>\n",
       "      <th>296</th>\n",
       "      <th>297</th>\n",
       "      <th>298</th>\n",
       "      <th>299</th>\n",
       "    </tr>\n",
       "  </thead>\n",
       "  <tbody>\n",
       "    <tr>\n",
       "      <th>0</th>\n",
       "      <td>HAG_Doc1_Frozen2</td>\n",
       "      <td>0.001285</td>\n",
       "      <td>-0.000050</td>\n",
       "      <td>0.000396</td>\n",
       "      <td>0.001006</td>\n",
       "      <td>-0.000007</td>\n",
       "      <td>0.000224</td>\n",
       "      <td>-0.000019</td>\n",
       "      <td>0.001135</td>\n",
       "      <td>0.001102</td>\n",
       "      <td>...</td>\n",
       "      <td>-0.000320</td>\n",
       "      <td>0.001181</td>\n",
       "      <td>0.000942</td>\n",
       "      <td>-0.000265</td>\n",
       "      <td>-0.001274</td>\n",
       "      <td>-0.001214</td>\n",
       "      <td>-0.000017</td>\n",
       "      <td>-0.000360</td>\n",
       "      <td>-0.000544</td>\n",
       "      <td>0.000415</td>\n",
       "    </tr>\n",
       "    <tr>\n",
       "      <th>1</th>\n",
       "      <td>HAG_Doc2_Frozen2</td>\n",
       "      <td>-0.001233</td>\n",
       "      <td>-0.001258</td>\n",
       "      <td>0.000290</td>\n",
       "      <td>0.001614</td>\n",
       "      <td>-0.000514</td>\n",
       "      <td>-0.000858</td>\n",
       "      <td>-0.001186</td>\n",
       "      <td>0.001262</td>\n",
       "      <td>0.001116</td>\n",
       "      <td>...</td>\n",
       "      <td>0.001039</td>\n",
       "      <td>0.000581</td>\n",
       "      <td>0.001331</td>\n",
       "      <td>-0.000224</td>\n",
       "      <td>0.001253</td>\n",
       "      <td>0.001420</td>\n",
       "      <td>0.000021</td>\n",
       "      <td>0.000887</td>\n",
       "      <td>-0.000386</td>\n",
       "      <td>-0.000553</td>\n",
       "    </tr>\n",
       "    <tr>\n",
       "      <th>2</th>\n",
       "      <td>HAG_Doc3_Frozen2</td>\n",
       "      <td>-0.005901</td>\n",
       "      <td>-0.022971</td>\n",
       "      <td>0.023186</td>\n",
       "      <td>0.006325</td>\n",
       "      <td>0.002714</td>\n",
       "      <td>-0.008943</td>\n",
       "      <td>-0.020805</td>\n",
       "      <td>0.015538</td>\n",
       "      <td>-0.007219</td>\n",
       "      <td>...</td>\n",
       "      <td>-0.021717</td>\n",
       "      <td>0.019707</td>\n",
       "      <td>0.007707</td>\n",
       "      <td>0.024419</td>\n",
       "      <td>0.022309</td>\n",
       "      <td>-0.001856</td>\n",
       "      <td>-0.010833</td>\n",
       "      <td>0.000172</td>\n",
       "      <td>0.008884</td>\n",
       "      <td>0.022210</td>\n",
       "    </tr>\n",
       "    <tr>\n",
       "      <th>3</th>\n",
       "      <td>HAG_Doc4_Frozen2</td>\n",
       "      <td>0.000536</td>\n",
       "      <td>0.000132</td>\n",
       "      <td>-0.000593</td>\n",
       "      <td>-0.001638</td>\n",
       "      <td>-0.001399</td>\n",
       "      <td>-0.000273</td>\n",
       "      <td>-0.000527</td>\n",
       "      <td>0.000934</td>\n",
       "      <td>-0.001157</td>\n",
       "      <td>...</td>\n",
       "      <td>0.001134</td>\n",
       "      <td>-0.001557</td>\n",
       "      <td>-0.000267</td>\n",
       "      <td>-0.001039</td>\n",
       "      <td>-0.000480</td>\n",
       "      <td>-0.001434</td>\n",
       "      <td>0.000864</td>\n",
       "      <td>0.000990</td>\n",
       "      <td>-0.001452</td>\n",
       "      <td>0.000381</td>\n",
       "    </tr>\n",
       "    <tr>\n",
       "      <th>4</th>\n",
       "      <td>HAG_Doc5_Frozen2</td>\n",
       "      <td>-0.004230</td>\n",
       "      <td>-0.015702</td>\n",
       "      <td>0.015893</td>\n",
       "      <td>0.004852</td>\n",
       "      <td>0.002620</td>\n",
       "      <td>-0.007747</td>\n",
       "      <td>-0.013981</td>\n",
       "      <td>0.010921</td>\n",
       "      <td>-0.006150</td>\n",
       "      <td>...</td>\n",
       "      <td>-0.016192</td>\n",
       "      <td>0.015413</td>\n",
       "      <td>0.005171</td>\n",
       "      <td>0.015243</td>\n",
       "      <td>0.013544</td>\n",
       "      <td>-0.003202</td>\n",
       "      <td>-0.011622</td>\n",
       "      <td>-0.000925</td>\n",
       "      <td>0.009722</td>\n",
       "      <td>0.017787</td>\n",
       "    </tr>\n",
       "    <tr>\n",
       "      <th>5</th>\n",
       "      <td>HAG_Doc6_Frozen2</td>\n",
       "      <td>-0.004277</td>\n",
       "      <td>-0.022001</td>\n",
       "      <td>0.021874</td>\n",
       "      <td>0.005733</td>\n",
       "      <td>0.000459</td>\n",
       "      <td>-0.003174</td>\n",
       "      <td>-0.010345</td>\n",
       "      <td>0.007510</td>\n",
       "      <td>-0.003752</td>\n",
       "      <td>...</td>\n",
       "      <td>-0.016121</td>\n",
       "      <td>0.012603</td>\n",
       "      <td>0.005555</td>\n",
       "      <td>0.016472</td>\n",
       "      <td>0.016612</td>\n",
       "      <td>-0.004218</td>\n",
       "      <td>-0.007921</td>\n",
       "      <td>-0.000580</td>\n",
       "      <td>0.010069</td>\n",
       "      <td>0.016666</td>\n",
       "    </tr>\n",
       "    <tr>\n",
       "      <th>6</th>\n",
       "      <td>HAG_Doc7_Frozen2</td>\n",
       "      <td>-0.000312</td>\n",
       "      <td>-0.006417</td>\n",
       "      <td>0.005093</td>\n",
       "      <td>-0.000037</td>\n",
       "      <td>-0.000013</td>\n",
       "      <td>-0.003035</td>\n",
       "      <td>-0.007103</td>\n",
       "      <td>0.005054</td>\n",
       "      <td>-0.004572</td>\n",
       "      <td>...</td>\n",
       "      <td>-0.009759</td>\n",
       "      <td>0.005247</td>\n",
       "      <td>0.003006</td>\n",
       "      <td>0.007998</td>\n",
       "      <td>0.007079</td>\n",
       "      <td>-0.002612</td>\n",
       "      <td>-0.004650</td>\n",
       "      <td>-0.000335</td>\n",
       "      <td>0.004813</td>\n",
       "      <td>0.008842</td>\n",
       "    </tr>\n",
       "    <tr>\n",
       "      <th>7</th>\n",
       "      <td>HAG_Doc8_Frozen2</td>\n",
       "      <td>0.001065</td>\n",
       "      <td>-0.000265</td>\n",
       "      <td>-0.000177</td>\n",
       "      <td>-0.001069</td>\n",
       "      <td>-0.000895</td>\n",
       "      <td>-0.000298</td>\n",
       "      <td>0.000021</td>\n",
       "      <td>0.001192</td>\n",
       "      <td>-0.001016</td>\n",
       "      <td>...</td>\n",
       "      <td>-0.001022</td>\n",
       "      <td>0.000249</td>\n",
       "      <td>0.001188</td>\n",
       "      <td>-0.000687</td>\n",
       "      <td>-0.000393</td>\n",
       "      <td>0.000422</td>\n",
       "      <td>-0.000867</td>\n",
       "      <td>0.001025</td>\n",
       "      <td>0.001474</td>\n",
       "      <td>0.001163</td>\n",
       "    </tr>\n",
       "    <tr>\n",
       "      <th>8</th>\n",
       "      <td>HAG_Doc9_Frozen2</td>\n",
       "      <td>-0.001446</td>\n",
       "      <td>-0.001093</td>\n",
       "      <td>0.001255</td>\n",
       "      <td>0.000500</td>\n",
       "      <td>-0.001588</td>\n",
       "      <td>-0.001569</td>\n",
       "      <td>-0.000038</td>\n",
       "      <td>0.000797</td>\n",
       "      <td>0.000782</td>\n",
       "      <td>...</td>\n",
       "      <td>-0.001036</td>\n",
       "      <td>-0.000291</td>\n",
       "      <td>-0.001561</td>\n",
       "      <td>-0.000416</td>\n",
       "      <td>-0.000198</td>\n",
       "      <td>-0.000231</td>\n",
       "      <td>0.000487</td>\n",
       "      <td>-0.000619</td>\n",
       "      <td>0.001137</td>\n",
       "      <td>0.000246</td>\n",
       "    </tr>\n",
       "    <tr>\n",
       "      <th>9</th>\n",
       "      <td>HAG_Doc10_Frozen2</td>\n",
       "      <td>0.001425</td>\n",
       "      <td>-0.001572</td>\n",
       "      <td>0.000819</td>\n",
       "      <td>-0.000811</td>\n",
       "      <td>0.001097</td>\n",
       "      <td>0.000894</td>\n",
       "      <td>-0.000013</td>\n",
       "      <td>0.000495</td>\n",
       "      <td>-0.000110</td>\n",
       "      <td>...</td>\n",
       "      <td>0.001120</td>\n",
       "      <td>-0.001511</td>\n",
       "      <td>-0.001427</td>\n",
       "      <td>0.000102</td>\n",
       "      <td>-0.000641</td>\n",
       "      <td>0.001231</td>\n",
       "      <td>0.001008</td>\n",
       "      <td>0.001323</td>\n",
       "      <td>-0.001475</td>\n",
       "      <td>-0.000673</td>\n",
       "    </tr>\n",
       "  </tbody>\n",
       "</table>\n",
       "<p>10 rows × 301 columns</p>\n",
       "</div>"
      ],
      "text/plain": [
       "               title         0         1         2         3         4  \\\n",
       "0   HAG_Doc1_Frozen2  0.001285 -0.000050  0.000396  0.001006 -0.000007   \n",
       "1   HAG_Doc2_Frozen2 -0.001233 -0.001258  0.000290  0.001614 -0.000514   \n",
       "2   HAG_Doc3_Frozen2 -0.005901 -0.022971  0.023186  0.006325  0.002714   \n",
       "3   HAG_Doc4_Frozen2  0.000536  0.000132 -0.000593 -0.001638 -0.001399   \n",
       "4   HAG_Doc5_Frozen2 -0.004230 -0.015702  0.015893  0.004852  0.002620   \n",
       "5   HAG_Doc6_Frozen2 -0.004277 -0.022001  0.021874  0.005733  0.000459   \n",
       "6   HAG_Doc7_Frozen2 -0.000312 -0.006417  0.005093 -0.000037 -0.000013   \n",
       "7   HAG_Doc8_Frozen2  0.001065 -0.000265 -0.000177 -0.001069 -0.000895   \n",
       "8   HAG_Doc9_Frozen2 -0.001446 -0.001093  0.001255  0.000500 -0.001588   \n",
       "9  HAG_Doc10_Frozen2  0.001425 -0.001572  0.000819 -0.000811  0.001097   \n",
       "\n",
       "          5         6         7         8  ...       290       291       292  \\\n",
       "0  0.000224 -0.000019  0.001135  0.001102  ... -0.000320  0.001181  0.000942   \n",
       "1 -0.000858 -0.001186  0.001262  0.001116  ...  0.001039  0.000581  0.001331   \n",
       "2 -0.008943 -0.020805  0.015538 -0.007219  ... -0.021717  0.019707  0.007707   \n",
       "3 -0.000273 -0.000527  0.000934 -0.001157  ...  0.001134 -0.001557 -0.000267   \n",
       "4 -0.007747 -0.013981  0.010921 -0.006150  ... -0.016192  0.015413  0.005171   \n",
       "5 -0.003174 -0.010345  0.007510 -0.003752  ... -0.016121  0.012603  0.005555   \n",
       "6 -0.003035 -0.007103  0.005054 -0.004572  ... -0.009759  0.005247  0.003006   \n",
       "7 -0.000298  0.000021  0.001192 -0.001016  ... -0.001022  0.000249  0.001188   \n",
       "8 -0.001569 -0.000038  0.000797  0.000782  ... -0.001036 -0.000291 -0.001561   \n",
       "9  0.000894 -0.000013  0.000495 -0.000110  ...  0.001120 -0.001511 -0.001427   \n",
       "\n",
       "        293       294       295       296       297       298       299  \n",
       "0 -0.000265 -0.001274 -0.001214 -0.000017 -0.000360 -0.000544  0.000415  \n",
       "1 -0.000224  0.001253  0.001420  0.000021  0.000887 -0.000386 -0.000553  \n",
       "2  0.024419  0.022309 -0.001856 -0.010833  0.000172  0.008884  0.022210  \n",
       "3 -0.001039 -0.000480 -0.001434  0.000864  0.000990 -0.001452  0.000381  \n",
       "4  0.015243  0.013544 -0.003202 -0.011622 -0.000925  0.009722  0.017787  \n",
       "5  0.016472  0.016612 -0.004218 -0.007921 -0.000580  0.010069  0.016666  \n",
       "6  0.007998  0.007079 -0.002612 -0.004650 -0.000335  0.004813  0.008842  \n",
       "7 -0.000687 -0.000393  0.000422 -0.000867  0.001025  0.001474  0.001163  \n",
       "8 -0.000416 -0.000198 -0.000231  0.000487 -0.000619  0.001137  0.000246  \n",
       "9  0.000102 -0.000641  0.001231  0.001008  0.001323 -0.001475 -0.000673  \n",
       "\n",
       "[10 rows x 301 columns]"
      ]
     },
     "execution_count": 166,
     "metadata": {},
     "output_type": "execute_result"
    }
   ],
   "source": [
    "documents = [TaggedDocument(doc, [i]) for i, doc in enumerate(final_processed_text)]\n",
    "model = Doc2Vec(documents, vector_size=300, window=2, min_count=1, workers=4)\n",
    "\n",
    "doc2vec_df=pd.DataFrame()\n",
    "for i in range(0,len(processed_text)):\n",
    "    vector=pd.DataFrame(model.infer_vector(processed_text[i])).transpose()\n",
    "    doc2vec_df=pd.concat([doc2vec_df,vector], axis=0)\n",
    "\n",
    "doc2vec_df=doc2vec_df.reset_index()\n",
    "\n",
    "doc_titles={'title': titles}\n",
    "t=pd.DataFrame(doc_titles)\n",
    "\n",
    "doc2vec_df=pd.concat([t, doc2vec_df], axis=1)\n",
    "\n",
    "doc2vec_df=doc2vec_df.drop('index', axis=1)\n",
    "\n",
    "doc2vec_df.head(10)"
   ]
  },
  {
   "cell_type": "code",
   "execution_count": 167,
   "metadata": {},
   "outputs": [
    {
     "data": {
      "text/plain": [
       "445"
      ]
     },
     "execution_count": 167,
     "metadata": {},
     "output_type": "execute_result"
    }
   ],
   "source": [
    "len(processed_text[248])"
   ]
  },
  {
   "cell_type": "markdown",
   "metadata": {},
   "source": [
    "### Functions Process Text and Create the Required TFIDF and Doc2vec Matrices"
   ]
  },
  {
   "cell_type": "code",
   "execution_count": 168,
   "metadata": {},
   "outputs": [],
   "source": [
    "# #functions used to \n",
    "# def clean_doc(doc): \n",
    "#     #split document into individual words\n",
    "#     tokens=doc.split()\n",
    "#     re_punc = re.compile('[%s]' % re.escape(string.punctuation))\n",
    "#     # remove punctuation from each word\n",
    "#     tokens = [re_punc.sub('', w) for w in tokens]\n",
    "#     # remove remaining tokens that are not alphabetic\n",
    "#     tokens = [word for word in tokens if word.isalpha()]\n",
    "#     # filter out short tokens\n",
    "#     tokens = [word for word in tokens if len(word) > 4]\n",
    "#     #lowercase all words\n",
    "#     tokens = [word.lower() for word in tokens]\n",
    "#     # filter out stop words\n",
    "#     stop_words = set(stopwords.words('english'))\n",
    "#     tokens = [w for w in tokens if not w in stop_words]         \n",
    "#     # word stemming    \n",
    "#     # ps=PorterStemmer()\n",
    "#     # tokens=[ps.stem(word) for word in tokens]\n",
    "#     return tokens\n",
    "\n",
    "# def final_processed_text(doc):\n",
    "#     #this is a function to join the processed text back\n",
    "#     ' '.join(doc)\n",
    "#     return doc\n",
    "\n",
    "def tfidf(corpus, titles, ngram_range = (1,1),  norm=None, lowercase=False):\n",
    "    #this is a function to created the tfidf matrix\n",
    "    Tfidf=TfidfVectorizer(ngram_range= ngram_range, norm= norm, lowercase=lowercase)\n",
    "\n",
    "    #fit the vectorizer using final processed documents.  The vectorizer requires the \n",
    "    #stiched back together document.\n",
    "\n",
    "    TFIDF_matrix=Tfidf.fit_transform(corpus)     \n",
    "\n",
    "    #creating datafram from TFIDF Matrix\n",
    "    words = Tfidf.get_feature_names()\n",
    "    matrix=pd.DataFrame(TFIDF_matrix.toarray(), columns=Tfidf.get_feature_names(), index=titles)\n",
    "    return matrix\n",
    "\n",
    "\n",
    "def One_Hot(variable):\n",
    "    #this is a function to one hot encode the classes\n",
    "    LE=LabelEncoder()\n",
    "    LE.fit(variable)\n",
    "    Label1=LE.transform(variable)\n",
    "    OHE=OneHotEncoder()\n",
    "    labels=OHE.fit_transform(Label1.reshape(-1,1)).toarray()\n",
    "    return labels\n",
    "\n"
   ]
  },
  {
   "cell_type": "markdown",
   "metadata": {},
   "source": [
    "### Load Data For Analysis"
   ]
  },
  {
   "cell_type": "code",
   "execution_count": 169,
   "metadata": {},
   "outputs": [],
   "source": [
    "#read in class corpus csv into python\n",
    "data=pd.read_csv('C://Users//hag8665//Desktop//MSDS 453//Assignment_1//Class_Corpus_v2.csv')"
   ]
  },
  {
   "cell_type": "markdown",
   "metadata": {},
   "source": [
    "### Load Data For Analysis"
   ]
  },
  {
   "cell_type": "code",
   "execution_count": 170,
   "metadata": {},
   "outputs": [],
   "source": [
    "#read in class corpus csv into python\n",
    "data=pd.read_csv('C://Users//hag8665//Desktop//MSDS 453//Assignment_1//Class_Corpus_v2.csv')"
   ]
  },
  {
   "cell_type": "code",
   "execution_count": null,
   "metadata": {},
   "outputs": [],
   "source": []
  },
  {
   "cell_type": "markdown",
   "metadata": {},
   "source": [
    "### Dataframe Store the Processed Text and Tokenized text"
   ]
  },
  {
   "cell_type": "code",
   "execution_count": 171,
   "metadata": {},
   "outputs": [],
   "source": [
    "#adding two columns to the dataframe to store the processed text and tokenized text\n",
    "data['processed_text'] = data['Text'].apply(lambda x: clean_doc(x))\n",
    "\n",
    "\n",
    "\n",
    "#creating final processed text variables for matrix creation\n",
    "final_processed_text = [' '.join(x) for x in data['processed_text'].tolist()]\n",
    "titles = data['DSI_Title'].tolist()\n",
    "processed_text = data['processed_text'].tolist()\n",
    "\n",
    "\n",
    "#generate tfidf for analysis\n",
    "tfidf_matrix = tfidf(final_processed_text, titles, ngram_range = (1,1))"
   ]
  },
  {
   "cell_type": "markdown",
   "metadata": {},
   "source": [
    "### Apply Labels "
   ]
  },
  {
   "cell_type": "code",
   "execution_count": 172,
   "metadata": {},
   "outputs": [],
   "source": [
    "labels = data['Review Type (pos or neg)'].apply(lambda x: 0 if x.lower().split(' ')[0] == 'negative' else 1)\n"
   ]
  },
  {
   "cell_type": "code",
   "execution_count": null,
   "metadata": {},
   "outputs": [],
   "source": []
  },
  {
   "cell_type": "markdown",
   "metadata": {},
   "source": [
    "# bog of word term frequency "
   ]
  },
  {
   "cell_type": "code",
   "execution_count": null,
   "metadata": {},
   "outputs": [],
   "source": []
  },
  {
   "cell_type": "code",
   "execution_count": 173,
   "metadata": {},
   "outputs": [],
   "source": [
    "import pandas as pd\n",
    "from sklearn.feature_extraction.text import CountVectorizer, TfidfVectorizer\n",
    " \n",
    "sentence_1=\"This is a good job.I will not miss it for anything\"\n",
    "sentence_2=\"This is not good at all\"\n",
    " \n",
    " \n",
    "#creating final processed text variables for matrix creation\n",
    "final_processed_text = [' '.join(x) for x in data['processed_text'].tolist()]\n",
    "\n",
    " \n",
    "CountVec = CountVectorizer(ngram_range=(1,1),binary=True) # to use bigrams ngram_range=(2,2)\n",
    "#transform\n",
    "Count_data = CountVec.fit_transform(final_processed_text)\n",
    "#Count_data = Count_data.todense()\n",
    "#create dataframe\n",
    "cv_dataframe=pd.DataFrame(Count_data.toarray(),columns=CountVec.get_feature_names())\n",
    "#print(cv_dataframe)"
   ]
  },
  {
   "cell_type": "code",
   "execution_count": 174,
   "metadata": {},
   "outputs": [
    {
     "data": {
      "text/plain": [
       "15479"
      ]
     },
     "execution_count": 174,
     "metadata": {},
     "output_type": "execute_result"
    }
   ],
   "source": [
    "len(CountVec.get_feature_names())"
   ]
  },
  {
   "cell_type": "code",
   "execution_count": 175,
   "metadata": {},
   "outputs": [],
   "source": [
    "# #Import TfidfTransformer class.\n",
    "# # TfidfTransformer transoforms count matrix to tf-idf representation.\n",
    "# from sklearn.feature_extraction.text import TfidfTransformer\n",
    "# tfidf_transformer = TfidfTransformer()\n",
    "\n",
    "# # fit_transform transforms count matrix to tf-idf representation(vector).\n",
    "# cv_tfidf = tfidf_transformer.fit_transform(Count_data)"
   ]
  },
  {
   "cell_type": "code",
   "execution_count": 176,
   "metadata": {},
   "outputs": [],
   "source": [
    "# cv_dataframe=pd.DataFrame(cv_tfidf.toarray(),columns=CountVec.get_feature_names())"
   ]
  },
  {
   "cell_type": "code",
   "execution_count": 177,
   "metadata": {},
   "outputs": [],
   "source": [
    "# PCA to  reduce dimensions"
   ]
  },
  {
   "cell_type": "code",
   "execution_count": 178,
   "metadata": {},
   "outputs": [],
   "source": [
    "# pca = PCA(n_components=0.95)"
   ]
  },
  {
   "cell_type": "code",
   "execution_count": 179,
   "metadata": {},
   "outputs": [],
   "source": [
    "# cv_dataframe = pca.fit_transform(cv_dataframe)"
   ]
  },
  {
   "cell_type": "markdown",
   "metadata": {},
   "source": [
    "# 4. Feature Selection via SelectFromModel"
   ]
  },
  {
   "cell_type": "code",
   "execution_count": 180,
   "metadata": {},
   "outputs": [],
   "source": [
    "# from sklearn.feature_selection import SelectFromModel"
   ]
  },
  {
   "cell_type": "code",
   "execution_count": 181,
   "metadata": {},
   "outputs": [],
   "source": [
    "# sel = SelectFromModel(RandomForestClassifier(n_estimators = 100))\n",
    "# sel.fit(cv_dataframe, labels)"
   ]
  },
  {
   "cell_type": "code",
   "execution_count": 182,
   "metadata": {},
   "outputs": [],
   "source": [
    "# len(sel.get_support())"
   ]
  },
  {
   "cell_type": "code",
   "execution_count": 183,
   "metadata": {},
   "outputs": [],
   "source": [
    "# cv_dataframe= cv_dataframe[cv_dataframe.columns[(sel.get_support())]]\n"
   ]
  },
  {
   "cell_type": "code",
   "execution_count": 184,
   "metadata": {},
   "outputs": [
    {
     "data": {
      "text/plain": [
       "(249, 15479)"
      ]
     },
     "execution_count": 184,
     "metadata": {},
     "output_type": "execute_result"
    }
   ],
   "source": [
    "cv_dataframe.shape"
   ]
  },
  {
   "cell_type": "code",
   "execution_count": null,
   "metadata": {},
   "outputs": [],
   "source": []
  },
  {
   "cell_type": "markdown",
   "metadata": {},
   "source": [
    "# Functionto split data"
   ]
  },
  {
   "cell_type": "code",
   "execution_count": 185,
   "metadata": {},
   "outputs": [],
   "source": [
    "\n",
    "def split_data(x,y):\n",
    "    X_train, X_test, y_train, y_test = train_test_split(x, y, test_size=0.33, shuffle= True, stratify =labels, random_state=42)\n",
    "    return X_train, X_test, y_train, y_test\n"
   ]
  },
  {
   "cell_type": "markdown",
   "metadata": {},
   "source": [
    "# create data"
   ]
  },
  {
   "cell_type": "code",
   "execution_count": 186,
   "metadata": {},
   "outputs": [],
   "source": [
    "X_train, X_test, y_train, y_test= split_data(cv_dataframe,labels)"
   ]
  },
  {
   "cell_type": "code",
   "execution_count": 187,
   "metadata": {},
   "outputs": [],
   "source": [
    "def get_acc(model):\n",
    "    \n",
    "    predictions_t = model.predict(X_train)\n",
    "    train_acc = accuracy_score(y_train, predictions_t)\n",
    "    predictions = model.predict(X_test)\n",
    "    test_acc = accuracy_score(y_test, predictions)\n",
    "    \n",
    "    \n",
    "    f1 = f1_score(y_test, predictions)\n",
    "    return  test_acc, train_acc,f1"
   ]
  },
  {
   "cell_type": "code",
   "execution_count": 188,
   "metadata": {},
   "outputs": [],
   "source": [
    "def get_roc(model, proba=True):\n",
    "    if proba:\n",
    "        y_score = model.predict.proba(X_test)\n",
    "    else:\n",
    "        y_score = model.fit(X_train, y_train).decision_function(X_test)\n",
    "    # Compute fpr, tpr, thresholds and roc auc\n",
    "    fpr, tpr, thresholds = roc_curve(y_test, y_score)\n",
    "    roc_auc = auc(fpr, tpr)\n",
    "       \n",
    "\n",
    "    # Plot ROC curve\n",
    "    plt.plot(fpr, tpr, label='ROC curve (area = %0.3f)' % roc_auc)\n",
    "    plt.plot([0, 1], [0, 1], 'k--')  # random predictions curve\n",
    "    plt.xlim([0.0, 1.0])\n",
    "    plt.ylim([0.0, 1.0])\n",
    "    plt.xlabel('False Positive Rate or (1 - Specifity)')\n",
    "    plt.ylabel('True Positive Rate or (Sensitivity)')\n",
    "    plt.title('Receiver Operating Characteristic')\n",
    "    plt.legend(loc=\"lower right\")\n",
    "    plt.show() "
   ]
  },
  {
   "cell_type": "code",
   "execution_count": 189,
   "metadata": {},
   "outputs": [],
   "source": [
    "def acc_score(model= model, x_test= X_test,y_test= y_test):\n",
    "    return np.mean(cross_val_score(model,x_test,y_test,cv=k_fold,scoring=\"accuracy\"))"
   ]
  },
  {
   "cell_type": "code",
   "execution_count": 190,
   "metadata": {},
   "outputs": [],
   "source": [
    "def confusion_matrix_model(model_used = model, x_test= X_test,y_test= y_test):\n",
    "    cm=confusion_matrix(y_test,model_used.predict(x_test))\n",
    "    col=[\"Predicted Dead\",\"Predicted Survived\"]\n",
    "    cm=pd.DataFrame(cm)\n",
    "    cm.columns=[\"Predicted Dead\",\"Predicted Survived\"]\n",
    "    cm.index=[\"Actual Dead\",\"Actual Survived\"]\n",
    "    cm[col]=np.around(cm[col].div(cm[col].sum(axis=1),axis=0),decimals=2)\n",
    "    return cm"
   ]
  },
  {
   "cell_type": "code",
   "execution_count": 191,
   "metadata": {},
   "outputs": [],
   "source": [
    "def importance_of_features(model=model, x_train= X_train):\n",
    "    features = pd.DataFrame()\n",
    "    features['feature'] = x_train.columns\n",
    "    features['importance'] = model.feature_importances_\n",
    "    features.sort_values(by=['importance'], ascending=True, inplace=True)\n",
    "    features.set_index('feature', inplace=True)\n",
    "    return features.plot(kind='barh', figsize=(10,10))"
   ]
  },
  {
   "cell_type": "code",
   "execution_count": 192,
   "metadata": {},
   "outputs": [],
   "source": [
    "def aucscore(model=model, x_test=X_test, y_test= y_test,has_proba=True):\n",
    "    if has_proba:\n",
    "        fpr,tpr,thresh=skplt.metrics.roc_curve(y_test,model.predict_proba(x_test)[:,1])\n",
    "    else:\n",
    "        fpr,tpr,thresh=skplt.metrics.roc_curve(y_test,model.decision_function(x_test))\n",
    "    x=fpr\n",
    "    y=tpr\n",
    "    auc= skplt.metrics.auc(x,y)\n",
    "    return auc\n",
    "\n",
    "def plt_roc_curve(name,model=model, x_test= X_test,y_test= y_test,has_proba=True):\n",
    "    if has_proba:\n",
    "        fpr,tpr,thresh=skplt.metrics.roc_curve(y_test,model.predict_proba(x_test)[:,1])\n",
    "    else:\n",
    "        fpr,tpr,thresh=skplt.metrics.roc_curve(y_test,model.decision_function(x_test))\n",
    "    x=fpr\n",
    "    y=tpr\n",
    "    auc= skplt.metrics.auc(x,y)\n",
    "    plt.plot(x,y,label='ROC curve for %s (AUC = %0.2f)' % (name, auc))\n",
    "    plt.plot([0, 1], [0, 1], 'k--')\n",
    "    plt.xlim((0,1))\n",
    "    plt.ylim((0,1))\n",
    "    plt.xlabel(\"False Positive Rate\")\n",
    "    plt.ylabel(\"True Positive Rate\")\n",
    "    plt.title(\"ROC Curve\")\n",
    "    plt.legend(loc=\"lower right\")\n",
    "    plt.show()"
   ]
  },
  {
   "cell_type": "code",
   "execution_count": 193,
   "metadata": {},
   "outputs": [],
   "source": [
    "def conf_mat_n(model = model, x_test = X_test, y_test= y_test ):\n",
    "    skplt.metrics.plot_confusion_matrix(y_test, model.predict(x_test),normalize=True, figsize=(10,10))"
   ]
  },
  {
   "cell_type": "code",
   "execution_count": 194,
   "metadata": {},
   "outputs": [],
   "source": [
    "def conf_mat(model = model, x_test = X_test, y_test= y_test):\n",
    "    mtx = confusion_matrix(y_test, model.predict(x_test))\n",
    "    # define classes \n",
    "    classes = [\"negative\", \"postive\"]\n",
    "    temp_df = pd.DataFrame(data=mtx,columns=classes)\n",
    "    temp_df.index = classes\n",
    "    fig, ax = plt.subplots(figsize=(8,8))\n",
    "    sns.heatmap(temp_df, annot=True, fmt='d', linewidths=.75,  cbar=False, ax=ax,cmap='Blues',linecolor='white')\n",
    "    #  square=True,\n",
    "    plt.ylabel('true label')\n",
    "    plt.xlabel('predicted label')"
   ]
  },
  {
   "cell_type": "code",
   "execution_count": 195,
   "metadata": {},
   "outputs": [],
   "source": [
    "def plt_prc(name,model=model, x_test= X_test,y_test= y_test):\n",
    "\n",
    "    precision, recall, thresholds = precision_recall_curve(y_test, model.predict(x_test))\n",
    "    area = auc(recall, precision)\n",
    "    print (\"Area Under Curve: %0.2f\" % area)\n",
    "  \n",
    "\n",
    "    plt.clf()\n",
    "    plt.plot(recall, precision, label='Precision-Recall curve')\n",
    "    plt.xlabel('Recall')\n",
    "    plt.ylabel('Precision')\n",
    "    plt.ylim([0.0, 1.05])\n",
    "    plt.xlim([0.0, 1.0])\n",
    "    plt.title('Precision-Recall Logistic regression: PR-AUC=%0.2f' % area)\n",
    "    plt.legend(loc=\"lower left\")\n",
    "    plt.show()"
   ]
  },
  {
   "cell_type": "code",
   "execution_count": 196,
   "metadata": {},
   "outputs": [],
   "source": [
    "def cl_report(model = model, x_test = X_test, y_test= y_test ,x_train= X_train, y_train =y_train):\n",
    "    print(\"train: \\n\", classification_report(y_train, model.predict(x_train)), \"\\n\",\n",
    "          \"test: \\n\",  classification_report(y_test, model.predict(x_test)))"
   ]
  },
  {
   "cell_type": "code",
   "execution_count": null,
   "metadata": {},
   "outputs": [],
   "source": []
  },
  {
   "cell_type": "code",
   "execution_count": null,
   "metadata": {},
   "outputs": [],
   "source": []
  },
  {
   "cell_type": "markdown",
   "metadata": {},
   "source": [
    "### Support Vector Machines"
   ]
  },
  {
   "cell_type": "code",
   "execution_count": 197,
   "metadata": {},
   "outputs": [],
   "source": [
    "svm_model= SVC()\n",
    "svm_model = svm_model.fit(X_train,y_train)"
   ]
  },
  {
   "cell_type": "code",
   "execution_count": 198,
   "metadata": {},
   "outputs": [
    {
     "name": "stdout",
     "output_type": "stream",
     "text": [
      "train acc:  0.9939759036144579 \n",
      " test acc:  0.5180722891566265 \n",
      " 0.6428571428571428\n"
     ]
    }
   ],
   "source": [
    "svm_test_acc, svm_train_acc ,f1 = get_acc(svm_model)\n",
    "\n",
    "print(\"train acc: \", svm_train_acc,\"\\n\", \"test acc: \",svm_test_acc ,\"\\n\", f1)"
   ]
  },
  {
   "cell_type": "markdown",
   "metadata": {},
   "source": [
    "### metrics"
   ]
  },
  {
   "cell_type": "code",
   "execution_count": 199,
   "metadata": {},
   "outputs": [
    {
     "data": {
      "image/png": "[encoded data removed]",
      "text/plain": [
       "<Figure size 432x288 with 1 Axes>"
      ]
     },
     "metadata": {
      "needs_background": "light"
     },
     "output_type": "display_data"
    }
   ],
   "source": [
    "plt_roc_curve(\"svm\",model = svm_model, has_proba=False)"
   ]
  },
  {
   "cell_type": "code",
   "execution_count": 200,
   "metadata": {},
   "outputs": [
    {
     "name": "stdout",
     "output_type": "stream",
     "text": [
      "Area Under Curve: 0.72\n"
     ]
    },
    {
     "data": {
      "image/png": "[encoded data removed]",
      "text/plain": [
       "<Figure size 432x288 with 1 Axes>"
      ]
     },
     "metadata": {
      "needs_background": "light"
     },
     "output_type": "display_data"
    }
   ],
   "source": [
    "plt_prc(\"svm\",model = svm_model)"
   ]
  },
  {
   "cell_type": "code",
   "execution_count": 201,
   "metadata": {},
   "outputs": [
    {
     "data": {
      "image/png": "[encoded data removed]",
      "text/plain": [
       "<Figure size 576x576 with 1 Axes>"
      ]
     },
     "metadata": {
      "needs_background": "light"
     },
     "output_type": "display_data"
    }
   ],
   "source": [
    "conf_mat(model=svm_model)"
   ]
  },
  {
   "cell_type": "code",
   "execution_count": 202,
   "metadata": {},
   "outputs": [
    {
     "data": {
      "image/png": "[encoded data removed]",
      "text/plain": [
       "<Figure size 720x720 with 2 Axes>"
      ]
     },
     "metadata": {
      "needs_background": "light"
     },
     "output_type": "display_data"
    }
   ],
   "source": [
    "conf_mat_n(model=svm_model)"
   ]
  },
  {
   "cell_type": "code",
   "execution_count": 203,
   "metadata": {},
   "outputs": [
    {
     "name": "stdout",
     "output_type": "stream",
     "text": [
      "train: \n",
      "               precision    recall  f1-score   support\n",
      "\n",
      "           0       1.00      0.99      0.99        83\n",
      "           1       0.99      1.00      0.99        83\n",
      "\n",
      "    accuracy                           0.99       166\n",
      "   macro avg       0.99      0.99      0.99       166\n",
      "weighted avg       0.99      0.99      0.99       166\n",
      " \n",
      " test: \n",
      "               precision    recall  f1-score   support\n",
      "\n",
      "           0       0.58      0.17      0.26        42\n",
      "           1       0.51      0.88      0.64        41\n",
      "\n",
      "    accuracy                           0.52        83\n",
      "   macro avg       0.55      0.52      0.45        83\n",
      "weighted avg       0.55      0.52      0.45        83\n",
      "\n"
     ]
    }
   ],
   "source": [
    "cl_report(model = svm_model)"
   ]
  },
  {
   "cell_type": "markdown",
   "metadata": {},
   "source": [
    "### Naive Bayes"
   ]
  },
  {
   "cell_type": "code",
   "execution_count": 204,
   "metadata": {},
   "outputs": [],
   "source": [
    "nb_model = MultinomialNB()\n",
    "nb_model = nb_model.fit(X_train,y_train)"
   ]
  },
  {
   "cell_type": "code",
   "execution_count": 205,
   "metadata": {},
   "outputs": [
    {
     "name": "stdout",
     "output_type": "stream",
     "text": [
      "train acc:  1.0 \n",
      " test acc:  0.5301204819277109 \n",
      " 0.5517241379310345\n"
     ]
    }
   ],
   "source": [
    "nb_test_acc, nb_train_acc ,f1= get_acc(nb_model)\n",
    "\n",
    "print(\"train acc: \", nb_train_acc,\"\\n\", \"test acc: \",nb_test_acc ,\"\\n\", f1)"
   ]
  },
  {
   "cell_type": "markdown",
   "metadata": {},
   "source": [
    "### metrics"
   ]
  },
  {
   "cell_type": "code",
   "execution_count": 206,
   "metadata": {},
   "outputs": [
    {
     "data": {
      "image/png": "[encoded data removed]",
      "text/plain": [
       "<Figure size 432x288 with 1 Axes>"
      ]
     },
     "metadata": {
      "needs_background": "light"
     },
     "output_type": "display_data"
    }
   ],
   "source": [
    "plt_roc_curve(\"NB\",model = nb_model, has_proba=True)"
   ]
  },
  {
   "cell_type": "code",
   "execution_count": 207,
   "metadata": {},
   "outputs": [
    {
     "name": "stdout",
     "output_type": "stream",
     "text": [
      "Area Under Curve: 0.66\n"
     ]
    },
    {
     "data": {
      "image/png": "[encoded data removed]",
      "text/plain": [
       "<Figure size 432x288 with 1 Axes>"
      ]
     },
     "metadata": {
      "needs_background": "light"
     },
     "output_type": "display_data"
    }
   ],
   "source": [
    "plt_prc(\"svm\",model = nb_model)"
   ]
  },
  {
   "cell_type": "code",
   "execution_count": 208,
   "metadata": {},
   "outputs": [
    {
     "data": {
      "image/png": "[encoded data removed]",
      "text/plain": [
       "<Figure size 576x576 with 1 Axes>"
      ]
     },
     "metadata": {
      "needs_background": "light"
     },
     "output_type": "display_data"
    }
   ],
   "source": [
    "conf_mat(model=nb_model)"
   ]
  },
  {
   "cell_type": "code",
   "execution_count": 209,
   "metadata": {},
   "outputs": [
    {
     "data": {
      "image/png": "[encoded data removed]",
      "text/plain": [
       "<Figure size 720x720 with 2 Axes>"
      ]
     },
     "metadata": {
      "needs_background": "light"
     },
     "output_type": "display_data"
    }
   ],
   "source": [
    "conf_mat_n(model=nb_model)"
   ]
  },
  {
   "cell_type": "code",
   "execution_count": 210,
   "metadata": {},
   "outputs": [
    {
     "name": "stdout",
     "output_type": "stream",
     "text": [
      "train: \n",
      "               precision    recall  f1-score   support\n",
      "\n",
      "           0       1.00      1.00      1.00        83\n",
      "           1       1.00      1.00      1.00        83\n",
      "\n",
      "    accuracy                           1.00       166\n",
      "   macro avg       1.00      1.00      1.00       166\n",
      "weighted avg       1.00      1.00      1.00       166\n",
      " \n",
      " test: \n",
      "               precision    recall  f1-score   support\n",
      "\n",
      "           0       0.54      0.48      0.51        42\n",
      "           1       0.52      0.59      0.55        41\n",
      "\n",
      "    accuracy                           0.53        83\n",
      "   macro avg       0.53      0.53      0.53        83\n",
      "weighted avg       0.53      0.53      0.53        83\n",
      "\n"
     ]
    }
   ],
   "source": [
    "cl_report(model = nb_model)"
   ]
  },
  {
   "cell_type": "markdown",
   "metadata": {},
   "source": [
    "### Random Forest"
   ]
  },
  {
   "cell_type": "code",
   "execution_count": 211,
   "metadata": {},
   "outputs": [],
   "source": [
    "rf_model = RandomForestClassifier(n_estimators=150,bootstrap=False,min_samples_leaf=4)\n",
    "rf_model = rf_model.fit(X_train,y_train)"
   ]
  },
  {
   "cell_type": "code",
   "execution_count": 212,
   "metadata": {},
   "outputs": [
    {
     "name": "stdout",
     "output_type": "stream",
     "text": [
      "train acc:  1.0 \n",
      " test acc:  0.6024096385542169 \n",
      " 0.611764705882353\n"
     ]
    }
   ],
   "source": [
    "rf_test_acc, rf_train_acc ,f1= get_acc(rf_model)\n",
    "\n",
    "print(\"train acc: \", rf_train_acc,\"\\n\", \"test acc: \",rf_test_acc,\"\\n\",f1)"
   ]
  },
  {
   "cell_type": "markdown",
   "metadata": {},
   "source": [
    "### metrics"
   ]
  },
  {
   "cell_type": "code",
   "execution_count": 213,
   "metadata": {},
   "outputs": [
    {
     "data": {
      "image/png": "[encoded data removed]",
      "text/plain": [
       "<Figure size 432x288 with 1 Axes>"
      ]
     },
     "metadata": {
      "needs_background": "light"
     },
     "output_type": "display_data"
    }
   ],
   "source": [
    "plt_roc_curve(\"RF\",model = rf_model, has_proba=True)"
   ]
  },
  {
   "cell_type": "code",
   "execution_count": 214,
   "metadata": {},
   "outputs": [
    {
     "name": "stdout",
     "output_type": "stream",
     "text": [
      "Area Under Curve: 0.70\n"
     ]
    },
    {
     "data": {
      "image/png": "[encoded data removed]",
      "text/plain": [
       "<Figure size 432x288 with 1 Axes>"
      ]
     },
     "metadata": {
      "needs_background": "light"
     },
     "output_type": "display_data"
    }
   ],
   "source": [
    "plt_prc(\"rf\",model = rf_model)"
   ]
  },
  {
   "cell_type": "code",
   "execution_count": 215,
   "metadata": {},
   "outputs": [
    {
     "data": {
      "image/png": "[encoded data removed]",
      "text/plain": [
       "<Figure size 576x576 with 1 Axes>"
      ]
     },
     "metadata": {
      "needs_background": "light"
     },
     "output_type": "display_data"
    }
   ],
   "source": [
    "conf_mat(model=rf_model)"
   ]
  },
  {
   "cell_type": "code",
   "execution_count": 216,
   "metadata": {},
   "outputs": [
    {
     "data": {
      "image/png": "[encoded data removed]",
      "text/plain": [
       "<Figure size 720x720 with 2 Axes>"
      ]
     },
     "metadata": {
      "needs_background": "light"
     },
     "output_type": "display_data"
    }
   ],
   "source": [
    "conf_mat_n(model=rf_model)"
   ]
  },
  {
   "cell_type": "code",
   "execution_count": 226,
   "metadata": {},
   "outputs": [
    {
     "name": "stdout",
     "output_type": "stream",
     "text": [
      "train: \n",
      "               precision    recall  f1-score   support\n",
      "\n",
      "           0       1.00      1.00      1.00        83\n",
      "           1       1.00      1.00      1.00        83\n",
      "\n",
      "    accuracy                           1.00       166\n",
      "   macro avg       1.00      1.00      1.00       166\n",
      "weighted avg       1.00      1.00      1.00       166\n",
      " \n",
      " test: \n",
      "               precision    recall  f1-score   support\n",
      "\n",
      "           0       0.62      0.57      0.59        42\n",
      "           1       0.59      0.63      0.61        41\n",
      "\n",
      "    accuracy                           0.60        83\n",
      "   macro avg       0.60      0.60      0.60        83\n",
      "weighted avg       0.60      0.60      0.60        83\n",
      "\n"
     ]
    }
   ],
   "source": [
    "cl_report(model = rf_model)"
   ]
  },
  {
   "cell_type": "markdown",
   "metadata": {},
   "source": [
    "# Logistic Regression"
   ]
  },
  {
   "cell_type": "code",
   "execution_count": 218,
   "metadata": {},
   "outputs": [],
   "source": [
    "lr_model = model = LogisticRegression(solver='liblinear')\n",
    "lr_model = lr_model.fit(X_train,y_train)"
   ]
  },
  {
   "cell_type": "code",
   "execution_count": 219,
   "metadata": {},
   "outputs": [
    {
     "name": "stdout",
     "output_type": "stream",
     "text": [
      "train acc:  1.0 \n",
      " test acc:  0.6506024096385542 \n",
      " 0.6506024096385543\n"
     ]
    }
   ],
   "source": [
    "lr_test_acc, lr_train_acc ,f1= get_acc(lr_model)\n",
    "\n",
    "print(\"train acc: \", lr_train_acc,\"\\n\", \"test acc: \",lr_test_acc ,\"\\n\", f1)"
   ]
  },
  {
   "cell_type": "markdown",
   "metadata": {},
   "source": [
    "### metrics"
   ]
  },
  {
   "cell_type": "code",
   "execution_count": 220,
   "metadata": {},
   "outputs": [
    {
     "data": {
      "image/png": "[encoded data removed]",
      "text/plain": [
       "<Figure size 432x288 with 1 Axes>"
      ]
     },
     "metadata": {
      "needs_background": "light"
     },
     "output_type": "display_data"
    }
   ],
   "source": [
    "plt_roc_curve(\"LT\",model = lr_model, has_proba=True)"
   ]
  },
  {
   "cell_type": "code",
   "execution_count": 221,
   "metadata": {},
   "outputs": [
    {
     "name": "stdout",
     "output_type": "stream",
     "text": [
      "Area Under Curve: 0.74\n"
     ]
    },
    {
     "data": {
      "image/png": "[encoded data removed]",
      "text/plain": [
       "<Figure size 432x288 with 1 Axes>"
      ]
     },
     "metadata": {
      "needs_background": "light"
     },
     "output_type": "display_data"
    }
   ],
   "source": [
    "plt_prc(\"LR\",model = lr_model)"
   ]
  },
  {
   "cell_type": "code",
   "execution_count": 222,
   "metadata": {},
   "outputs": [
    {
     "data": {
      "image/png": "[encoded data removed]",
      "text/plain": [
       "<Figure size 576x576 with 1 Axes>"
      ]
     },
     "metadata": {
      "needs_background": "light"
     },
     "output_type": "display_data"
    }
   ],
   "source": [
    "conf_mat(model=lr_model)"
   ]
  },
  {
   "cell_type": "code",
   "execution_count": 223,
   "metadata": {},
   "outputs": [
    {
     "data": {
      "image/png": "[encoded data removed]",
      "text/plain": [
       "<Figure size 720x720 with 2 Axes>"
      ]
     },
     "metadata": {
      "needs_background": "light"
     },
     "output_type": "display_data"
    }
   ],
   "source": [
    "conf_mat_n(model=lr_model)"
   ]
  },
  {
   "cell_type": "code",
   "execution_count": 224,
   "metadata": {},
   "outputs": [
    {
     "name": "stdout",
     "output_type": "stream",
     "text": [
      "train: \n",
      "               precision    recall  f1-score   support\n",
      "\n",
      "           0       1.00      1.00      1.00        83\n",
      "           1       1.00      1.00      1.00        83\n",
      "\n",
      "    accuracy                           1.00       166\n",
      "   macro avg       1.00      1.00      1.00       166\n",
      "weighted avg       1.00      1.00      1.00       166\n",
      " \n",
      " test: \n",
      "               precision    recall  f1-score   support\n",
      "\n",
      "           0       0.66      0.64      0.65        42\n",
      "           1       0.64      0.66      0.65        41\n",
      "\n",
      "    accuracy                           0.65        83\n",
      "   macro avg       0.65      0.65      0.65        83\n",
      "weighted avg       0.65      0.65      0.65        83\n",
      "\n"
     ]
    }
   ],
   "source": [
    "cl_report(model = lr_model)"
   ]
  },
  {
   "cell_type": "code",
   "execution_count": null,
   "metadata": {},
   "outputs": [],
   "source": []
  },
  {
   "cell_type": "code",
   "execution_count": 225,
   "metadata": {},
   "outputs": [
    {
     "name": "stdout",
     "output_type": "stream",
     "text": [
      "accuracy 0.5662650602409639\n",
      "              precision    recall  f1-score   support\n",
      "\n",
      "           0       0.60      0.43      0.50        42\n",
      "           1       0.55      0.71      0.62        41\n",
      "\n",
      "    accuracy                           0.57        83\n",
      "   macro avg       0.57      0.57      0.56        83\n",
      "weighted avg       0.57      0.57      0.56        83\n",
      "\n"
     ]
    }
   ],
   "source": [
    "from sklearn.linear_model import SGDClassifier\n",
    "from sklearn.pipeline import Pipeline\n",
    "from sklearn.feature_extraction.text import TfidfTransformer\n",
    "\n",
    "sgd =  SGDClassifier(loss='hinge', penalty='l2',alpha=1e-3, random_state=42, max_iter=50, tol=None)\n",
    "sgd.fit(X_train, y_train)\n",
    "\n",
    "#%%time\n",
    "\n",
    "y_pred = sgd.predict(X_test)\n",
    "\n",
    "print('accuracy %s' % accuracy_score(y_pred, y_test))\n",
    "print(classification_report(y_test, y_pred))"
   ]
  },
  {
   "cell_type": "code",
   "execution_count": null,
   "metadata": {},
   "outputs": [],
   "source": []
  }
 ],
 "metadata": {
  "kernelspec": {
   "display_name": "Python 3",
   "language": "python",
   "name": "python3"
  },
  "language_info": {
   "codemirror_mode": {
    "name": "ipython",
    "version": 3
   },
   "file_extension": ".py",
   "mimetype": "text/x-python",
   "name": "python",
   "nbconvert_exporter": "python",
   "pygments_lexer": "ipython3",
   "version": "3.8.5"
  }
 },
 "nbformat": 4,
 "nbformat_minor": 4
}
