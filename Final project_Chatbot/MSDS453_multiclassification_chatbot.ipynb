{
 "cells": [
  {
   "cell_type": "code",
   "execution_count": 73,
   "metadata": {},
   "outputs": [],
   "source": [
    "import pandas as pd\n"
   ]
  },
  {
   "cell_type": "code",
   "execution_count": 74,
   "metadata": {},
   "outputs": [],
   "source": [
    "import datetime\n",
    "from packaging import version\n",
    "from collections import Counter\n",
    "import numpy as np\n",
    "import pandas as pd\n",
    "import time\n",
    "from collections import Counter\n",
    "\n",
    "import matplotlib.pyplot as plt\n",
    "import matplotlib as mpl\n",
    "import seaborn as sns\n",
    "\n",
    "from sklearn.metrics import confusion_matrix, classification_report\n",
    "from sklearn.preprocessing import StandardScaler\n",
    "from sklearn.decomposition import PCA\n",
    "from sklearn.manifold import TSNE\n",
    "from sklearn.ensemble import RandomForestClassifier\n",
    "from sklearn.metrics import mean_squared_error as MSE\n",
    "from sklearn.metrics import accuracy_score\n",
    "\n",
    "import tensorflow as tf\n",
    "from tensorflow import keras\n",
    "#import tensorflow_datasets as tfds\n"
   ]
  },
  {
   "cell_type": "code",
   "execution_count": 75,
   "metadata": {},
   "outputs": [],
   "source": [
    "from iexfinance.stocks import Stock"
   ]
  },
  {
   "cell_type": "code",
   "execution_count": 76,
   "metadata": {},
   "outputs": [],
   "source": [
    "#aapl = Stock(\"AAPL\",token =token)"
   ]
  },
  {
   "cell_type": "code",
   "execution_count": 77,
   "metadata": {},
   "outputs": [],
   "source": [
    "token = 'Tpk_5e6dda7bfc4847b5806b1c7155acfcd6'"
   ]
  },
  {
   "cell_type": "code",
   "execution_count": 78,
   "metadata": {},
   "outputs": [],
   "source": [
    "import requests\n",
    "# Requests"
   ]
  },
  {
   "cell_type": "code",
   "execution_count": 79,
   "metadata": {},
   "outputs": [],
   "source": [
    "import pandas as pd\n",
    "import requests\n",
    "from termcolor import colored as cl\n",
    "import matplotlib.pyplot as plt\n",
    "\n",
    "plt.style.use('seaborn-whitegrid')\n",
    "plt.rcParams['figure.figsize'] = (10,7)"
   ]
  },
  {
   "cell_type": "code",
   "execution_count": 173,
   "metadata": {},
   "outputs": [],
   "source": [
    "def print_validation_report(test_labels, predictions):\n",
    "    print(\"Classification Report\")\n",
    "    print(classification_report(test_labels, predictions))\n",
    "    print('Accuracy Score: {}'.format(accuracy_score(test_labels, predictions)))\n",
    "    print('Root Mean Square Error: {}'.format(np.sqrt(MSE(test_labels, predictions)))) \n",
    "\n",
    "def plot_confusion_matrix(y_true, y_pred):\n",
    "    mtx = confusion_matrix(y_true, y_pred)\n",
    "    fig, ax = plt.subplots(figsize=(8,8))\n",
    "    sns.heatmap(mtx, annot=True, fmt='d', linewidths=.75,  cbar=False, ax=ax,cmap='Blues',linecolor='white')\n",
    "    #  square=True,\n",
    "    plt.ylabel('true label')\n",
    "    plt.xlabel('predicted label')\n",
    "\n",
    "def plot_confusion_matrix_labeled(y_true, y_pred, CLASSES_LIST):\n",
    "    mtx = confusion_matrix(y_true, y_pred)\n",
    "    # define classes \n",
    "    classes = CLASSES_LIST\n",
    "    temp_df = pd.DataFrame(data=mtx,columns=classes)\n",
    "    temp_df.index = classes\n",
    "    fig, ax = plt.subplots(figsize=(10,10))\n",
    "    sns.heatmap(temp_df, annot=True, fmt='d', linewidths=.75,  cbar=False, ax=ax,cmap='Blues',linecolor='white')\n",
    "    #  square=True,\n",
    "    plt.ylabel('true label')\n",
    "    plt.xlabel('predicted label')"
   ]
  },
  {
   "cell_type": "code",
   "execution_count": 80,
   "metadata": {},
   "outputs": [],
   "source": [
    "def get_latest_updates(*ticker):\n",
    "    for i in ticker:\n",
    "        if i:\n",
    "            ticker = i\n",
    "            iex_api_key = 'pk_32ef64b2003542b6a829b8f94831c789'\n",
    "            api_url = f'https://cloud.iexapis.com/stable/stock/{ticker}/quote?token={iex_api_key}'\n",
    "            df = requests.get(api_url).json()\n",
    "            print(cl('Latest Updates of {}\\n--------------'.format(ticker), attrs = ['bold']))\n",
    "            attributes = ['symbol', \n",
    "                          'latestPrice', \n",
    "                          'marketCap', \n",
    "                          'peRatio']\n",
    "            for i in attributes:\n",
    "                print(cl('{} :'.format(i), attrs = ['bold']), '{}'.format(df[i]))    \n",
    "            print(cl('--------------\\n', attrs = ['bold']))\n",
    "\n",
    "#get_latest_updates('FB', 'AAPL', 'AMZN', 'NFLX', 'GOOGL')"
   ]
  },
  {
   "cell_type": "code",
   "execution_count": 81,
   "metadata": {},
   "outputs": [],
   "source": [
    "def get_historic_data(ticker):\n",
    "    ticker = ticker\n",
    "    iex_api_key = 'Tsk_30a2677082d54c7b8697675d84baf94b'\n",
    "    api_url = f'https://sandbox.iexapis.com/stable/stock/{ticker}/chart/max?token={iex_api_key}'\n",
    "    df = requests.get(api_url).json()\n",
    "    \n",
    "    date = []\n",
    "    open = []\n",
    "    high = []\n",
    "    low = []\n",
    "    close = []\n",
    "    \n",
    "    for i in range(len(df)):\n",
    "        date.append(df[i]['date'])\n",
    "        open.append(df[i]['open'])\n",
    "        high.append(df[i]['high'])\n",
    "        low.append(df[i]['low'])\n",
    "        close.append(df[i]['close'])\n",
    "    \n",
    "    date_df = pd.DataFrame(date).rename(columns = {0:'date'})\n",
    "    open_df = pd.DataFrame(open).rename(columns = {0:'open'})\n",
    "    high_df = pd.DataFrame(high).rename(columns = {0:'high'})\n",
    "    low_df = pd.DataFrame(low).rename(columns = {0:'low'})\n",
    "    close_df = pd.DataFrame(close).rename(columns = {0:'close'})\n",
    "    \n",
    "    frames = [date_df, open_df, high_df, low_df, close_df]\n",
    "    df = pd.concat(frames, axis = 1, join = 'inner')\n",
    "    df = df.set_index('date')\n",
    "    \n",
    "    df['open'].plot()\n",
    "    plt.title('{} Historical Prices'.format(ticker), fontsize = 10)\n",
    "    plt.xlabel('Date', fontsize = 10)\n",
    "    plt.ylabel('Stock Price', fontsize = 10)\n",
    "    plt.xticks(fontsize = 10)\n",
    "    plt.yticks(fontsize = 10)\n",
    "    plt.show()\n",
    "    \n",
    "    return df\n",
    "\n",
    "#get_historic_data('AAPL')"
   ]
  },
  {
   "cell_type": "code",
   "execution_count": 82,
   "metadata": {},
   "outputs": [],
   "source": [
    "def get_intraday_prices(ticker):\n",
    "    ticker = ticker\n",
    "    iex_api_key = 'pk_32ef64b2003542b6a829b8f94831c789'\n",
    "    url = f'https://cloud.iexapis.com/stable/stock/{ticker}/intraday-prices?token={iex_api_key}'\n",
    "    df = requests.get(url).json()\n",
    "    date = df[1]['date']\n",
    "        \n",
    "    time = []\n",
    "    open = []\n",
    "    high = []\n",
    "    low = []\n",
    "    close = []\n",
    "    volume = []\n",
    "    number_of_trades = []\n",
    "    \n",
    "    for i in range(len(df)):\n",
    "        time.append(df[i]['label'])\n",
    "        open.append(df[i]['open'])\n",
    "        high.append(df[i]['high'])\n",
    "        low.append(df[i]['low'])\n",
    "        close.append(df[i]['close'])\n",
    "        volume.append(df[i]['volume'])\n",
    "        number_of_trades.append(df[i]['numberOfTrades'])\n",
    "        \n",
    "    time_df = pd.DataFrame(time).rename(columns = {0:'Time'})\n",
    "    open_df = pd.DataFrame(open).rename(columns = {0:'Open'})\n",
    "    high_df = pd.DataFrame(high).rename(columns = {0:'High'})\n",
    "    low_df = pd.DataFrame(low).rename(columns = {0:'Low'})\n",
    "    close_df = pd.DataFrame(close).rename(columns = {0:'Close'})\n",
    "    volume_df = pd.DataFrame(volume).rename(columns = {0:'Volume'})\n",
    "    number_of_trades_df = pd.DataFrame(number_of_trades).rename(columns = {0:'Number of Trades'})\n",
    "     \n",
    "    frames = [time_df, open_df, high_df, low_df, close_df, volume_df, number_of_trades_df]\n",
    "    df = pd.concat(frames, axis = 1, join = 'inner')\n",
    "    df = df.set_index('Time')\n",
    "\n",
    "    df['Open'].plot()\n",
    "    plt.title(f'{ticker} Intraday Prices on {date}', fontsize = 18)\n",
    "    plt.xlabel('Time', fontsize = 14)\n",
    "    plt.ylabel('Stock Price', fontsize = 14)\n",
    "    plt.xticks(fontsize = 12)\n",
    "    plt.yticks(fontsize = 12)\n",
    "    plt.show()\n",
    "    \n",
    "    return df\n",
    "\n",
    "#get_intraday_prices('TSLA')"
   ]
  },
  {
   "cell_type": "code",
   "execution_count": 83,
   "metadata": {},
   "outputs": [],
   "source": [
    "def financial(ticker):\n",
    "    iex_api_key = 'pk_32ef64b2003542b6a829b8f94831c789'\n",
    "    url = f'https://cloud.iexapis.com/stable/time-series/REPORTED_FINANCIALS/{ticker}/{input(\"10-k or 10-q\")}?token={iex_api_key}'\n",
    "    df = requests.get(url)\n",
    "    return df.json()"
   ]
  },
  {
   "cell_type": "code",
   "execution_count": 84,
   "metadata": {},
   "outputs": [],
   "source": [
    "def div(ticker):\n",
    "    iex_api_key = 'pk_32ef64b2003542b6a829b8f94831c789'\n",
    "\n",
    "    url = f'https://cloud.iexapis.com/stable/stock/{ticker}/dividends?token={iex_api_key}'\n",
    "    df = requests.get(url)\n",
    "    return df.json()"
   ]
  },
  {
   "cell_type": "code",
   "execution_count": 85,
   "metadata": {},
   "outputs": [],
   "source": [
    "def get_info(ticker):\n",
    "    pass"
   ]
  },
  {
   "cell_type": "code",
   "execution_count": null,
   "metadata": {},
   "outputs": [],
   "source": []
  },
  {
   "cell_type": "code",
   "execution_count": 86,
   "metadata": {},
   "outputs": [],
   "source": [
    "tags= [\"what is the \",\"what is \", \"can you please get \", \"get the \", \"get \", \"can you help me find \", \"find the \", \"find the of \",\"please find \",\"find the of \",\n",
    "       \"help me with \",\"help me \", \"\"]"
   ]
  },
  {
   "cell_type": "code",
   "execution_count": 87,
   "metadata": {},
   "outputs": [
    {
     "name": "stdout",
     "output_type": "stream",
     "text": [
      "what is the  ,\n",
      "what is  ,\n",
      "can you please get  ,\n",
      "get the  ,\n",
      "get  ,\n",
      "can you help me find  ,\n",
      "find the  ,\n",
      "find the of  ,\n",
      "please find  ,\n",
      "find the of  ,\n",
      "help me with  ,\n",
      "help me  ,\n",
      " ,\n"
     ]
    }
   ],
   "source": [
    "for i in tags:\n",
    "    print(i,\",\")"
   ]
  },
  {
   "cell_type": "code",
   "execution_count": 88,
   "metadata": {},
   "outputs": [
    {
     "name": "stdout",
     "output_type": "stream",
     "text": [
      "C:\\Users\\hag8665\\Desktop\\MSDS 453\\Final project\n"
     ]
    }
   ],
   "source": [
    "%cd C:\\Users\\hag8665\\Desktop\\MSDS 453\\Final project"
   ]
  },
  {
   "cell_type": "code",
   "execution_count": 89,
   "metadata": {},
   "outputs": [],
   "source": [
    "# create intent data"
   ]
  },
  {
   "cell_type": "code",
   "execution_count": 90,
   "metadata": {},
   "outputs": [],
   "source": [
    "intentdf= pd.read_excel('intentdata.xlsx')"
   ]
  },
  {
   "cell_type": "code",
   "execution_count": 91,
   "metadata": {},
   "outputs": [
    {
     "name": "stdout",
     "output_type": "stream",
     "text": [
      "<class 'pandas.core.frame.DataFrame'>\n",
      "RangeIndex: 18 entries, 0 to 17\n",
      "Data columns (total 2 columns):\n",
      " #   Column  Non-Null Count  Dtype \n",
      "---  ------  --------------  ----- \n",
      " 0   text    18 non-null     object\n",
      " 1   intent  18 non-null     object\n",
      "dtypes: object(2)\n",
      "memory usage: 416.0+ bytes\n"
     ]
    }
   ],
   "source": [
    "intentdf.info()"
   ]
  },
  {
   "cell_type": "code",
   "execution_count": 92,
   "metadata": {},
   "outputs": [],
   "source": [
    "#explode the text to expand the data"
   ]
  },
  {
   "cell_type": "code",
   "execution_count": 93,
   "metadata": {},
   "outputs": [],
   "source": [
    "intentdf =intentdf.assign(text=intentdf.text.str.split(\",\"))"
   ]
  },
  {
   "cell_type": "code",
   "execution_count": 94,
   "metadata": {},
   "outputs": [],
   "source": [
    "intentdf = intentdf.explode('text')"
   ]
  },
  {
   "cell_type": "code",
   "execution_count": 95,
   "metadata": {},
   "outputs": [
    {
     "data": {
      "text/html": [
       "<div>\n",
       "<style scoped>\n",
       "    .dataframe tbody tr th:only-of-type {\n",
       "        vertical-align: middle;\n",
       "    }\n",
       "\n",
       "    .dataframe tbody tr th {\n",
       "        vertical-align: top;\n",
       "    }\n",
       "\n",
       "    .dataframe thead th {\n",
       "        text-align: right;\n",
       "    }\n",
       "</style>\n",
       "<table border=\"1\" class=\"dataframe\">\n",
       "  <thead>\n",
       "    <tr style=\"text-align: right;\">\n",
       "      <th></th>\n",
       "      <th>text</th>\n",
       "      <th>intent</th>\n",
       "    </tr>\n",
       "  </thead>\n",
       "  <tbody>\n",
       "    <tr>\n",
       "      <th>0</th>\n",
       "      <td>dividend</td>\n",
       "      <td>dividends</td>\n",
       "    </tr>\n",
       "    <tr>\n",
       "      <th>0</th>\n",
       "      <td>dividends</td>\n",
       "      <td>dividends</td>\n",
       "    </tr>\n",
       "    <tr>\n",
       "      <th>0</th>\n",
       "      <td>distributions</td>\n",
       "      <td>dividends</td>\n",
       "    </tr>\n",
       "    <tr>\n",
       "      <th>0</th>\n",
       "      <td>distribution</td>\n",
       "      <td>dividends</td>\n",
       "    </tr>\n",
       "    <tr>\n",
       "      <th>0</th>\n",
       "      <td>dividend yield</td>\n",
       "      <td>dividends</td>\n",
       "    </tr>\n",
       "  </tbody>\n",
       "</table>\n",
       "</div>"
      ],
      "text/plain": [
       "              text     intent\n",
       "0        dividend   dividends\n",
       "0        dividends  dividends\n",
       "0    distributions  dividends\n",
       "0     distribution  dividends\n",
       "0   dividend yield  dividends"
      ]
     },
     "execution_count": 95,
     "metadata": {},
     "output_type": "execute_result"
    }
   ],
   "source": [
    "intentdf.head()"
   ]
  },
  {
   "cell_type": "code",
   "execution_count": 96,
   "metadata": {},
   "outputs": [],
   "source": [
    "intentdf['fulltext'] = intentdf['text'].apply(lambda x:[ i+ x for i  in tags ])"
   ]
  },
  {
   "cell_type": "code",
   "execution_count": 97,
   "metadata": {},
   "outputs": [],
   "source": [
    "intentdf = intentdf.explode(['fulltext'])"
   ]
  },
  {
   "cell_type": "code",
   "execution_count": 98,
   "metadata": {},
   "outputs": [],
   "source": [
    "tickerdf= pd.read_excel('tickerlist.xlsx')"
   ]
  },
  {
   "cell_type": "code",
   "execution_count": 99,
   "metadata": {},
   "outputs": [],
   "source": [
    "tickerlist= tickerdf['companies'].to_list()"
   ]
  },
  {
   "cell_type": "code",
   "execution_count": 100,
   "metadata": {},
   "outputs": [],
   "source": [
    "intentdf['intent'] = intentdf['intent'].astype(\"category\")"
   ]
  },
  {
   "cell_type": "code",
   "execution_count": 101,
   "metadata": {},
   "outputs": [],
   "source": [
    "intentdf['intent code'] = intentdf['intent'].cat.codes"
   ]
  },
  {
   "cell_type": "code",
   "execution_count": null,
   "metadata": {},
   "outputs": [],
   "source": []
  },
  {
   "cell_type": "code",
   "execution_count": 102,
   "metadata": {},
   "outputs": [],
   "source": [
    "findlabel = intentdf[['intent','intent code']].drop_duplicates()"
   ]
  },
  {
   "cell_type": "code",
   "execution_count": 103,
   "metadata": {},
   "outputs": [
    {
     "data": {
      "text/html": [
       "<div>\n",
       "<style scoped>\n",
       "    .dataframe tbody tr th:only-of-type {\n",
       "        vertical-align: middle;\n",
       "    }\n",
       "\n",
       "    .dataframe tbody tr th {\n",
       "        vertical-align: top;\n",
       "    }\n",
       "\n",
       "    .dataframe thead th {\n",
       "        text-align: right;\n",
       "    }\n",
       "</style>\n",
       "<table border=\"1\" class=\"dataframe\">\n",
       "  <thead>\n",
       "    <tr style=\"text-align: right;\">\n",
       "      <th></th>\n",
       "      <th>intent</th>\n",
       "      <th>intent code</th>\n",
       "    </tr>\n",
       "  </thead>\n",
       "  <tbody>\n",
       "    <tr>\n",
       "      <th>0</th>\n",
       "      <td>dividends</td>\n",
       "      <td>6</td>\n",
       "    </tr>\n",
       "    <tr>\n",
       "      <th>1</th>\n",
       "      <td>financials</td>\n",
       "      <td>7</td>\n",
       "    </tr>\n",
       "    <tr>\n",
       "      <th>2</th>\n",
       "      <td>sustainability score</td>\n",
       "      <td>17</td>\n",
       "    </tr>\n",
       "    <tr>\n",
       "      <th>3</th>\n",
       "      <td>news</td>\n",
       "      <td>12</td>\n",
       "    </tr>\n",
       "    <tr>\n",
       "      <th>4</th>\n",
       "      <td>annual financials</td>\n",
       "      <td>1</td>\n",
       "    </tr>\n",
       "    <tr>\n",
       "      <th>5</th>\n",
       "      <td>quaterly financials</td>\n",
       "      <td>14</td>\n",
       "    </tr>\n",
       "    <tr>\n",
       "      <th>6</th>\n",
       "      <td>current price</td>\n",
       "      <td>4</td>\n",
       "    </tr>\n",
       "    <tr>\n",
       "      <th>7</th>\n",
       "      <td>historical price</td>\n",
       "      <td>9</td>\n",
       "    </tr>\n",
       "    <tr>\n",
       "      <th>8</th>\n",
       "      <td>income statement</td>\n",
       "      <td>10</td>\n",
       "    </tr>\n",
       "    <tr>\n",
       "      <th>9</th>\n",
       "      <td>balance sheet</td>\n",
       "      <td>2</td>\n",
       "    </tr>\n",
       "    <tr>\n",
       "      <th>10</th>\n",
       "      <td>cash flow</td>\n",
       "      <td>3</td>\n",
       "    </tr>\n",
       "    <tr>\n",
       "      <th>11</th>\n",
       "      <td>good stock</td>\n",
       "      <td>8</td>\n",
       "    </tr>\n",
       "    <tr>\n",
       "      <th>12</th>\n",
       "      <td>analyst ratings</td>\n",
       "      <td>0</td>\n",
       "    </tr>\n",
       "    <tr>\n",
       "      <th>13</th>\n",
       "      <td>snap shot</td>\n",
       "      <td>16</td>\n",
       "    </tr>\n",
       "    <tr>\n",
       "      <th>14</th>\n",
       "      <td>intraday price</td>\n",
       "      <td>11</td>\n",
       "    </tr>\n",
       "    <tr>\n",
       "      <th>15</th>\n",
       "      <td>peers</td>\n",
       "      <td>13</td>\n",
       "    </tr>\n",
       "    <tr>\n",
       "      <th>16</th>\n",
       "      <td>ratios</td>\n",
       "      <td>15</td>\n",
       "    </tr>\n",
       "    <tr>\n",
       "      <th>17</th>\n",
       "      <td>defination</td>\n",
       "      <td>5</td>\n",
       "    </tr>\n",
       "  </tbody>\n",
       "</table>\n",
       "</div>"
      ],
      "text/plain": [
       "                  intent  intent code\n",
       "0              dividends            6\n",
       "1             financials            7\n",
       "2   sustainability score           17\n",
       "3                   news           12\n",
       "4      annual financials            1\n",
       "5    quaterly financials           14\n",
       "6          current price            4\n",
       "7       historical price            9\n",
       "8       income statement           10\n",
       "9          balance sheet            2\n",
       "10             cash flow            3\n",
       "11            good stock            8\n",
       "12       analyst ratings            0\n",
       "13             snap shot           16\n",
       "14        intraday price           11\n",
       "15                 peers           13\n",
       "16                ratios           15\n",
       "17            defination            5"
      ]
     },
     "execution_count": 103,
     "metadata": {},
     "output_type": "execute_result"
    }
   ],
   "source": [
    "findlabel"
   ]
  },
  {
   "cell_type": "code",
   "execution_count": 104,
   "metadata": {},
   "outputs": [],
   "source": [
    "#intentdf.to_excel('test.xlsx')"
   ]
  },
  {
   "cell_type": "code",
   "execution_count": 105,
   "metadata": {},
   "outputs": [],
   "source": [
    "# create data for embedding"
   ]
  },
  {
   "cell_type": "code",
   "execution_count": 106,
   "metadata": {},
   "outputs": [],
   "source": [
    "# intentdf['intent'] = intentdf['intent'].astype(\"category\")"
   ]
  },
  {
   "cell_type": "code",
   "execution_count": 107,
   "metadata": {},
   "outputs": [],
   "source": [
    "# intentdf['intent code'] = intentdf['intent'].cat.codes"
   ]
  },
  {
   "cell_type": "code",
   "execution_count": 108,
   "metadata": {},
   "outputs": [],
   "source": [
    "\n",
    "def get_dataset_partitions_pd(df, train_split=0.8, val_split=0.10, test_split=0.10):\n",
    "    #assert (train_split + test_split + val_split) == 1\n",
    "    \n",
    "    # Only allows for equal validation and test splits\n",
    "    #assert val_split == test_split \n",
    "\n",
    "    # Specify seed to always have the same split distribution between runs\n",
    "    df_sample = df.sample(frac=1, random_state=12)\n",
    "    indices_or_sections = [int(.8*len(df)), int(.9*len(df))]\n",
    "    \n",
    "    train_ds, val_ds, test_ds = np.split(df_sample, indices_or_sections)\n",
    "    \n",
    "    return train_ds, val_ds, test_ds"
   ]
  },
  {
   "cell_type": "code",
   "execution_count": 109,
   "metadata": {},
   "outputs": [],
   "source": [
    "trainds, valds, testds = get_dataset_partitions_pd(intentdf[['fulltext','intent code']])"
   ]
  },
  {
   "cell_type": "code",
   "execution_count": 110,
   "metadata": {},
   "outputs": [],
   "source": [
    "from sklearn.model_selection import train_test_split"
   ]
  },
  {
   "cell_type": "code",
   "execution_count": 111,
   "metadata": {},
   "outputs": [],
   "source": [
    " features, targets = intentdf['fulltext'], intentdf['intent code']\n",
    " \n",
    " train_features, test_features, train_targets, test_targets = train_test_split( features, targets , test_size=0.20, random_state=42, shuffle = True,\n",
    "        stratify=targets)\n"
   ]
  },
  {
   "cell_type": "code",
   "execution_count": 112,
   "metadata": {},
   "outputs": [],
   "source": [
    "x_train = train_features.to_numpy()\n",
    "\n",
    "y_train = train_targets.to_numpy()\n",
    "\n",
    "x_test = test_features.to_numpy()\n",
    "\n",
    "y_test = test_targets.to_numpy()"
   ]
  },
  {
   "cell_type": "code",
   "execution_count": 113,
   "metadata": {},
   "outputs": [],
   "source": [
    "counts = intentdf[\"fulltext\"].str.findall(r\"(\\w+)\").explode().value_counts()"
   ]
  },
  {
   "cell_type": "code",
   "execution_count": 114,
   "metadata": {},
   "outputs": [
    {
     "name": "stdout",
     "output_type": "stream",
     "text": [
      "Total number of words= 5050 : Total number of unque words= 115\n"
     ]
    }
   ],
   "source": [
    "print (\"Total number of words= {} : Total number of unque words= {}\". format(counts.values.sum(), counts.shape[0]))"
   ]
  },
  {
   "cell_type": "code",
   "execution_count": 115,
   "metadata": {},
   "outputs": [
    {
     "data": {
      "image/png": "[encoded data removed]",
      "text/plain": [
       "<Figure size 1440x1080 with 1 Axes>"
      ]
     },
     "metadata": {},
     "output_type": "display_data"
    }
   ],
   "source": [
    "fig, ax = plt.subplots(figsize=(20,15))\n",
    "sns.barplot(x=counts.index, y=counts.values, ax=ax)\n",
    "ax.set_ylabel('Number of Occurrences', fontsize=12)\n",
    "ax.set_xlabel('Word', fontsize=12)\n",
    "ax.xaxis.set_tick_params(rotation=90)"
   ]
  },
  {
   "cell_type": "code",
   "execution_count": 116,
   "metadata": {},
   "outputs": [],
   "source": [
    "\n",
    "encoder = tf.keras.layers.experimental.preprocessing.TextVectorization(\n",
    "     standardize=\"lower_and_strip_punctuation\")\n",
    "encoder.adapt(intentdf['fulltext'].to_numpy(), batch_size= None)"
   ]
  },
  {
   "cell_type": "code",
   "execution_count": null,
   "metadata": {},
   "outputs": [],
   "source": []
  },
  {
   "cell_type": "code",
   "execution_count": 117,
   "metadata": {},
   "outputs": [],
   "source": [
    "counts = intentdf[\"fulltext\"].str.findall(r\"(\\w+)\").explode().value_counts()"
   ]
  },
  {
   "cell_type": "code",
   "execution_count": 118,
   "metadata": {},
   "outputs": [
    {
     "data": {
      "text/plain": [
       "116"
      ]
     },
     "execution_count": 118,
     "metadata": {},
     "output_type": "execute_result"
    }
   ],
   "source": [
    "len(encoder.get_vocabulary())"
   ]
  },
  {
   "cell_type": "code",
   "execution_count": 119,
   "metadata": {},
   "outputs": [
    {
     "data": {
      "text/plain": [
       "array([6, 2, 1, 1, 1], dtype=int64)"
      ]
     },
     "execution_count": 119,
     "metadata": {},
     "output_type": "execute_result"
    }
   ],
   "source": [
    "encoded_example = encoder('get the divdend for ticker').numpy()\n",
    "encoded_example[:]"
   ]
  },
  {
   "cell_type": "code",
   "execution_count": 120,
   "metadata": {},
   "outputs": [
    {
     "data": {
      "text/plain": [
       "18"
      ]
     },
     "execution_count": 120,
     "metadata": {},
     "output_type": "execute_result"
    }
   ],
   "source": [
    "intentdf['intent code'].nunique()"
   ]
  },
  {
   "cell_type": "code",
   "execution_count": 121,
   "metadata": {},
   "outputs": [],
   "source": [
    "num_classes = intentdf['intent code'].nunique()\n",
    "model = tf.keras.Sequential([\n",
    "                              encoder\n",
    "                              ,tf.keras.layers.Embedding(input_dim=len(encoder.get_vocabulary())\n",
    "                              ,output_dim=32\n",
    "                                # Use masking to handle the variable sequence lengths\n",
    "                              ,mask_zero=True)\n",
    "                              ,tf.keras.layers.Bidirectional(tf.keras.layers.LSTM(64))\n",
    "                              ,tf.keras.layers.Dense(64, activation='relu')\n",
    "                              ,tf.keras.layers.Dense(num_classes, activation='softmax')   # num_classes = 5\n",
    "])"
   ]
  },
  {
   "cell_type": "code",
   "execution_count": 122,
   "metadata": {},
   "outputs": [],
   "source": [
    "model.compile(optimizer= 'adam'\n",
    "              ,loss= tf.keras.losses.SparseCategoricalCrossentropy(from_logits=False) # if we set from_logits=True we don not have specify a softmax activation function in the last layer\n",
    "              ,metrics=['accuracy'])"
   ]
  },
  {
   "cell_type": "code",
   "execution_count": 123,
   "metadata": {},
   "outputs": [
    {
     "name": "stdout",
     "output_type": "stream",
     "text": [
      "Model: \"sequential\"\n",
      "_________________________________________________________________\n",
      " Layer (type)                Output Shape              Param #   \n",
      "=================================================================\n",
      " text_vectorization (TextVec  (None, None)             0         \n",
      " torization)                                                     \n",
      "                                                                 \n",
      " embedding (Embedding)       (None, None, 32)          3712      \n",
      "                                                                 \n",
      " bidirectional (Bidirectiona  (None, 128)              49664     \n",
      " l)                                                              \n",
      "                                                                 \n",
      " dense (Dense)               (None, 64)                8256      \n",
      "                                                                 \n",
      " dense_1 (Dense)             (None, 18)                1170      \n",
      "                                                                 \n",
      "=================================================================\n",
      "Total params: 62,802\n",
      "Trainable params: 62,802\n",
      "Non-trainable params: 0\n",
      "_________________________________________________________________\n"
     ]
    }
   ],
   "source": [
    "model.summary()"
   ]
  },
  {
   "cell_type": "code",
   "execution_count": 124,
   "metadata": {
    "scrolled": true
   },
   "outputs": [
    {
     "name": "stdout",
     "output_type": "stream",
     "text": [
      "Epoch 1/200\n",
      "24/24 [==============================] - 7s 79ms/step - loss: 2.8782 - accuracy: 0.1374 - val_loss: 2.8594 - val_accuracy: 0.1354\n",
      "Epoch 2/200\n",
      "24/24 [==============================] - 0s 6ms/step - loss: 2.8016 - accuracy: 0.1348 - val_loss: 2.7381 - val_accuracy: 0.1406\n",
      "Epoch 3/200\n",
      "24/24 [==============================] - 0s 5ms/step - loss: 2.5577 - accuracy: 0.1846 - val_loss: 2.3990 - val_accuracy: 0.2969\n",
      "Epoch 4/200\n",
      "24/24 [==============================] - 0s 5ms/step - loss: 2.0443 - accuracy: 0.3743 - val_loss: 1.7815 - val_accuracy: 0.5104\n",
      "Epoch 5/200\n",
      "24/24 [==============================] - 0s 5ms/step - loss: 1.3090 - accuracy: 0.6819 - val_loss: 0.9398 - val_accuracy: 0.8385\n",
      "Epoch 6/200\n",
      "24/24 [==============================] - 0s 5ms/step - loss: 0.6837 - accuracy: 0.8927 - val_loss: 0.4925 - val_accuracy: 0.9583\n",
      "Epoch 7/200\n",
      "24/24 [==============================] - 0s 6ms/step - loss: 0.3537 - accuracy: 0.9647 - val_loss: 0.3203 - val_accuracy: 0.9844\n",
      "Epoch 8/200\n",
      "24/24 [==============================] - 0s 6ms/step - loss: 0.2127 - accuracy: 0.9895 - val_loss: 0.1788 - val_accuracy: 0.9948\n",
      "Epoch 9/200\n",
      "24/24 [==============================] - 0s 5ms/step - loss: 0.1327 - accuracy: 0.9961 - val_loss: 0.1312 - val_accuracy: 0.9948\n",
      "Epoch 10/200\n",
      "24/24 [==============================] - 0s 5ms/step - loss: 0.0900 - accuracy: 0.9974 - val_loss: 0.1022 - val_accuracy: 0.9948\n",
      "Epoch 11/200\n",
      "24/24 [==============================] - 0s 5ms/step - loss: 0.0734 - accuracy: 0.9974 - val_loss: 0.0914 - val_accuracy: 1.0000\n",
      "Epoch 12/200\n",
      "24/24 [==============================] - 0s 5ms/step - loss: 0.0594 - accuracy: 0.9987 - val_loss: 0.0734 - val_accuracy: 1.0000\n",
      "Epoch 13/200\n",
      "24/24 [==============================] - 0s 5ms/step - loss: 0.0505 - accuracy: 0.9987 - val_loss: 0.0682 - val_accuracy: 0.9948\n",
      "Epoch 14/200\n",
      "24/24 [==============================] - 0s 5ms/step - loss: 0.0450 - accuracy: 0.9987 - val_loss: 0.0547 - val_accuracy: 1.0000\n",
      "Epoch 15/200\n",
      "24/24 [==============================] - 0s 5ms/step - loss: 0.0373 - accuracy: 1.0000 - val_loss: 0.0630 - val_accuracy: 0.9948\n",
      "Epoch 16/200\n",
      "24/24 [==============================] - 0s 6ms/step - loss: 0.0313 - accuracy: 1.0000 - val_loss: 0.0452 - val_accuracy: 1.0000\n",
      "Wall time: 8.77 s\n"
     ]
    }
   ],
   "source": [
    "%%time\n",
    "history = model.fit(x_train, y_train\n",
    "                    ,epochs = 200\n",
    "                    #,validation_data = val_ds\n",
    "                    ,validation_split= 0.2\n",
    "                    ,callbacks=[tf.keras.callbacks.EarlyStopping(monitor='val_accuracy', patience=5)]\n",
    "                    )"
   ]
  },
  {
   "cell_type": "code",
   "execution_count": 125,
   "metadata": {},
   "outputs": [
    {
     "name": "stdout",
     "output_type": "stream",
     "text": [
      "8/8 [==============================] - 2s 3ms/step - loss: 0.0616 - accuracy: 1.0000\n"
     ]
    },
    {
     "data": {
      "text/plain": [
       "[0.06164790689945221, 1.0]"
      ]
     },
     "execution_count": 125,
     "metadata": {},
     "output_type": "execute_result"
    }
   ],
   "source": [
    "model.evaluate(x_test, y_test)"
   ]
  },
  {
   "cell_type": "code",
   "execution_count": null,
   "metadata": {},
   "outputs": [],
   "source": [
    "#sample predctions"
   ]
  },
  {
   "cell_type": "code",
   "execution_count": 126,
   "metadata": {},
   "outputs": [],
   "source": [
    "p= [\"get yesterday dividend and price\"]"
   ]
  },
  {
   "cell_type": "code",
   "execution_count": 127,
   "metadata": {},
   "outputs": [
    {
     "data": {
      "text/plain": [
       "['get yesterday dividend and price']"
      ]
     },
     "execution_count": 127,
     "metadata": {},
     "output_type": "execute_result"
    }
   ],
   "source": [
    "p"
   ]
  },
  {
   "cell_type": "code",
   "execution_count": 128,
   "metadata": {},
   "outputs": [
    {
     "data": {
      "text/plain": [
       "9"
      ]
     },
     "execution_count": 128,
     "metadata": {},
     "output_type": "execute_result"
    }
   ],
   "source": [
    "np.argmax(model.predict(p))"
   ]
  },
  {
   "cell_type": "code",
   "execution_count": null,
   "metadata": {},
   "outputs": [],
   "source": [
    "#test data evalutaion"
   ]
  },
  {
   "cell_type": "code",
   "execution_count": 181,
   "metadata": {},
   "outputs": [],
   "source": [
    "CLASSES_LIST = findlabel.sort_values(\"intent code\")['intent'].tolist()"
   ]
  },
  {
   "cell_type": "code",
   "execution_count": 182,
   "metadata": {},
   "outputs": [],
   "source": [
    "preds = model.predict(x_test)\n",
    "\n"
   ]
  },
  {
   "cell_type": "code",
   "execution_count": 183,
   "metadata": {},
   "outputs": [],
   "source": [
    "y_pred = np.argmax(preds, axis=1)"
   ]
  },
  {
   "cell_type": "code",
   "execution_count": 184,
   "metadata": {},
   "outputs": [
    {
     "data": {
      "text/plain": [
       "array([[10,  0,  0,  0,  0,  0,  0,  0,  0,  0,  0,  0,  0,  0,  0,  0,\n",
       "         0,  0],\n",
       "       [ 0, 16,  0,  0,  0,  0,  0,  0,  0,  0,  0,  0,  0,  0,  0,  0,\n",
       "         0,  0],\n",
       "       [ 0,  0, 10,  0,  0,  0,  0,  0,  0,  0,  0,  0,  0,  0,  0,  0,\n",
       "         0,  0],\n",
       "       [ 0,  0,  0, 10,  0,  0,  0,  0,  0,  0,  0,  0,  0,  0,  0,  0,\n",
       "         0,  0],\n",
       "       [ 0,  0,  0,  0,  8,  0,  0,  0,  0,  0,  0,  0,  0,  0,  0,  0,\n",
       "         0,  0],\n",
       "       [ 0,  0,  0,  0,  0, 16,  0,  0,  0,  0,  0,  0,  0,  0,  0,  0,\n",
       "         0,  0],\n",
       "       [ 0,  0,  0,  0,  0,  0, 31,  0,  0,  0,  0,  0,  0,  0,  0,  0,\n",
       "         0,  0],\n",
       "       [ 0,  0,  0,  0,  0,  0,  0, 13,  0,  0,  0,  0,  0,  0,  0,  0,\n",
       "         0,  0],\n",
       "       [ 0,  0,  0,  0,  0,  0,  0,  0, 13,  0,  0,  0,  0,  0,  0,  0,\n",
       "         0,  0],\n",
       "       [ 0,  0,  0,  0,  0,  0,  0,  0,  0, 13,  0,  0,  0,  0,  0,  0,\n",
       "         0,  0],\n",
       "       [ 0,  0,  0,  0,  0,  0,  0,  0,  0,  0,  8,  0,  0,  0,  0,  0,\n",
       "         0,  0],\n",
       "       [ 0,  0,  0,  0,  0,  0,  0,  0,  0,  0,  0, 10,  0,  0,  0,  0,\n",
       "         0,  0],\n",
       "       [ 0,  0,  0,  0,  0,  0,  0,  0,  0,  0,  0,  0, 13,  0,  0,  0,\n",
       "         0,  0],\n",
       "       [ 0,  0,  0,  0,  0,  0,  0,  0,  0,  0,  0,  0,  0, 11,  0,  0,\n",
       "         0,  0],\n",
       "       [ 0,  0,  0,  0,  0,  0,  0,  0,  0,  0,  0,  0,  0,  0, 13,  0,\n",
       "         0,  0],\n",
       "       [ 0,  0,  0,  0,  0,  0,  0,  0,  0,  0,  0,  0,  0,  0,  0,  8,\n",
       "         0,  0],\n",
       "       [ 0,  0,  0,  0,  0,  0,  0,  0,  0,  0,  0,  0,  0,  0,  0,  0,\n",
       "        16,  0],\n",
       "       [ 0,  0,  0,  0,  0,  0,  0,  0,  0,  0,  0,  0,  0,  0,  0,  0,\n",
       "         0, 21]], dtype=int64)"
      ]
     },
     "execution_count": 184,
     "metadata": {},
     "output_type": "execute_result"
    }
   ],
   "source": [
    "y = y_test\n",
    "\n",
    "\n",
    "confusion_matrix(y, y_pred)\n",
    "\n"
   ]
  },
  {
   "cell_type": "code",
   "execution_count": 185,
   "metadata": {},
   "outputs": [
    {
     "data": {
      "image/png": "[encoded data removed]",
      "text/plain": [
       "<Figure size 720x720 with 1 Axes>"
      ]
     },
     "metadata": {},
     "output_type": "display_data"
    }
   ],
   "source": [
    "plot_confusion_matrix_labeled(y,y_pred, CLASSES_LIST=CLASSES_LIST)"
   ]
  },
  {
   "cell_type": "code",
   "execution_count": 186,
   "metadata": {},
   "outputs": [
    {
     "name": "stdout",
     "output_type": "stream",
     "text": [
      "Classification Report\n",
      "              precision    recall  f1-score   support\n",
      "\n",
      "           0       1.00      1.00      1.00        10\n",
      "           1       1.00      1.00      1.00        16\n",
      "           2       1.00      1.00      1.00        10\n",
      "           3       1.00      1.00      1.00        10\n",
      "           4       1.00      1.00      1.00         8\n",
      "           5       1.00      1.00      1.00        16\n",
      "           6       1.00      1.00      1.00        31\n",
      "           7       1.00      1.00      1.00        13\n",
      "           8       1.00      1.00      1.00        13\n",
      "           9       1.00      1.00      1.00        13\n",
      "          10       1.00      1.00      1.00         8\n",
      "          11       1.00      1.00      1.00        10\n",
      "          12       1.00      1.00      1.00        13\n",
      "          13       1.00      1.00      1.00        11\n",
      "          14       1.00      1.00      1.00        13\n",
      "          15       1.00      1.00      1.00         8\n",
      "          16       1.00      1.00      1.00        16\n",
      "          17       1.00      1.00      1.00        21\n",
      "\n",
      "    accuracy                           1.00       240\n",
      "   macro avg       1.00      1.00      1.00       240\n",
      "weighted avg       1.00      1.00      1.00       240\n",
      "\n",
      "Accuracy Score: 1.0\n",
      "Root Mean Square Error: 0.0\n"
     ]
    }
   ],
   "source": [
    "print_validation_report(y,y_pred)"
   ]
  },
  {
   "cell_type": "code",
   "execution_count": null,
   "metadata": {},
   "outputs": [],
   "source": []
  },
  {
   "cell_type": "code",
   "execution_count": null,
   "metadata": {},
   "outputs": [],
   "source": []
  },
  {
   "cell_type": "code",
   "execution_count": null,
   "metadata": {},
   "outputs": [],
   "source": []
  },
  {
   "cell_type": "code",
   "execution_count": 129,
   "metadata": {},
   "outputs": [],
   "source": [
    "#get mapper of intent using finallabel dataframe\n",
    "mapper = findlabel.set_index(\"intent code\").to_dict()"
   ]
  },
  {
   "cell_type": "code",
   "execution_count": null,
   "metadata": {},
   "outputs": [],
   "source": []
  },
  {
   "cell_type": "code",
   "execution_count": 130,
   "metadata": {},
   "outputs": [],
   "source": [
    "tickerdf= pd.read_excel('tickerlist.xlsx')"
   ]
  },
  {
   "cell_type": "code",
   "execution_count": 131,
   "metadata": {},
   "outputs": [],
   "source": [
    "from spacy.tokens.doc import Doc\n",
    "from spacy.vocab import Vocab\n",
    "\n",
    "import spacy\n",
    "\n",
    "nlp = spacy.load('en_core_web_lg')"
   ]
  },
  {
   "cell_type": "code",
   "execution_count": 132,
   "metadata": {},
   "outputs": [],
   "source": [
    "from spacy import displacy"
   ]
  },
  {
   "cell_type": "code",
   "execution_count": 209,
   "metadata": {},
   "outputs": [],
   "source": [
    "doc = nlp(\"get price for L\")"
   ]
  },
  {
   "cell_type": "code",
   "execution_count": 210,
   "metadata": {},
   "outputs": [
    {
     "data": {
      "text/html": [
       "<span class=\"tex2jax_ignore\"><div class=\"entities\" style=\"line-height: 2.5; direction: ltr\">get price for L</div></span>"
      ],
      "text/plain": [
       "<IPython.core.display.HTML object>"
      ]
     },
     "metadata": {},
     "output_type": "display_data"
    }
   ],
   "source": [
    "displacy.render(doc, style= 'ent')"
   ]
  },
  {
   "cell_type": "code",
   "execution_count": 134,
   "metadata": {},
   "outputs": [],
   "source": [
    "tickerdf['companies'] = tickerdf['companies'].str.lower()"
   ]
  },
  {
   "cell_type": "code",
   "execution_count": 135,
   "metadata": {},
   "outputs": [],
   "source": [
    "tickerdf['companies_l'] = tickerdf['companies'].str.split()"
   ]
  },
  {
   "cell_type": "code",
   "execution_count": 136,
   "metadata": {},
   "outputs": [],
   "source": [
    "# tickerdf[pd.DataFrame(tickerdf['companies_l'].tolist()).isin(ent).any(1).values][\"companies\"].str.split().tolist()[0][-1]"
   ]
  },
  {
   "cell_type": "code",
   "execution_count": 137,
   "metadata": {},
   "outputs": [],
   "source": [
    "\n",
    "functionmap = {'dividends':div, \n",
    " 'financials': financial, \n",
    " 'sustainability score': 'ESG score ...', \n",
    " 'news' : 'News:......',\n",
    " 'annual financials': 'Annual statements...', \n",
    " 'quaterly financials': 'Quartely statements...', \n",
    " 'current price': get_latest_updates , \n",
    " 'historical price': get_historic_data , \n",
    "  'income statement': 'Income statements... ', \n",
    " 'balance sheet' : 'Balance sheet.....', \n",
    " 'cash flow' : \"cashflow.....\", \n",
    " 'good stock' : \"top stocks...\", \n",
    " 'analyst ratings': \"analyst ratings..\", \n",
    " 'snap shot': get_latest_updates, \n",
    " 'intraday price': get_intraday_prices, \n",
    " 'peers': \"Peers...\", \n",
    " 'ratios': \"Ratios...\", \n",
    " 'defination': get_info}"
   ]
  },
  {
   "cell_type": "code",
   "execution_count": 138,
   "metadata": {},
   "outputs": [],
   "source": [
    "import random"
   ]
  },
  {
   "cell_type": "code",
   "execution_count": 139,
   "metadata": {},
   "outputs": [],
   "source": [
    "GREETING_INPUTS = (\"hello\", \"hi\", \"greetings\", \"sup\", \"what's up\",\"hey\",)\n",
    "GREETING_RESPONSES = [\"hi\", \"hey\", \"*nods*\", \"hi there\", \"hello\", \"I am glad! You are talking to me\"]\n",
    "def greeting(sentence):\n",
    " \n",
    "    for word in sentence.split():\n",
    "        if word.lower() in GREETING_INPUTS:\n",
    "            return random.choice(GREETING_RESPONSES)"
   ]
  },
  {
   "cell_type": "code",
   "execution_count": 140,
   "metadata": {},
   "outputs": [],
   "source": [
    "new_greeting = ([\"how can i help you next\", \"anthing else i can help you with\", \"is there anything i can help you with\"])\n",
    "\n",
    "def greetingnew():\n",
    "    return random.choice(new_greeting)"
   ]
  },
  {
   "cell_type": "code",
   "execution_count": 141,
   "metadata": {},
   "outputs": [
    {
     "data": {
      "text/plain": [
       "'historical price'"
      ]
     },
     "execution_count": 141,
     "metadata": {},
     "output_type": "execute_result"
    }
   ],
   "source": [
    "mapper['intent'][9]"
   ]
  },
  {
   "cell_type": "code",
   "execution_count": 142,
   "metadata": {},
   "outputs": [],
   "source": [
    "def response(user_response):\n",
    "    prob = model.predict([user_response])\n",
    "    idx = np.argmax(prob)\n",
    "    #idx = np.sort(idx)[::-1]\n",
    "    \n",
    "    \n",
    "    doc = nlp(user_response)\n",
    "    #print(doc.ents)\n",
    "    try:\n",
    "        intent = mapper['intent'][idx]\n",
    "        print (intent)\n",
    "        if intent == 'defination':\n",
    "            #print (intent)\n",
    "            info =  functionmap[intent](user_response)\n",
    "            return info\n",
    "        if len(doc.ents) == 0:\n",
    "            return \"cannot find what you are looking for please try again\"\n",
    "        \n",
    "        for i in doc.ents:\n",
    "            #print(i)\n",
    "            i = str(i)\n",
    "\n",
    "\n",
    "\n",
    "            try:\n",
    "\n",
    "                ticker = tickerdf.loc[tickerdf['companies'].str.contains(i, regex= False)]['companies'].str.split(\" \").tolist()[0][-1]\n",
    "\n",
    "                #print(ticker)\n",
    "\n",
    "                #print(intent)\n",
    "\n",
    "                if type(functionmap[intent])!= str:\n",
    "                    #print(type(functionmap[intent]))\n",
    "                    valf = (functionmap[intent](ticker))\n",
    "                    if valf:\n",
    "                        return valf\n",
    "                else:\n",
    "                    valp = functionmap[intent]\n",
    "                    if valp:\n",
    "                        return valp\n",
    "            except:\n",
    "                return \"cannot find what you are looking for please try again\"\n",
    "    except:\n",
    "        pass\n",
    "\n",
    "   \n",
    "    #return greetingnew()\n",
    "    \n",
    "         "
   ]
  },
  {
   "cell_type": "code",
   "execution_count": 143,
   "metadata": {},
   "outputs": [],
   "source": [
    " def chatbot():   \n",
    "    flag=True\n",
    "    print(\"Finbot:Hi I am Finbot and how can i help you. Type bye to exit\")\n",
    "    while(flag==True):\n",
    "        user_response = input()\n",
    "        user_response=user_response.lower()\n",
    "        if(user_response!='bye'):\n",
    "            if(user_response=='thanks' or user_response=='thank you' ):\n",
    "                flag=False\n",
    "                print(\"Finbot: You are welcome..\")\n",
    "            else:\n",
    "                if(greeting(user_response)!=None):\n",
    "                    print(\"Finbot: \"+greeting(user_response))\n",
    "                else:\n",
    "                    print(\"Finbot: \",end=\"\")\n",
    "                    print(response(user_response))\n",
    "                    print(greetingnew())\n",
    "                    #clean_tokens.remove(user_response)\n",
    "        else:\n",
    "            flag=False\n",
    "            print(\"Finbot: Bye! take care..\")"
   ]
  },
  {
   "cell_type": "code",
   "execution_count": 144,
   "metadata": {},
   "outputs": [
    {
     "name": "stdout",
     "output_type": "stream",
     "text": [
      "Finbot:Hi I am Finbot and how can i help you. Type bye to exit\n",
      "bye\n",
      "Finbot: Bye! take care..\n"
     ]
    }
   ],
   "source": [
    "chatbot()"
   ]
  },
  {
   "cell_type": "code",
   "execution_count": null,
   "metadata": {},
   "outputs": [],
   "source": []
  },
  {
   "cell_type": "code",
   "execution_count": 145,
   "metadata": {},
   "outputs": [],
   "source": [
    "from iexfinance.stocks import Stock"
   ]
  },
  {
   "cell_type": "code",
   "execution_count": 146,
   "metadata": {},
   "outputs": [],
   "source": [
    "#aapl = Stock(\"AAPL\",token =token)"
   ]
  },
  {
   "cell_type": "code",
   "execution_count": 147,
   "metadata": {},
   "outputs": [],
   "source": [
    "token = 'Tpk_5e6dda7bfc4847b5806b1c7155acfcd6'"
   ]
  },
  {
   "cell_type": "code",
   "execution_count": 148,
   "metadata": {},
   "outputs": [],
   "source": [
    "import requests\n",
    "# Requests"
   ]
  },
  {
   "cell_type": "code",
   "execution_count": 149,
   "metadata": {},
   "outputs": [],
   "source": [
    "import pandas as pd\n",
    "import requests\n",
    "from termcolor import colored as cl\n",
    "import matplotlib.pyplot as plt\n",
    "\n",
    "plt.style.use('seaborn-whitegrid')\n",
    "plt.rcParams['figure.figsize'] = (10,7)"
   ]
  },
  {
   "cell_type": "code",
   "execution_count": 150,
   "metadata": {},
   "outputs": [],
   "source": [
    "def get_latest_updates(*ticker):\n",
    "    for i in ticker:\n",
    "        if i:\n",
    "            ticker = i\n",
    "            iex_api_key = 'pk_32ef64b2003542b6a829b8f94831c789'\n",
    "            api_url = f'https://cloud.iexapis.com/stable/stock/{ticker}/quote?token={iex_api_key}'\n",
    "            df = requests.get(api_url).json()\n",
    "            print(cl('Latest Updates of {}\\n--------------'.format(ticker), attrs = ['bold']))\n",
    "            attributes = ['symbol', \n",
    "                          'latestPrice', \n",
    "                          'marketCap', \n",
    "                          'peRatio']\n",
    "            for i in attributes:\n",
    "                print(cl('{} :'.format(i), attrs = ['bold']), '{}'.format(df[i]))    \n",
    "            print(cl('--------------\\n', attrs = ['bold']))\n",
    "\n",
    "#get_latest_updates('FB', 'AAPL', 'AMZN', 'NFLX', 'GOOGL')"
   ]
  },
  {
   "cell_type": "code",
   "execution_count": 151,
   "metadata": {},
   "outputs": [],
   "source": [
    "def get_historic_data(ticker):\n",
    "    ticker = ticker\n",
    "    iex_api_key = 'Tsk_30a2677082d54c7b8697675d84baf94b'\n",
    "    api_url = f'https://sandbox.iexapis.com/stable/stock/{ticker}/chart/max?token={iex_api_key}'\n",
    "    df = requests.get(api_url).json()\n",
    "    \n",
    "    date = []\n",
    "    open = []\n",
    "    high = []\n",
    "    low = []\n",
    "    close = []\n",
    "    \n",
    "    for i in range(len(df)):\n",
    "        date.append(df[i]['date'])\n",
    "        open.append(df[i]['open'])\n",
    "        high.append(df[i]['high'])\n",
    "        low.append(df[i]['low'])\n",
    "        close.append(df[i]['close'])\n",
    "    \n",
    "    date_df = pd.DataFrame(date).rename(columns = {0:'date'})\n",
    "    open_df = pd.DataFrame(open).rename(columns = {0:'open'})\n",
    "    high_df = pd.DataFrame(high).rename(columns = {0:'high'})\n",
    "    low_df = pd.DataFrame(low).rename(columns = {0:'low'})\n",
    "    close_df = pd.DataFrame(close).rename(columns = {0:'close'})\n",
    "    \n",
    "    frames = [date_df, open_df, high_df, low_df, close_df]\n",
    "    df = pd.concat(frames, axis = 1, join = 'inner')\n",
    "    df = df.set_index('date')\n",
    "    \n",
    "    df['open'].plot()\n",
    "    plt.title('{} Historical Prices'.format(ticker), fontsize = 10)\n",
    "    plt.xlabel('Date', fontsize = 10)\n",
    "    plt.ylabel('Stock Price', fontsize = 10)\n",
    "    plt.xticks(fontsize = 10)\n",
    "    plt.yticks(fontsize = 10)\n",
    "    plt.show()\n",
    "    \n",
    "    return df\n",
    "\n",
    "#get_historic_data('AAPL')"
   ]
  },
  {
   "cell_type": "code",
   "execution_count": 152,
   "metadata": {},
   "outputs": [],
   "source": [
    "def get_intraday_prices(ticker):\n",
    "    ticker = ticker\n",
    "    iex_api_key = 'pk_32ef64b2003542b6a829b8f94831c789'\n",
    "    url = f'https://cloud.iexapis.com/stable/stock/{ticker}/intraday-prices?token={iex_api_key}'\n",
    "    df = requests.get(url).json()\n",
    "    date = df[1]['date']\n",
    "        \n",
    "    time = []\n",
    "    open = []\n",
    "    high = []\n",
    "    low = []\n",
    "    close = []\n",
    "    volume = []\n",
    "    number_of_trades = []\n",
    "    \n",
    "    for i in range(len(df)):\n",
    "        time.append(df[i]['label'])\n",
    "        open.append(df[i]['open'])\n",
    "        high.append(df[i]['high'])\n",
    "        low.append(df[i]['low'])\n",
    "        close.append(df[i]['close'])\n",
    "        volume.append(df[i]['volume'])\n",
    "        number_of_trades.append(df[i]['numberOfTrades'])\n",
    "        \n",
    "    time_df = pd.DataFrame(time).rename(columns = {0:'Time'})\n",
    "    open_df = pd.DataFrame(open).rename(columns = {0:'Open'})\n",
    "    high_df = pd.DataFrame(high).rename(columns = {0:'High'})\n",
    "    low_df = pd.DataFrame(low).rename(columns = {0:'Low'})\n",
    "    close_df = pd.DataFrame(close).rename(columns = {0:'Close'})\n",
    "    volume_df = pd.DataFrame(volume).rename(columns = {0:'Volume'})\n",
    "    number_of_trades_df = pd.DataFrame(number_of_trades).rename(columns = {0:'Number of Trades'})\n",
    "     \n",
    "    frames = [time_df, open_df, high_df, low_df, close_df, volume_df, number_of_trades_df]\n",
    "    df = pd.concat(frames, axis = 1, join = 'inner')\n",
    "    df = df.set_index('Time')\n",
    "\n",
    "    df['Open'].plot()\n",
    "    plt.title(f'{ticker} Intraday Prices on {date}', fontsize = 18)\n",
    "    plt.xlabel('Time', fontsize = 14)\n",
    "    plt.ylabel('Stock Price', fontsize = 14)\n",
    "    plt.xticks(fontsize = 12)\n",
    "    plt.yticks(fontsize = 12)\n",
    "    plt.show()\n",
    "    \n",
    "    return df\n",
    "\n",
    "#get_intraday_prices('TSLA')"
   ]
  },
  {
   "cell_type": "code",
   "execution_count": 153,
   "metadata": {},
   "outputs": [],
   "source": [
    "def financial(ticker):\n",
    "    iex_api_key = 'pk_32ef64b2003542b6a829b8f94831c789'\n",
    "    url = f'https://cloud.iexapis.com/stable/time-series/REPORTED_FINANCIALS/{ticker}/{input(\"10-k or 10-q\")}?token={iex_api_key}'\n",
    "    df = requests.get(url)\n",
    "    return df.json()[0]"
   ]
  },
  {
   "cell_type": "code",
   "execution_count": 154,
   "metadata": {},
   "outputs": [],
   "source": [
    "def div(ticker):\n",
    "    iex_api_key = 'pk_32ef64b2003542b6a829b8f94831c789'\n",
    "\n",
    "    url = f'https://cloud.iexapis.com/stable/stock/{ticker}/dividends?token={iex_api_key}'\n",
    "    df = requests.get(url)\n",
    "    return df.json()[0]"
   ]
  },
  {
   "cell_type": "code",
   "execution_count": 155,
   "metadata": {},
   "outputs": [],
   "source": [
    "import json"
   ]
  },
  {
   "cell_type": "code",
   "execution_count": 156,
   "metadata": {},
   "outputs": [],
   "source": [
    "iex_api_key = 'pk_32ef64b2003542b6a829b8f94831c789'\n",
    "url = f'https://cloud.iexapis.com/stable/stock/AAPL/dividends?token={iex_api_key}'\n",
    "df = requests.get(url)\n"
   ]
  },
  {
   "cell_type": "code",
   "execution_count": 157,
   "metadata": {},
   "outputs": [
    {
     "data": {
      "text/plain": [
       "{'amount': 0.22,\n",
       " 'currency': 'USD',\n",
       " 'declaredDate': '2022-01-27',\n",
       " 'description': 'Ordinary Shares',\n",
       " 'exDate': '2022-02-04',\n",
       " 'flag': 'Cash',\n",
       " 'frequency': 'quarterly',\n",
       " 'paymentDate': '2022-02-10',\n",
       " 'recordDate': '2022-02-07',\n",
       " 'refid': 2430900,\n",
       " 'symbol': 'AAPL',\n",
       " 'id': 'DIVIDENDS',\n",
       " 'key': 'AAPL',\n",
       " 'subkey': '2430900',\n",
       " 'date': 1643932800000,\n",
       " 'updated': 1647175381810.59}"
      ]
     },
     "execution_count": 157,
     "metadata": {},
     "output_type": "execute_result"
    }
   ],
   "source": [
    "df.json()[0]\n"
   ]
  },
  {
   "cell_type": "code",
   "execution_count": 158,
   "metadata": {
    "id": "if0seQLhZWKS"
   },
   "outputs": [],
   "source": [
    "import nltk\n",
    "import numpy as np\n",
    "import random\n",
    "import string # to process standard python strings\n",
    "\n",
    "from sklearn.feature_extraction.text import TfidfVectorizer\n",
    "\n",
    "from sklearn.metrics.pairwise import cosine_similarity"
   ]
  },
  {
   "cell_type": "code",
   "execution_count": 159,
   "metadata": {
    "colab": {
     "base_uri": "https://localhost:8080/"
    },
    "id": "gCEYWPjuZjdL",
    "outputId": "555c58f4-039b-481d-acd8-1e8b6f64bed8"
   },
   "outputs": [
    {
     "name": "stderr",
     "output_type": "stream",
     "text": [
      "[nltk_data] Downloading package punkt to\n",
      "[nltk_data]     C:\\Users\\hag8665\\AppData\\Roaming\\nltk_data...\n",
      "[nltk_data]   Package punkt is already up-to-date!\n",
      "[nltk_data] Downloading package wordnet to\n",
      "[nltk_data]     C:\\Users\\hag8665\\AppData\\Roaming\\nltk_data...\n",
      "[nltk_data]   Package wordnet is already up-to-date!\n"
     ]
    },
    {
     "data": {
      "text/plain": [
       "True"
      ]
     },
     "execution_count": 159,
     "metadata": {},
     "output_type": "execute_result"
    }
   ],
   "source": [
    "nltk.download('punkt') # first-time use only\n",
    "nltk.download('wordnet') # first-time use only\n"
   ]
  },
  {
   "cell_type": "code",
   "execution_count": 160,
   "metadata": {
    "id": "SZWp7DysZjg0"
   },
   "outputs": [],
   "source": [
    "f=open(r'C:\\Users\\hag8665\\Desktop\\MSDS 453\\Final project\\corpus.txt','r',errors = 'ignore')\n",
    "raw=f.read()\n",
    "raw=raw.lower()# converts to lowercase\n"
   ]
  },
  {
   "cell_type": "code",
   "execution_count": 161,
   "metadata": {
    "id": "co6nJSSiip_c"
   },
   "outputs": [],
   "source": [
    "from nltk.tokenize import BlanklineTokenizer"
   ]
  },
  {
   "cell_type": "code",
   "execution_count": 162,
   "metadata": {
    "id": "N-0Q0r4RjacD"
   },
   "outputs": [],
   "source": [
    "sent_tokens= BlanklineTokenizer().tokenize(raw)"
   ]
  },
  {
   "cell_type": "code",
   "execution_count": 163,
   "metadata": {
    "id": "FBSrg0ojib6u"
   },
   "outputs": [],
   "source": [
    "import re"
   ]
  },
  {
   "cell_type": "code",
   "execution_count": 164,
   "metadata": {
    "id": "Dm_l2OaliMcy"
   },
   "outputs": [],
   "source": [
    "def clean_text(tweet):\n",
    "        return ' '.join(re.sub(\"(@[A-Za-z0-9]+)|([^0-9A-Za-z \\t])|(\\w+:\\/\\/\\S+)\", \" \", tweet).split())"
   ]
  },
  {
   "cell_type": "code",
   "execution_count": 165,
   "metadata": {
    "id": "nH6z3m6FiRpn"
   },
   "outputs": [],
   "source": [
    "clean_token=[]\n",
    "for i in sent_tokens:\n",
    "  clean_token.append(clean_text(i))"
   ]
  },
  {
   "cell_type": "code",
   "execution_count": null,
   "metadata": {
    "id": "6zAGo2Rni2cw"
   },
   "outputs": [],
   "source": []
  },
  {
   "cell_type": "code",
   "execution_count": 166,
   "metadata": {
    "id": "kbuRBZ7ebuKV"
   },
   "outputs": [],
   "source": [
    "remove_punct_dict = dict((ord(punct), None) for punct in string.punctuation)"
   ]
  },
  {
   "cell_type": "code",
   "execution_count": 167,
   "metadata": {
    "id": "qEsTZ8KgeS3_"
   },
   "outputs": [],
   "source": [
    "def LemNormalize(text):\n",
    "    return nltk.word_tokenize(text.lower().translate(remove_punct_dict))"
   ]
  },
  {
   "cell_type": "code",
   "execution_count": 168,
   "metadata": {
    "id": "rzWD9_iYZ5EK"
   },
   "outputs": [],
   "source": [
    "GREETING_INPUTS = (\"hello\", \"hi\", \"greetings\", \"sup\", \"what's up\",\"hey\",)\n",
    "GREETING_RESPONSES = [\"hi\", \"hey\", \"*nods*\", \"hi there\", \"hello\", \"I am glad! You are talking to me\"]\n",
    "def greeting(sentence):\n",
    " \n",
    "    for word in sentence.split():\n",
    "        if word.lower() in GREETING_INPUTS:\n",
    "            return random.choice(GREETING_RESPONSES)"
   ]
  },
  {
   "cell_type": "code",
   "execution_count": 169,
   "metadata": {
    "id": "NF6VJe32Z5Jf"
   },
   "outputs": [],
   "source": [
    "def get_info(user_response):\n",
    "    robo_response=''\n",
    "    clean_token.append(user_response)\n",
    "    TfidfVec = TfidfVectorizer(tokenizer=LemNormalize, stop_words='english')\n",
    "    tfidf = TfidfVec.fit_transform(clean_token)\n",
    "    vals = cosine_similarity(tfidf[-1], tfidf)\n",
    "    idx=vals.argsort()[0][-2]\n",
    "    flat = vals.flatten()\n",
    "    flat.sort()\n",
    "    req_tfidf = flat[-2]\n",
    "    if(req_tfidf==0):\n",
    "        robo_response=robo_response+\"I am sorry! I don't understand you\"\n",
    "        return robo_response\n",
    "    else:\n",
    "        robo_response = robo_response+clean_token[idx]\n",
    "        # answer = nlp({\n",
    "        #               'question': f'{user_response}',\n",
    "        #               'context': robo_response\n",
    "        #           })\n",
    "        clean_token.remove(user_response)\n",
    "        return  robo_response  #answer['answer'] "
   ]
  },
  {
   "cell_type": "code",
   "execution_count": 170,
   "metadata": {
    "colab": {
     "base_uri": "https://localhost:8080/"
    },
    "id": "BXf54VGjaOkG",
    "outputId": "9f24c659-5cd7-44b8-ce1b-f92a8d3fe183"
   },
   "outputs": [],
   "source": [
    "# flag=True\n",
    "# print(\"ROBO: My name is Robo. I will answer your queries about Chatbots. If you want to exit, type Bye!\")\n",
    "# while(flag==True):\n",
    "#     user_response = input()\n",
    "#     user_response=user_response.lower()\n",
    "#     if(user_response!='bye'):\n",
    "#         if(user_response=='thanks' or user_response=='thank you' ):\n",
    "#             flag=False\n",
    "#             print(\"ROBO: You are welcome..\")\n",
    "#         else:\n",
    "#             if(greeting(user_response)!=None):\n",
    "#                 print(\"ROBO: \"+greeting(user_response))\n",
    "#             else:\n",
    "          \n",
    "#                 print(\"ROBO: \",end=\"\")\n",
    "#                 print(response(user_response))\n",
    "#                 clean_token.remove(user_response)\n",
    "#     else:\n",
    "#         flag=False\n",
    "#         print(\"ROBO: Bye! take care..\")"
   ]
  },
  {
   "cell_type": "code",
   "execution_count": null,
   "metadata": {
    "id": "etNLGgXZliUW"
   },
   "outputs": [],
   "source": []
  },
  {
   "cell_type": "code",
   "execution_count": 171,
   "metadata": {},
   "outputs": [
    {
     "data": {
      "text/plain": [
       "165"
      ]
     },
     "execution_count": 171,
     "metadata": {},
     "output_type": "execute_result"
    }
   ],
   "source": [
    "len(clean_token)"
   ]
  },
  {
   "cell_type": "code",
   "execution_count": 172,
   "metadata": {},
   "outputs": [
    {
     "data": {
      "text/plain": [
       "['active management the trading of securities to take advantage of market opportunities as they occur in contrast to passive management active managers rely on research market forecasts and their own judgment and experience in selecting securities to buy and sell',\n",
       " 'aggressive an investment approach that accepts above average risk of loss in return for potentially above average investment returns',\n",
       " 'aggressive growth fund an investment fund that takes higher risk of loss in return for potentially higher returns or gains',\n",
       " 'amex major market index xmi an index that is an average of 20 blue chip industrial stocks',\n",
       " 'annual report a yearly report or record of an investment s e g a mutual fund s or company s financial position and operations',\n",
       " 'annual rate of return the annual rate of gain or loss on an investment expressed as a percentage',\n",
       " 'appreciation an increase in the value of an investment',\n",
       " 'asset anything with commercial or exchange value owned by a business institution or individual examples include cash real estate and investments',\n",
       " 'asset allocation a method of investing by which investors include a range of different investment classes such as stocks bonds and cash alternatives or equivalents in their portfolios see diversification',\n",
       " 'asset class a group of securities or investments that have similar characteristics and behave similarly in the marketplace three common asset classes are equities e g stocks fixed income e g bonds and cash alternatives or equivalents e g money market funds',\n",
       " 'average annual total return the yearly average percentage increase or decrease in an investment s value that includes dividends gains and changes in share price',\n",
       " 'back end load a fee imposed by some funds when shares are redeemed sold back to the fund during the first few years of ownership also called a contingent deferred sales charge balanced fund a fund with an investment objective of both long term growth and income through investment in both stocks and bonds',\n",
       " 'barclay s capital u s aggregate bond index a common index widely used to measure performance of u s bond funds',\n",
       " 'basis point one hundredth of one percent or 0 01 for example 20 basis points equal 0 20 investment expenses interest rates and yield differences among bonds are often expressed in basis points benchmark an unmanaged group of securities whose performance is used as a standard to measure investment performance some well known benchmarks are the dow jones industrial average and the s p 500 index',\n",
       " 'bond a debt security which represents the borrowing of money by a corporation government or other entity the borrowing institution repays the amount of the loan plus a percentage as interest income funds generally invest in bonds',\n",
       " 'bond fund a fund that invests primarily in bonds and other debt instruments',\n",
       " 'bond rating a rating or grade that is intended to indicate the credit quality of a bond considering the financial strength of its issuer and the likelihood that it will repay the debt agencies such as standard poor s moody s investors service and fitch issue ratings for different bonds ranging from aaa highly unlikely to default to d in default',\n",
       " 'broker a person who acts as an intermediary between the buyer and seller of a security insurance product or mutual fund often paid by commission the terms broker broker dealer and dealer are sometimes used interchangeably',\n",
       " 'brokerage window a plan feature that permits participants to purchase investments that are not included among the plan s general menu of designated investment alternatives',\n",
       " 'capitalization cap the total market value of a company s outstanding equity',\n",
       " 'capital appreciation fund an investment fund that seeks growth in share prices by investing primarily in stocks whose share prices are expected to rise',\n",
       " 'capital gain an increase in the value of an investment calculated by the difference between the net purchase price and the net sale price',\n",
       " 'capital loss the loss in the value of an investment calculated by the difference between the purchase price and the net sale price',\n",
       " 'capital preservation an investment goal or objective to keep the original investment amount the principal from decreasing in value',\n",
       " 'cash alternative or cash equivalent an investment that is short term highly liquid and has high credit quality',\n",
       " 'collective investment fund investments created by a bank or trust company for employee benefit plans such as 401 k plans that pool the assets of retirement plans for investment purposes they are governed by rules and regulations that apply to banks and trust companies instead of being registered with the sec these funds are also referred to as collective or commingled trusts',\n",
       " 'commission compensation paid to a broker or other salesperson for his or her role when investments are bought or sold',\n",
       " 'common stock an investment that represents a share of ownership in a corporation',\n",
       " 'company stock fund a fund that invests primarily in employer securities that may also maintain a cash position for liquidity purposes',\n",
       " 'competing funds an investment fund that is identified by the investment manager of another fund and which is subject to special rules relating to an investor s ability to buy and sell investments between the two funds see equity wash restriction',\n",
       " 'compounding the cumulative effect that reinvesting an investment s earnings can have by generating additional earnings of their own',\n",
       " 'conservative an investment approach that accepts lower rewards in return for potentially lower risks',\n",
       " 'contingent deferred sales charge cdsc a fee imposed when shares of a mutual fund or a variable annuity contract are redeemed sold during the first few years of ownership also called a back end load',\n",
       " 'corporate bond a bond issued by a corporation rather than by a government the credit risk for a corporate bond is based on the re payment ability of the company that issued the bond',\n",
       " 'credit risk the risk that a bond issuer will default meaning not repay principal or interest to the investor as promised credit risk is also known as default risk',\n",
       " 'current yield the current rate of return of an investment calculated by dividing its expected income payments by its current market price',\n",
       " 'custodian a person or entity e g bank trust company or other organization responsible for holding financial assets',\n",
       " 'deflation the opposite of inflation a decline in the prices of goods and services',\n",
       " 'depreciation a decrease in the value of an investment',\n",
       " 'designated investment alternative the investment options picked by your plan into which participants can direct the investment of their plan accounts',\n",
       " 'diversification the practice of investing in multiple asset classes and securities with different risk characteristics to reduce the risk of owning any single investment',\n",
       " 'dividend money an investment fund or company pays to its stockholders typically from profits the amount is usually expressed on a per share basis',\n",
       " 'dow jones industrial average dow or djia a widely followed price weighted index of 30 of the largest most widely held u s stocks',\n",
       " 'emerging market generally economies that are in the process of growth and industrialization such as in africa asia eastern europe the far east latin america and the middle east which while relatively undeveloped may hold significant growth potential in the future investing in these economies may provide significant rewards and significant risks may also be called developing markets',\n",
       " 'emerging market fund a fund that invests primarily in emerging market countries',\n",
       " 'employer securities securities issued by an employer of employees covered by a retirement plan that may be used as a plan investment option',\n",
       " 'equity equities a security or investment representing ownership in a corporation unlike a bond which represents a loan to a borrower often used interchangeably with stock',\n",
       " 'equity fund a fund that invests primarily in equities',\n",
       " 'equity wash restriction a provision in certain stable value or fixed income products under which transfers made from the stable value or fixed income product are required to be directed to an equity fund or other non competing investment option of the plan for a stated period of time usually 90 days before those funds may be invested in any other plan provided competing fixed income fund such as a money market fund',\n",
       " 'exchange traded fund etf an investment company such as a mutual fund whose shares are traded throughout the day on stock exchanges at market determined prices',\n",
       " 'expense ratio a measure of what it costs to operate an investment expressed as a percentage of its assets or in basis points these are costs the investor pays through a reduction in the investment s rate of return see operating expenses and total annual operating expenses',\n",
       " 'federal deposit insurance corporation fdic a federal agency that insures money on deposit in member banks and thrift institutions',\n",
       " 'financial industry regulatory authority finra a self regulatory organization for brokerage firms doing business in the united states finra operates under the supervision of the sec the organization s objectives are to protect investors and ensure market integrity',\n",
       " 'financial statements the written record of the financial status of a fund or company usually published in the annual report the financial statements generally include a balance sheet income statement and other financial statements and disclosures',\n",
       " 'fixed income fund a fund that invests primarily in bonds and other fixed income securities often to provide shareholders with current income',\n",
       " 'fixed return investment an investment that provides a specific rate of return to the investor',\n",
       " 'front end load a sales charge on mutual funds or annuities assessed at the time of purchase to cover selling costs',\n",
       " 'fund family a group or complex of mutual funds each typically with its own investment objective and managed and distributed by the same company a fund family also could refer to a group of collective investment funds or a group of separate accounts managed and distributed by the same company',\n",
       " 'fund of funds a mutual fund collective investment fund or other pooled investment that invests primarily in other mutual funds collective investment funds or pooled investments rather than investing directly in individual securities such as stocks bonds or money market securities',\n",
       " 'glide path the change over time in a target date fund s asset allocation mix to shift from a focus on growth to a focus on income',\n",
       " 'global fund a fund that invests primarily in securities anywhere in the world including the united states',\n",
       " 'government securities any debt obligation issued by a government or its agencies e g treasury bills issued by the united states',\n",
       " 'growth fund a fund that invests primarily in the stocks of companies with above average risk in return for potentially above average gains these companies often pay small or no dividends and their stock prices tend to have the most ups and downs from day to day',\n",
       " 'growth and income fund a fund that has a dual strategy of growth or capital appreciation and current income generation through dividends or interest payments',\n",
       " 'inception date the date that a fund began operations',\n",
       " 'income fund a fund that primarily seeks current income rather than capital appreciation',\n",
       " 'index a benchmark against which to evaluate a fund s performance the most common indexes for stock funds are the dow jones industrial average and the standard poor s 500 index',\n",
       " 'index fund an investment fund that seeks to parallel the performance of a particular stock market or bond market index index funds are often referred to as passively managed investments',\n",
       " 'inflation the overall general upward price movement of goods and services in an economy inflation is one of the major risks to investors over the long term because it erodes the purchasing power of their savings',\n",
       " 'interest interest rate the fee charged by a lender to a borrower usually expressed as an annual percentage of the principal for example someone investing in bonds will receive interest payments from the bond s issuer',\n",
       " 'interest rate risk the possibility that a bond s or bond fund s market value will decrease due to rising interest rates when interest rates and bond yields go up bond prices usually go down and vice versa',\n",
       " 'international fund a fund that invests primarily in the securities of companies located or with revenues derived from outside of the united states',\n",
       " 'investment adviser a person or organization hired by an investment fund or an individual to give professional advice on investments and asset management practices',\n",
       " 'investment company a corporation or trust that invests pooled shareholder dollars in securities appropriate to the organization s objective the most common type of investment company commonly called a mutual fund stands ready to buy back its shares at their current net asset value',\n",
       " 'investment objective the goal that an investment fund or investor seeks to achieve e g growth or income',\n",
       " 'investment return the gain or loss on an investment over a certain period expressed as a percentage income and capital gains or losses are included in calculating the investment return',\n",
       " 'investment risk the possibility of losing some or all of the amounts invested or not gaining value in an investment',\n",
       " 'large capitalization cap a reference to either a large company stock or an investment fund that invests in the stocks of large companies',\n",
       " 'large cap fund a fund that invests primarily in large cap stocks',\n",
       " 'large cap stocks stocks of companies with a large market capitalization large caps tend to be well established companies so their stocks typically entail less risk than smaller caps but large caps also offer less potential for dramatic growth',\n",
       " 'lifecycle fund a fund designed to provide varying degrees of long term appreciation and capital preservation based on an investor s age or target retirement date through a mix of asset classes the mix changes over time to become less focused on growth and more focused on income also known as target date retirement or age based funds',\n",
       " 'lifestyle fund a fund that maintains a predetermined risk level and generally uses words such as conservative moderate or aggressive in its name to indicate the fund s risk level used interchangeably with target risk fund',\n",
       " 'lipper a leading mutual fund research and tracking firm lipper categorizes funds by objective and size and then ranks fund performance within those categories',\n",
       " 'liquidity the ease with which an investment can be converted into cash if a security is very liquid it can be bought or sold easily if a security is not liquid it may take additional time and or a lower price to sell it',\n",
       " 'load a sales charge assessed on certain investments to cover selling costs a front end load is charged at the time of purchase a back end load is charged at the time of sale or redemption',\n",
       " 'msci eafe index an index known by an acronym for the europe australasia and far east markets produced by morgan stanley capital international msci markets are represented in the index according to their approximate share of world market capitalization the index is a widely used benchmark for managers of international stock fund portfolios',\n",
       " 'msci world index an index of major world stock markets including the united states the index is a widely used benchmark for managers of global stock fund portfolios',\n",
       " 'management fee a fee or charge paid to an investment manager for its services',\n",
       " 'market capitalization or market cap the market value of a company market capitalization can be determined by multiplying the number of outstanding shares of a company s stock by the stock s current market price per share',\n",
       " 'market risk the possibility that the value of an investment will fall because of a general decline in the financial markets',\n",
       " 'maturity date the date on which the principal amount of a loan bond or any other debt becomes due and is to be paid in full',\n",
       " 'mid capitalization cap a reference to either a medium sized company stock or an investment fund that invests in the stocks of medium sized companies',\n",
       " 'mid cap fund a fund that invests primarily in mid cap stocks',\n",
       " 'mid cap stocks stocks of companies with a medium market capitalization mid caps are often considered to offer more growth potential than larger caps but less than small caps and less risk than small caps but more than large caps',\n",
       " 'money market fund a mutual fund that invests in short term high grade fixed income securities and seeks the highest level of income consistent with preservation of capital i e maintaining a stable share price',\n",
       " 'morningstar a leading mutual fund research and tracking firm morningstar categorizes funds by objective and size and then ranks fund performance within those categories',\n",
       " 'mutual fund an investment company registered with the sec that buys a portfolio of securities selected by a professional investment adviser to meet a specified financial goal investment objective mutual funds can have actively managed portfolios where a professional investment adviser creates a unique mix of investments to meet a particular investment objective or passively managed portfolios in which the adviser seeks to parallel the performance of a selected benchmark or index',\n",
       " 'nasdaq the national association of securities dealers automated quotation also called the electronic stock market the nasdaq composite index measures the performance of more than 5 000 u s and non u s companies traded over the counter through nasdaq',\n",
       " 'net asset value nav the net dollar value of a single investment fund share or unit that is calculated by the fund on a daily basis',\n",
       " 'new york stock exchange nyse the oldest and largest stock exchange in the united states founded in 1792',\n",
       " 'no load fund a mutual fund whose shares are sold without a sales commission and which does not charge a combined 12b 1 fee and service fee of more than 25 basis points or 0 25 per year',\n",
       " 'operating expenses the expenses associated with running or operating an investment fund operating expenses may include custody fees management fees and transfer agent fees see expense ratio and total annual operating expenses',\n",
       " 'passive management the process or approach to operating or managing a fund in a passive or non active manner typically with the goal of mirroring an index these funds are often referred to as index funds and differ from investment funds that are actively managed portfolio a collection of investments such as stocks and bonds that are owned by an individual organization or investment fund',\n",
       " 'portfolio manager the individual team or firm who makes the investment decisions for an investment fund including the selection of the individual investments',\n",
       " 'portfolio turnover rate a measure of how frequently investments are bought and sold within an investment fund during a year the portfolio turnover rate is usually expressed as a percentage of the total value of an investment fund',\n",
       " 'principal the original dollar amount of an investment principal may also be used to refer to the face value or original amount of a bond',\n",
       " 'prospectus the official document that describes certain investments such as mutual funds to prospective investors the prospectus contains information required by the sec such as investment objectives and policies risks services and fees',\n",
       " 'rate of return the gain or loss on an investment over a period of time the rate of return is typically reported on an annual basis and expressed as a percentage',\n",
       " 'real rate of return the rate of return on an investment adjusted for inflation',\n",
       " 'rebalance the process of moving money from one type of investment to another to maintain a desired asset allocation',\n",
       " 'redemption to sell fund shares back to the fund redemption can also be used to mean the repayment of a bond on or before the agreed upon pay off date',\n",
       " 'redemption fee a fee generally charged by a mutual fund to discourage certain trading practices by investors such as short term or excessive trading if a redemption fee is charged it is done when the investment is redeemed or sold',\n",
       " 'return the gain or loss on an investment a positive return indicates a gain and a negative return indicates a loss',\n",
       " 'risk the potential for investors to lose some or all the amounts invested or to fail to achieve their investment objectives',\n",
       " 'risk tolerance an investor s ability and willingness to lose some or all of an investment in exchange for greater potential returns',\n",
       " 'round trip restriction a policy that limits the number of times an investor can exchange into and out of a fund within a given time frame this is intended to discourage frequent trading that increases the costs to all the fund s investors',\n",
       " 'russell indexes a group of indexes that are widely used to benchmark investment performance the most common russell index is the russell 2000 index an index of u s smallcap stocks which measures the performance of the 2 000 smallest u s companies in the russell 3000 index',\n",
       " 'sales charge a charge for buying an investment',\n",
       " 'sector fund a fund that invests in a particular or specialized segment of the marketplace such as stocks of companies in the software healthcare or real estate industries',\n",
       " 'securities and exchange commission sec government agency created by congress in 1934 to regulate the securities industry and to help protect investors the sec is responsible for ensuring that the securities markets operate fairly and honestly',\n",
       " 'security a general term for stocks bonds mutual funds and other investments',\n",
       " 'separate account an insurance company account that is segregated or separate from the insurance company s general assets also refers to a fund managed by an investment adviser for a single plan',\n",
       " 'share a representation of ownership in a company or investment fund',\n",
       " 'share class some investment funds and companies offer more than one type or group of shares each of which is considered a class e g class a advisor or institutional shares for most investment funds each class has different fees and expenses but all of the classes invest in the same pool of securities and share the same investment objectives',\n",
       " 'shareholder an owner of shares in an investment fund or corporation',\n",
       " 'shareholder type fees any fee charged against your investment for purchase and sale other than the total annual operating expenses',\n",
       " 'small capitalization cap a reference to either a small company stock or an investment fund that invests in the stocks of small companies',\n",
       " 'small cap fund a fund that invests primarily in small cap stocks',\n",
       " 'small cap stocks stocks of companies with a smaller market capitalization small caps are often considered to offer more growth potential than large caps and mid caps but with more risk',\n",
       " 'stable value fund an investment fund that seeks to preserve principal provide consistent returns and liquidity stable value funds include collective investment funds sponsored by banks or trust companies or contracts issued by insurance companies',\n",
       " 'standard poor s 500 stock index s p 500 an index comprised of 500 widely held common stocks considered to be representative of the u s stock market in general the s p 500 is often used as a benchmark for equity fund performance',\n",
       " 'stock a security that represents an ownership interest in a corporation',\n",
       " 'stock fund a fund that invests primarily in stocks',\n",
       " 'stock symbol an abbreviation using letters and numbers assigned to securities to identify them also see ticker symbol',\n",
       " 'summary prospectus a short form prospectus that mutual funds generally may use with investors if they make the long form prospectus and additional information available online or on paper upon request',\n",
       " 'target date fund a fund designed to provide varying degrees of long term appreciation and capital preservation based on an investor s age or target retirement date through a mix of asset classes the mix changes over time to become less focused on growth and more focused on income also known as a lifecycle fund',\n",
       " 'target risk fund a fund that maintains a predetermined asset mix and generally uses words such as conservative moderate or aggressive in its name to indicate the fund s risk level often used interchangeably with lifestyle fund',\n",
       " 'ticker symbol an abbreviation using letters and numbers assigned to securities and indexes to identify them also see stock symbol',\n",
       " 'time horizon the amount of time that an investor expects to hold an investment before taking money out',\n",
       " 'total annual operating expenses a measure of what it costs to operate an investment expressed as a percentage of its assets as a dollar amount or in basis points these are costs the investor pays through a reduction in the investment s rate of return see expense ratio and operating expenses',\n",
       " 'gross profit rate gross profit net sales evaluates how much gross profit is generated from sales gross profit is equal to net sales sales minus sales returns discounts and allowances minus cost of sales',\n",
       " 'return on sales net income net sales also known as net profit margin or net profit rate it measures the percentage of income derived from dollar sales generally the higher the ros the better',\n",
       " 'return on assets net income average total assets in financial analysis it is the measure of the return on investment roa is used in evaluating management s efficiency in using assets to generate income',\n",
       " 'return on stockholders equity net income average stockholders equity measures the percentage of income derived for every dollar of owners equity',\n",
       " 'current ratio current assets current liabilities evaluates the ability of a company to pay short term obligations using current assets cash marketable securities current receivables inventory and prepayments',\n",
       " 'acid test ratio quick assets current liabilities also known as quick ratio it measures the ability of a company to pay short term obligations using the more liquid types of current assets or quick assets cash marketable securities and current receivables',\n",
       " 'cash ratio cash marketable securities current liabilities measures the ability of a company to pay its current liabilities using cash and marketable securities marketable securities are short term debt instruments that are as good as cash',\n",
       " 'net working capital current assets current liabilities determines if a company can meet its current obligations with its current assets and how much excess or deficiency there is receivable turnover net credit sales average accounts receivable measures the efficiency of extending credit and collecting the same it indicates the average number of times in a year a company collects its open accounts a high ratio implies efficient credit and collection process',\n",
       " 'days sales outstanding 360 days receivable turnover also known as receivable turnover in days collection period it measures the average number of days it takes a company to collect a receivable the shorter the dso the better take note that some use 365 days instead of 360',\n",
       " 'inventory turnover cost of sales average inventory represents the number of times inventory is sold and replaced take note that some authors use sales in lieu of cost of sales in the above formula a high ratio indicates that the company is efficient in managing its inventories',\n",
       " 'days inventory outstanding 360 days inventory turnover also known as inventory turnover in days it represents the number of days inventory sits in the warehouse in other words it measures the number of days from purchase of inventory to the sale of the same like dso the shorter the dio the better',\n",
       " 'accounts payable turnover net credit purchases ave accounts payable represents the number of times a company pays its accounts payable during a period a low ratio is favored because it is better to delay payments as much as possible so that the money can be used for more productive purposes',\n",
       " 'days payable outstanding 360 days accounts payable turnover also known as accounts payable turnover in days payment period it measures the average number of days spent before paying obligations to suppliers unlike dso and dio the longer the dpo the better as explained above',\n",
       " 'operating cycle days inventory outstanding days sales outstanding measures the number of days a company makes 1 complete operating cycle i e purchase merchandise sell them and collect the amount due a shorter operating cycle means that the company generates sales and collects cash faster',\n",
       " 'cash conversion cycle operating cycle days payable outstanding ccc measures how fast a company converts cash into more cash it represents the number of days a company pays for purchases sells them and collects the amount due generally like operating cycle the shorter the ccc the better',\n",
       " 'total asset turnover net sales average total assets measures overall efficiency of a company in generating sales using its assets the formula is similar to roa except that net sales is used instead of net income',\n",
       " 'debt ratio total liabilities total assets measures the portion of company assets that is financed by debt obligations to third parties debt ratio can also be computed using the formula 1 minus equity ratio',\n",
       " 'equity ratio total equity total assets determines the portion of total assets provided by equity i e owners contributions and the company s accumulated profits equity ratio can also be computed using the formula 1 minus debt ratio the reciprocal of equity ratio is known as equity multiplier which is equal to total assets divided by total equity',\n",
       " 'debt equity ratio total liabilities total equity evaluates the capital structure of a company a d e ratio of more than 1 implies that the company is a leveraged firm less than 1 implies that it is a conservative one',\n",
       " 'times interest earned ebit interest expense measures the number of times interest expense is converted to income and if the company can pay its interest expense using the profits generated ebit is earnings before interest and taxes',\n",
       " 'earnings per share net income preferred dividends average common shares outstanding eps shows the rate of earnings per share of common stock preferred dividends is deducted from net income to get the earnings available to common stockholders',\n",
       " 'price earnings ratio market price per share earnings per share used to evaluate if a stock is over or under priced a relatively low p e ratio could indicate that the company is under priced conversely investors expect high growth rate from companies with high p e ratio',\n",
       " 'dividend pay out ratio dividend per share earnings per share determines the portion of net income that is distributed to owners not all income is distributed since a significant portion is retained for the next year s operations',\n",
       " 'dividend yield ratio dividend per share market price per share measures the percentage of return through dividends when compared to the price paid for the stock a high yield is attractive to investors who are after dividends rather than long term capital appreciation',\n",
       " 'book value per share common she average common shares indicates the value of stock based on historical cost the value of common shareholders equity in the books of the company is divided by the average common shares outstanding']"
      ]
     },
     "execution_count": 172,
     "metadata": {},
     "output_type": "execute_result"
    }
   ],
   "source": [
    "clean_token"
   ]
  },
  {
   "cell_type": "code",
   "execution_count": null,
   "metadata": {},
   "outputs": [],
   "source": []
  },
  {
   "cell_type": "code",
   "execution_count": 191,
   "metadata": {},
   "outputs": [],
   "source": [
    "from tensorflow.keras import models, layers\n",
    "from sklearn.manifold import TSNE"
   ]
  },
  {
   "cell_type": "code",
   "execution_count": null,
   "metadata": {},
   "outputs": [],
   "source": []
  },
  {
   "cell_type": "code",
   "execution_count": null,
   "metadata": {},
   "outputs": [],
   "source": []
  },
  {
   "cell_type": "code",
   "execution_count": null,
   "metadata": {},
   "outputs": [],
   "source": []
  },
  {
   "cell_type": "code",
   "execution_count": null,
   "metadata": {},
   "outputs": [],
   "source": []
  },
  {
   "cell_type": "code",
   "execution_count": null,
   "metadata": {},
   "outputs": [],
   "source": []
  }
 ],
 "metadata": {
  "kernelspec": {
   "display_name": "Python 3",
   "language": "python",
   "name": "python3"
  },
  "language_info": {
   "codemirror_mode": {
    "name": "ipython",
    "version": 3
   },
   "file_extension": ".py",
   "mimetype": "text/x-python",
   "name": "python",
   "nbconvert_exporter": "python",
   "pygments_lexer": "ipython3",
   "version": "3.8.5"
  }
 },
 "nbformat": 4,
 "nbformat_minor": 4
}
